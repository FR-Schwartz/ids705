{
 "cells": [
  {
   "cell_type": "markdown",
   "metadata": {},
   "source": [
    "# Assignment 1 - Probability, Linear Algebra, & Computational Programming"
   ]
  },
  {
   "cell_type": "markdown",
   "metadata": {},
   "source": [
    "## *Fides Regina Schwartz*\n",
    "Netid: fs113"
   ]
  },
  {
   "cell_type": "markdown",
   "metadata": {},
   "source": [
    "#  Learning Objectives\n",
    "The purpose of this assignment is to provide a refresher on fundamental concepts that we will use throughout this course, and provide an opportunity to develop skills in any of the related skills that may be unfamiliar to you. Through the course of completing this assignment, you will... \n",
    "- Refresh you knowledge of probability theory including properties of random variables, probability density functions,  cumulative distribution functions, and key statistics such as mean and variance.\n",
    "- Revisit common linear algebra and matrix operations and concepts such as matrix multiplication, inner and outer products, inverses, the Hadamard (element-wise) product, eigenvalues and eigenvectors, orthogonality, and symmetry.\n",
    "- Practice numerical programming, core to machine learning, by loading and filtering data, plotting data, vectorizing operations, profiling code speed, and debugging and optimizing performance. You will also practice computing probabilities based on simulation.\n",
    "- Develop or refresh your knowledge of Git version control, which will be a core tool used in the final project of this course\n",
    "- Apply your skills altogether through an exploratory data analysis to practice data cleaning, data manipulation, interpretation, and communication \n",
    "\n",
    "We will build on these concepts throughout the course, so use this assignment as a catalyst to deepen your knowledge and seek help with anything that is unfamiliar."
   ]
  },
  {
   "cell_type": "markdown",
   "metadata": {},
   "source": [
    "# Probability and Statistics Theory"
   ]
  },
  {
   "cell_type": "markdown",
   "metadata": {},
   "source": [
    "*Note: for all assignments, write out all equations and math using markdown and [LaTeX](https://tobi.oetiker.ch/lshort/lshort.pdf). For this assignment show ALL math work*"
   ]
  },
  {
   "cell_type": "markdown",
   "metadata": {},
   "source": [
    "## Question 1\n",
    "**[3 points]**  \n",
    "Let $f(x) = \\begin{cases}\n",
    "                0           & x < 0  \\\\\n",
    "                \\alpha x^2  & 0 \\leq x \\leq 2 \\\\\n",
    "                0           & 2 < x\n",
    "            \\end{cases}$\n",
    "            \n",
    "For what value of $\\alpha$ is $f(x)$ a valid probability density function?"
   ]
  },
  {
   "cell_type": "markdown",
   "metadata": {},
   "source": [
    "**ANSWER 1**"
   ]
  },
  {
   "cell_type": "markdown",
   "metadata": {},
   "source": [
    "I need to integrate to 1 over the function domain and solve for $a$:\n",
    "\n",
    "First integrate to one:\n",
    "$$\\int_{0}^{2} ax^2 dx=1$$\n",
    "\n",
    "Then integrate over the function domain:\n",
    "$$\\int_{0}^{2} ax^2 dx= \\frac{a}{3}x^3 \\Big\\lvert_0^2 = \\frac{8}{3}a$$\n",
    "\n",
    "Finally, solve for a:\n",
    "$$a = \\frac{3}{8}$$"
   ]
  },
  {
   "cell_type": "markdown",
   "metadata": {},
   "source": [
    "## Question 2\n",
    "**[3 points]** What is the cumulative distribution function (CDF) that corresponds to the following probability distribution function? Please state the value of the CDF for all possible values of $x$.\n",
    "\n",
    "$f(x) = \\begin{cases}\n",
    "    \\frac{1}{3} & 0 < x < 3 \\\\\n",
    "    0           & \\text{otherwise}\n",
    "    \\end{cases}$"
   ]
  },
  {
   "cell_type": "markdown",
   "metadata": {},
   "source": [
    "To get the cumulative distribution function (CDF), $F(x)$, of a probability distribution function (PDF), $f(x)$, I need to calculate the integral of the PDF from $0$ to $x$. This example case has three parts. (1) $x\\leq0$, $F(x)=0$; (2) $(x\\geq3)$, $F(x)=1$. (3) calculate the integral:\n",
    "\n",
    "$$\\int_{0}^{x} \\frac{1}{3} dz = \\frac{1}{3} z \\Big\\lvert_0^x = \\frac{1}{3}x$$\n",
    "\n",
    "When combining them, the CDF is:\n",
    "\n",
    "$$F(x) = \\begin{cases}\n",
    "    0           &     x \\leq 0 \\\\\n",
    "    \\frac{x}{3} & 0 < x < 3 \\\\\n",
    "    1           & 3 \\leq x\n",
    "    \\end{cases}$$"
   ]
  },
  {
   "cell_type": "markdown",
   "metadata": {},
   "source": [
    "## Question 3\n",
    "**[6 points]** For the probability distribution function for the random variable $X$,\n",
    "\n",
    "$f(x) = \\begin{cases}\n",
    "    \\frac{1}{3} & 0 < x < 3 \\\\\n",
    "    0           & \\text{otherwise}\n",
    "    \\end{cases}$\n",
    "    \n",
    "what is the (a) expected value and (b) variance of $X$. *Show all work*."
   ]
  },
  {
   "cell_type": "markdown",
   "metadata": {},
   "source": [
    "**ANSWER 3**"
   ]
  },
  {
   "cell_type": "markdown",
   "metadata": {},
   "source": [
    "(a) What is the xpected value of $X$?\n",
    "\n",
    "\\begin{equation}\n",
    "\\begin{split}\n",
    "E[x] & = \\int_{-\\infty}^{\\infty} x f(x) dx \\\\\n",
    "     & = \\int_{0}^{3} x \\left(\\frac{1}{3}\\right) dx \\\\\n",
    "     & = \\frac{1}{6}x^2 \\Big\\lvert_0^3 \\\\\n",
    "     & = \\frac{9}{6} \\\\\n",
    "     & = \\frac{3}{2} \\end{split}\n",
    "\\end{equation}\n",
    "\n",
    "(b) What is the expected variance of $X$?\n",
    "\n",
    "To compute variance, $E[X]$, will be the starting point\n",
    "\n",
    "$$Var(X) = E[(X-E[X])^2] = E[x^2] - E[X]^2$$\n",
    "\n",
    "Next $E[X^2]$ can be computed:\n",
    "\n",
    "\\begin{equation}\n",
    "\\begin{split}\n",
    "E[x^2] & = \\int_{-\\infty}^{\\infty} x^2 f(x) dx \\\\\n",
    "       & = \\int_{0}^{3} x^2 \\left(\\frac{1}{3}\\right) dx \\\\\n",
    "       & = \\frac{1}{9}x^3 \\Big\\lvert_0^3 \\\\\n",
    "       & = \\frac{27}{9} \\\\\n",
    "       & = 3 \\end{split}\n",
    "\\end{equation}\n",
    "\n",
    "Finally, the variance can be computed as follows:\n",
    "\n",
    "$$Var(X) = E[x^2] - E[X]^2 = 3 - \\left(\\frac{3}{2}\\right) = \\frac{3}{4}$$"
   ]
  },
  {
   "cell_type": "markdown",
   "metadata": {},
   "source": [
    "## Question 4\n",
    "**[6 points]** Consider the following table of data that provides the values of a discrete data vector $\\mathbf{x}$ of samples from the random variable $X$, where each entry in $\\mathbf{x}$ is given as $x_i$.\n",
    "\n",
    "*Table 1. Dataset N=5 observations*\n",
    "\n",
    "|        | $x_0$ | $x_1$ | $x_2$ | $x_3$ | $x_4$ |\n",
    "|------  |-------|-------|-------|-------|-------|\n",
    "|$\\textbf{x}$| 2     | 3     | 10    | -1    | -1    |\n",
    "\n",
    "What is the (a) mean and (b) variance of the data? \n",
    "\n",
    "*Show all work. Your answer should include the definition of mean and variance in the context of discrete data. In this case, use the sample variance since the sample size is quite small*"
   ]
  },
  {
   "cell_type": "markdown",
   "metadata": {},
   "source": [
    "**ANSWER 4**"
   ]
  },
  {
   "cell_type": "markdown",
   "metadata": {},
   "source": [
    "(a) What is the mean of the given data?\n",
    "\n",
    "$$E[X] = \\frac{1}{N} \\displaystyle\\sum_i x_i = \\frac{2+3+10-1-1}{5} = \\frac{13}{5} = 2.6 $$\n",
    "\n",
    "(b) What is the variance of the given data?\n",
    "\n",
    "\\begin{equation}\n",
    "\\begin{split}\n",
    "    Var(X) &= E[(X-E[X])^2] \\\\\n",
    "         &= E[(X-(2.6)^2)] \\\\\n",
    "         &= \\frac{1}{N-1} \\displaystyle\\sum_i (x_i-(2.6)^2) \\\\\n",
    "         &= \\frac{(-0.6)^2+(0.4)^2+(7.4)^2+(-3.6)^2+(-3.6)^2}{4} \\\\\n",
    "         &= 20.3 \\end{split}\n",
    "\\end{equation}"
   ]
  },
  {
   "cell_type": "markdown",
   "metadata": {},
   "source": [
    "# Linear Algebra"
   ]
  },
  {
   "cell_type": "markdown",
   "metadata": {},
   "source": [
    "## Question 5\n",
    "**[14 points]** **Matrix manipulations and multiplication**. Machine learning involves working with many matrices, so this exercise will provide you with the opportunity to practice those skills.\n",
    "\n",
    "Let\n",
    "$\\mathbf{A} =  \\begin{bmatrix}\n",
    "1 & 2 & 3 \\\\\n",
    "2 & 4 & 5 \\\\\n",
    "3 & 5 & 6 \n",
    "\\end{bmatrix}$, $\\mathbf{b} =  \\begin{bmatrix}\n",
    "-1  \\\\\n",
    "3  \\\\\n",
    "8  \n",
    "\\end{bmatrix}$, $\\mathbf{c} =  \\begin{bmatrix}\n",
    "4  \\\\\n",
    "-3  \\\\\n",
    "6  \n",
    "\\end{bmatrix}$, and $\\mathbf{I} =  \\begin{bmatrix}\n",
    "1 & 0 & 0 \\\\\n",
    "0 & 1 & 0 \\\\\n",
    "0 & 0 & 1 \n",
    "\\end{bmatrix}$\n",
    "\n",
    "Compute the following (using Python) or indicate that it cannot be computed. Refer to numpy's tools for handling matrices.\n",
    "\n",
    "1. $\\mathbf{A}\\mathbf{A}$\n",
    "2. $\\mathbf{A}\\mathbf{A}^T$\n",
    "3. $\\mathbf{A}\\mathbf{b}$\n",
    "4. $\\mathbf{A}\\mathbf{b}^T$\n",
    "5. $\\mathbf{b}\\mathbf{A}$\n",
    "6. $\\mathbf{b}^T\\mathbf{A}$\n",
    "7. $\\mathbf{b}\\mathbf{b}$\n",
    "8. $\\mathbf{b}^T\\mathbf{b}$\n",
    "9. $\\mathbf{b}\\mathbf{b}^T$\n",
    "10. $\\mathbf{b} + \\mathbf{c}^T$\n",
    "11. $\\mathbf{b}^T\\mathbf{b}^T$\n",
    "12. $\\mathbf{A}^{-1}\\mathbf{b}$\n",
    "13. $\\mathbf{A}\\circ\\mathbf{A}$\n",
    "14. $\\mathbf{b}\\circ\\mathbf{c}$\n",
    "\n",
    "*Note: The element-wise (or Hadamard) product is the product of each element in one matrix with the corresponding element in another matrix, and is represented by the symbol \"$\\circ$\".*"
   ]
  },
  {
   "cell_type": "markdown",
   "metadata": {},
   "source": [
    "**ANSWER 5**"
   ]
  },
  {
   "cell_type": "code",
   "execution_count": 1,
   "metadata": {},
   "outputs": [],
   "source": [
    "%matplotlib inline\n",
    "import numpy as np\n",
    "\n",
    "# Turn matrices into vectors:\n",
    "A = np.array([[1, 2, 3],[2, 4, 5],[3, 5, 6]])\n",
    "b = np.array([-1, 3, 8])[np.newaxis].T\n",
    "c = np.array([4, -3, 6])[np.newaxis].T\n",
    "I = np.identity(3)"
   ]
  },
  {
   "cell_type": "markdown",
   "metadata": {},
   "source": [
    "1. Matrix AA"
   ]
  },
  {
   "cell_type": "code",
   "execution_count": 2,
   "metadata": {},
   "outputs": [
    {
     "name": "stdout",
     "output_type": "stream",
     "text": [
      "[3 x 3][3 x 3]\n",
      "[[14 25 31]\n",
      " [25 45 56]\n",
      " [31 56 70]]\n",
      "\n"
     ]
    }
   ],
   "source": [
    "print('[3 x 3][3 x 3]\\n{}\\n'.format(A.dot(A)))"
   ]
  },
  {
   "cell_type": "markdown",
   "metadata": {},
   "source": [
    "2. Matrix AA^T"
   ]
  },
  {
   "cell_type": "code",
   "execution_count": 3,
   "metadata": {},
   "outputs": [
    {
     "name": "stdout",
     "output_type": "stream",
     "text": [
      "[3 x 3][3 x 3]\n",
      "[[14 25 31]\n",
      " [25 45 56]\n",
      " [31 56 70]]\n",
      "\n"
     ]
    }
   ],
   "source": [
    "print('[3 x 3][3 x 3]\\n{}\\n'.format(A.dot(A.T)))"
   ]
  },
  {
   "cell_type": "markdown",
   "metadata": {},
   "source": [
    "3. Matrix Ab"
   ]
  },
  {
   "cell_type": "code",
   "execution_count": 4,
   "metadata": {},
   "outputs": [
    {
     "name": "stdout",
     "output_type": "stream",
     "text": [
      "[3 x 3][3 x 1]\n",
      "[[29]\n",
      " [50]\n",
      " [60]]\n",
      "\n"
     ]
    }
   ],
   "source": [
    "print('[3 x 3][3 x 1]\\n{}\\n'.format(A.dot(b)))"
   ]
  },
  {
   "cell_type": "markdown",
   "metadata": {},
   "source": [
    "4. Matrix Ab^T"
   ]
  },
  {
   "cell_type": "code",
   "execution_count": 5,
   "metadata": {},
   "outputs": [
    {
     "name": "stdout",
     "output_type": "stream",
     "text": [
      "[3 x 3][1 x 3]\n",
      "Cannot be computed\n",
      "\n"
     ]
    }
   ],
   "source": [
    "print('[3 x 3][1 x 3]\\n{}\\n'.format('Cannot be computed'))"
   ]
  },
  {
   "cell_type": "markdown",
   "metadata": {},
   "source": [
    "5. Matrix bA"
   ]
  },
  {
   "cell_type": "code",
   "execution_count": 6,
   "metadata": {},
   "outputs": [
    {
     "name": "stdout",
     "output_type": "stream",
     "text": [
      "[3 x 1][3 x 3]\n",
      "Cannot be computed\n",
      "\n"
     ]
    }
   ],
   "source": [
    "print('[3 x 1][3 x 3]\\n{}\\n'.format('Cannot be computed'))"
   ]
  },
  {
   "cell_type": "markdown",
   "metadata": {},
   "source": [
    "6. Matrix b^TA"
   ]
  },
  {
   "cell_type": "code",
   "execution_count": 7,
   "metadata": {},
   "outputs": [
    {
     "name": "stdout",
     "output_type": "stream",
     "text": [
      "[1 x 3][3 x 3]\n",
      "[[29 50 60]]\n",
      "\n"
     ]
    }
   ],
   "source": [
    "print('[1 x 3][3 x 3]\\n{}\\n'.format( b.T.dot(A)))"
   ]
  },
  {
   "cell_type": "markdown",
   "metadata": {},
   "source": [
    "7. Matrix bb"
   ]
  },
  {
   "cell_type": "code",
   "execution_count": 8,
   "metadata": {},
   "outputs": [
    {
     "name": "stdout",
     "output_type": "stream",
     "text": [
      "[3 x 1][3 x 1]\n",
      "Cannot be computed\n",
      "\n"
     ]
    }
   ],
   "source": [
    "print('[3 x 1][3 x 1]\\n{}\\n'.format( 'Cannot be computed'))"
   ]
  },
  {
   "cell_type": "markdown",
   "metadata": {},
   "source": [
    "8. Matrix b^T b"
   ]
  },
  {
   "cell_type": "code",
   "execution_count": 9,
   "metadata": {},
   "outputs": [
    {
     "name": "stdout",
     "output_type": "stream",
     "text": [
      "[1 x 3][3 x 1]\n",
      "[[74]]\n",
      "\n"
     ]
    }
   ],
   "source": [
    "print('[1 x 3][3 x 1]\\n{}\\n'.format( b.T.dot(b)))"
   ]
  },
  {
   "cell_type": "markdown",
   "metadata": {},
   "source": [
    "9. Matrix bb^T"
   ]
  },
  {
   "cell_type": "code",
   "execution_count": 10,
   "metadata": {},
   "outputs": [
    {
     "name": "stdout",
     "output_type": "stream",
     "text": [
      "[3 x 1][1 x 3]\n",
      "[[ 1 -3 -8]\n",
      " [-3  9 24]\n",
      " [-8 24 64]]\n",
      "\n"
     ]
    }
   ],
   "source": [
    "print('[3 x 1][1 x 3]\\n{}\\n'.format(b.dot(b.T)))"
   ]
  },
  {
   "cell_type": "markdown",
   "metadata": {},
   "source": [
    "10. Matrix b + c^T"
   ]
  },
  {
   "cell_type": "code",
   "execution_count": 11,
   "metadata": {},
   "outputs": [
    {
     "name": "stdout",
     "output_type": "stream",
     "text": [
      "[3 x 1] + [1 x 3]\n",
      "Cannot be computed\n",
      "\n"
     ]
    }
   ],
   "source": [
    "print('[3 x 1] + [1 x 3]\\n{}\\n'.format('Cannot be computed'))"
   ]
  },
  {
   "cell_type": "markdown",
   "metadata": {},
   "source": [
    "11. Matrix b^T b^T"
   ]
  },
  {
   "cell_type": "code",
   "execution_count": 12,
   "metadata": {},
   "outputs": [
    {
     "name": "stdout",
     "output_type": "stream",
     "text": [
      "[3 x 1][3 x 1]\n",
      "Cannot be computed\n",
      "\n"
     ]
    }
   ],
   "source": [
    "print('[3 x 1][3 x 1]\\n{}\\n'.format('Cannot be computed'))"
   ]
  },
  {
   "cell_type": "markdown",
   "metadata": {},
   "source": [
    "12. Matrix A^-1 b"
   ]
  },
  {
   "cell_type": "code",
   "execution_count": 13,
   "metadata": {},
   "outputs": [
    {
     "name": "stdout",
     "output_type": "stream",
     "text": [
      "[3 x 3][3 x 1]\n",
      "[[ 6.]\n",
      " [ 4.]\n",
      " [-5.]]\n",
      "\n"
     ]
    }
   ],
   "source": [
    "print('[3 x 3][3 x 1]\\n{}\\n'.format(np.linalg.inv(A).dot(b)))"
   ]
  },
  {
   "cell_type": "markdown",
   "metadata": {},
   "source": [
    "13. Matrix A o A"
   ]
  },
  {
   "cell_type": "code",
   "execution_count": 14,
   "metadata": {},
   "outputs": [
    {
     "name": "stdout",
     "output_type": "stream",
     "text": [
      "[3 x 3] o [3 x 3]\n",
      "[[ 1  4  9]\n",
      " [ 4 16 25]\n",
      " [ 9 25 36]]\n",
      "\n"
     ]
    }
   ],
   "source": [
    "print('[3 x 3] o [3 x 3]\\n{}\\n'.format(A*A))"
   ]
  },
  {
   "cell_type": "markdown",
   "metadata": {},
   "source": [
    "14. Matrix b o c"
   ]
  },
  {
   "cell_type": "code",
   "execution_count": 15,
   "metadata": {},
   "outputs": [
    {
     "name": "stdout",
     "output_type": "stream",
     "text": [
      "[3 x 3] o [3 x 3]\n",
      "[[-4]\n",
      " [-9]\n",
      " [48]]\n",
      "\n"
     ]
    }
   ],
   "source": [
    "print('[3 x 3] o [3 x 3]\\n{}\\n'.format( b*c ))"
   ]
  },
  {
   "cell_type": "markdown",
   "metadata": {},
   "source": [
    "## Question 6\n",
    "**[8 points]** **Eigenvectors and eigenvalues**. Eigenvectors and eigenvalues are useful for some machine learning algorithms, but the concepts take time to solidly grasp. They are used extensively in machine learning and in this course we will encounter them in relation to Principal Components Analysis (PCA), clustering algorithms, For an intuitive review of these concepts, explore this [interactive website at Setosa.io](http://setosa.io/ev/eigenvectors-and-eigenvalues/). Also, the series of linear algebra videos by Grant Sanderson of 3Brown1Blue are excellent and can be viewed on youtube [here](https://www.youtube.com/playlist?list=PLZHQObOWTQDPD3MizzM2xVFitgF8hE_ab). For these questions, numpy may once again be helpful.\n",
    "\n",
    "1. Calculate the eigenvalues and corresponding eigenvectors of matrix $\\mathbf{A}$ above, from the last question.\n",
    "2. Choose one of the eigenvector/eigenvalue pairs, $\\mathbf{v}$ and $\\lambda$, and show that $\\mathbf{A} \\mathbf{v} = \\lambda \\mathbf{v}$. This relationship extends to higher orders: $\\mathbf{A} \\mathbf{A} \\mathbf{v} = \\lambda^2 \\mathbf{v}$\n",
    "3. Show that the eigenvectors are orthogonal to one another (e.g. their inner product is zero). This is true for eigenvectors from real, symmetric matrices. In three dimensions or less, this means that the eigenvectors are perpendicular to each other. Typically we use the orthogonal basis of our standard x, y, and z, Cartesian coordinates, which allows us, if we combine them linearly, to represent any point in a 3D space. But any three orthogonal vectors can do the same. We will see this property is used in PCA to identify the dimensions of greatest variation in our data when we discuss dimensionality reduction."
   ]
  },
  {
   "cell_type": "markdown",
   "metadata": {},
   "source": [
    "**ANSWER 6**"
   ]
  },
  {
   "cell_type": "markdown",
   "metadata": {},
   "source": [
    "Prelim: Replicate Matrix $A$ from last question."
   ]
  },
  {
   "cell_type": "code",
   "execution_count": 16,
   "metadata": {},
   "outputs": [],
   "source": [
    "#import numpy as np\n",
    "\n",
    "A = np.array([[1, 2, 3],[2, 4, 5],[3, 5, 6]])"
   ]
  },
  {
   "cell_type": "markdown",
   "metadata": {},
   "source": [
    "1. Calculate the eigenvalues and corresponding eigenvectors of matrix $A$"
   ]
  },
  {
   "cell_type": "code",
   "execution_count": 17,
   "metadata": {},
   "outputs": [
    {
     "name": "stdout",
     "output_type": "stream",
     "text": [
      "Eigenvalues:\n",
      "[11.34481428 -0.51572947  0.17091519]\n",
      "\n",
      "Eigenvectors:\n",
      "[[-0.32798528 -0.73697623  0.59100905]\n",
      " [-0.59100905 -0.32798528 -0.73697623]\n",
      " [-0.73697623  0.59100905  0.32798528]]\n",
      "\n"
     ]
    }
   ],
   "source": [
    "eigval, eigvec = np.linalg.eig(A)\n",
    "print('Eigenvalues:\\n{}\\n'.format(eigval))\n",
    "print('Eigenvectors:\\n{}\\n'.format(eigvec))"
   ]
  },
  {
   "cell_type": "markdown",
   "metadata": {},
   "source": [
    "2. Choose one of the eigenvector/eigenvalue pairs, $\\mathbf{v}$ and $\\lambda$, and show that $\\mathbf{A} \\mathbf{v} = \\lambda \\mathbf{v}$"
   ]
  },
  {
   "cell_type": "code",
   "execution_count": 18,
   "metadata": {},
   "outputs": [
    {
     "name": "stdout",
     "output_type": "stream",
     "text": [
      "Av = \n",
      "[ 0.10101242 -0.12596043  0.05605767]\n",
      "\n",
      "Lambda v = \n",
      "[ 0.10101242 -0.12596043  0.05605767]\n",
      "\n"
     ]
    }
   ],
   "source": [
    "vec = eigvec[:,2]\n",
    "val  = eigval[2]\n",
    "Av = A.dot(vec)\n",
    "lamv = val * vec\n",
    "print('Av = \\n{}\\n'.format(Av))\n",
    "print('Lambda v = \\n{}\\n'.format(lamv))"
   ]
  },
  {
   "cell_type": "markdown",
   "metadata": {},
   "source": [
    "3. Show that the eigenvectors are orthogonal to one another"
   ]
  },
  {
   "cell_type": "code",
   "execution_count": 19,
   "metadata": {},
   "outputs": [
    {
     "name": "stdout",
     "output_type": "stream",
     "text": [
      "Inner product of eigenvector 0 and 1 = -0.0000\n",
      "Inner product of eigenvector 0 and 2 = -0.0000\n",
      "Inner product of eigenvector 1 and 2 = -0.0000\n"
     ]
    }
   ],
   "source": [
    "# Take the inner products between vectors and demonstrate that they equal zero\n",
    "pairings = [(0,1),(0,2),(1,2)]\n",
    "for (i,pair) in enumerate(pairings):\n",
    "    inner_prod = np.inner(eigvec[:,pair[0]],eigvec[:,pair[1]])\n",
    "    print('Inner product of eigenvector {} and {} = {:.4f}'.format(pair[0],pair[1],inner_prod))"
   ]
  },
  {
   "cell_type": "markdown",
   "metadata": {},
   "source": [
    "# Numerical Programming"
   ]
  },
  {
   "cell_type": "markdown",
   "metadata": {},
   "source": [
    "## Question 7\n",
    "**[10 points]** Loading data and gathering insights from a real dataset\n",
    "\n",
    "In data science, we often need to have a sense of the idiosyncrasies of the data, how they relate to the questions we are trying to answer, and to use that information to help us to determine what approach, such as machine learning, we may need to apply to achieve our goal. This exercise provides practice in exploring a dataset and answering question that might arise from applications related to the data.\n",
    "\n",
    "**Data**. The data for this problem can be found in the `data` subfolder in the `assignments` folder on [github](https://github.com/kylebradbury/ids705). The filename is `a1_egrid2016.xlsx`. This dataset is the Environmental Protection Agency's (EPA) [Emissions & Generation Resource Integrated Database (eGRID)](https://www.epa.gov/energy/emissions-generation-resource-integrated-database-egrid) containing information about all power plants in the United States, the amount of generation they produce, what fuel they use, the location of the plant, and many more quantities. We'll be using a subset of those data.\n",
    "\n",
    "The fields we'll be using include:\t\t\t\t\t\n",
    "    \n",
    "|field    |description|\n",
    "|:-----   |:-----|\n",
    "|SEQPLT16 |eGRID2016 Plant file sequence number (the index)| \n",
    "|PSTATABB |Plant state abbreviation|\n",
    "|PNAME    |Plant name |\n",
    "|LAT      |Plant latitude |\n",
    "|LON      |Plant longitude|\n",
    "|PLPRMFL  |Plant primary fuel |\n",
    "|CAPFAC   |Plant capacity factor |\n",
    "|NAMEPCAP |Plant nameplate capacity (Megawatts MW)|\n",
    "|PLNGENAN |Plant annual net generation (Megawatt-hours MWh)|\n",
    "|PLCO2EQA |Plant annual CO2 equivalent emissions (tons)|\n",
    "\n",
    "For more details on the data, you can refer to the [eGrid technical documents](https://www.epa.gov/sites/default/files/2021-02/documents/egrid2019_technical_guide.pdf). For example, you may want to review page 45 and the section \"Plant Primary Fuel (PLPRMFL)\", which gives the full names of the fuel types including WND for wind, NG for natural gas, BIT for Bituminous coal, etc.\n",
    "\n",
    "There also are a couple of \"gotchas\" to watch out for with this dataset:\n",
    "- The headers are on the second row and you'll want to ignore the first row (they're more detailed descriptions of the headers).\n",
    "- NaN values represent blanks in the data. These will appear regularly in real-world data, so getting experience working with it will be important.\n",
    "\n",
    "**Your objective**. For this dataset, your goal is answer the following questions about electricity generation in the United States:\n",
    "\n",
    "**(a)** Which plant has generated the most energy (measured in MWh)?\n",
    "\n",
    "**(b)** What is the name of the northern-most power plant in the United States?\n",
    "\n",
    "**(c)** What is the state where the northern-most power plant in the United States is located?\n",
    "\n",
    "**(d)** Plot a bar plot showing the amount of energy produced by each fuel type across all plants. \n",
    "\n",
    "**(e)** From the plot in (d), which fuel for generation produces the most energy (MWh) in the United States?"
   ]
  },
  {
   "cell_type": "markdown",
   "metadata": {},
   "source": [
    "**ANSWER 7**"
   ]
  },
  {
   "cell_type": "markdown",
   "metadata": {},
   "source": [
    "Setup"
   ]
  },
  {
   "cell_type": "code",
   "execution_count": 20,
   "metadata": {},
   "outputs": [],
   "source": [
    "import pandas as pd\n",
    "\n",
    "egrid = pd.read_excel('./data/a1_egrid2016.xlsx', skiprows=[0])"
   ]
  },
  {
   "cell_type": "markdown",
   "metadata": {},
   "source": [
    "Look at data"
   ]
  },
  {
   "cell_type": "code",
   "execution_count": 21,
   "metadata": {},
   "outputs": [
    {
     "data": {
      "text/html": [
       "<div>\n",
       "<style scoped>\n",
       "    .dataframe tbody tr th:only-of-type {\n",
       "        vertical-align: middle;\n",
       "    }\n",
       "\n",
       "    .dataframe tbody tr th {\n",
       "        vertical-align: top;\n",
       "    }\n",
       "\n",
       "    .dataframe thead th {\n",
       "        text-align: right;\n",
       "    }\n",
       "</style>\n",
       "<table border=\"1\" class=\"dataframe\">\n",
       "  <thead>\n",
       "    <tr style=\"text-align: right;\">\n",
       "      <th></th>\n",
       "      <th>SEQPLT16</th>\n",
       "      <th>LAT</th>\n",
       "      <th>LON</th>\n",
       "      <th>CAPFAC</th>\n",
       "      <th>NAMEPCAP</th>\n",
       "      <th>PLNGENAN</th>\n",
       "      <th>PLCO2EQA</th>\n",
       "    </tr>\n",
       "  </thead>\n",
       "  <tbody>\n",
       "    <tr>\n",
       "      <th>count</th>\n",
       "      <td>9709.000000</td>\n",
       "      <td>9668.000000</td>\n",
       "      <td>9668.000000</td>\n",
       "      <td>8038.000000</td>\n",
       "      <td>9696.000000</td>\n",
       "      <td>8.038000e+03</td>\n",
       "      <td>7.669000e+03</td>\n",
       "    </tr>\n",
       "    <tr>\n",
       "      <th>mean</th>\n",
       "      <td>4855.000000</td>\n",
       "      <td>38.873614</td>\n",
       "      <td>-95.260340</td>\n",
       "      <td>0.274646</td>\n",
       "      <td>156.250701</td>\n",
       "      <td>5.070070e+05</td>\n",
       "      <td>2.668082e+05</td>\n",
       "    </tr>\n",
       "    <tr>\n",
       "      <th>std</th>\n",
       "      <td>2802.891216</td>\n",
       "      <td>5.611971</td>\n",
       "      <td>18.820395</td>\n",
       "      <td>0.238365</td>\n",
       "      <td>409.463191</td>\n",
       "      <td>1.880041e+06</td>\n",
       "      <td>1.272092e+06</td>\n",
       "    </tr>\n",
       "    <tr>\n",
       "      <th>min</th>\n",
       "      <td>1.000000</td>\n",
       "      <td>18.974200</td>\n",
       "      <td>-188.551181</td>\n",
       "      <td>0.000000</td>\n",
       "      <td>0.000000</td>\n",
       "      <td>-7.686200e+05</td>\n",
       "      <td>0.000000e+00</td>\n",
       "    </tr>\n",
       "    <tr>\n",
       "      <th>25%</th>\n",
       "      <td>2428.000000</td>\n",
       "      <td>35.053572</td>\n",
       "      <td>-112.417822</td>\n",
       "      <td>0.064130</td>\n",
       "      <td>3.500000</td>\n",
       "      <td>2.948750e+03</td>\n",
       "      <td>0.000000e+00</td>\n",
       "    </tr>\n",
       "    <tr>\n",
       "      <th>50%</th>\n",
       "      <td>4855.000000</td>\n",
       "      <td>39.307100</td>\n",
       "      <td>-91.729028</td>\n",
       "      <td>0.226670</td>\n",
       "      <td>13.200000</td>\n",
       "      <td>1.721800e+04</td>\n",
       "      <td>0.000000e+00</td>\n",
       "    </tr>\n",
       "    <tr>\n",
       "      <th>75%</th>\n",
       "      <td>7282.000000</td>\n",
       "      <td>42.350222</td>\n",
       "      <td>-79.298845</td>\n",
       "      <td>0.408420</td>\n",
       "      <td>94.600000</td>\n",
       "      <td>1.568880e+05</td>\n",
       "      <td>5.500285e+03</td>\n",
       "    </tr>\n",
       "    <tr>\n",
       "      <th>max</th>\n",
       "      <td>9709.000000</td>\n",
       "      <td>71.292000</td>\n",
       "      <td>-67.003300</td>\n",
       "      <td>1.854950</td>\n",
       "      <td>6809.000000</td>\n",
       "      <td>3.237748e+07</td>\n",
       "      <td>2.172499e+07</td>\n",
       "    </tr>\n",
       "  </tbody>\n",
       "</table>\n",
       "</div>"
      ],
      "text/plain": [
       "          SEQPLT16          LAT          LON       CAPFAC     NAMEPCAP  \\\n",
       "count  9709.000000  9668.000000  9668.000000  8038.000000  9696.000000   \n",
       "mean   4855.000000    38.873614   -95.260340     0.274646   156.250701   \n",
       "std    2802.891216     5.611971    18.820395     0.238365   409.463191   \n",
       "min       1.000000    18.974200  -188.551181     0.000000     0.000000   \n",
       "25%    2428.000000    35.053572  -112.417822     0.064130     3.500000   \n",
       "50%    4855.000000    39.307100   -91.729028     0.226670    13.200000   \n",
       "75%    7282.000000    42.350222   -79.298845     0.408420    94.600000   \n",
       "max    9709.000000    71.292000   -67.003300     1.854950  6809.000000   \n",
       "\n",
       "           PLNGENAN      PLCO2EQA  \n",
       "count  8.038000e+03  7.669000e+03  \n",
       "mean   5.070070e+05  2.668082e+05  \n",
       "std    1.880041e+06  1.272092e+06  \n",
       "min   -7.686200e+05  0.000000e+00  \n",
       "25%    2.948750e+03  0.000000e+00  \n",
       "50%    1.721800e+04  0.000000e+00  \n",
       "75%    1.568880e+05  5.500285e+03  \n",
       "max    3.237748e+07  2.172499e+07  "
      ]
     },
     "execution_count": 21,
     "metadata": {},
     "output_type": "execute_result"
    }
   ],
   "source": [
    "egrid.describe()"
   ]
  },
  {
   "cell_type": "code",
   "execution_count": 22,
   "metadata": {},
   "outputs": [
    {
     "data": {
      "text/html": [
       "<div>\n",
       "<style scoped>\n",
       "    .dataframe tbody tr th:only-of-type {\n",
       "        vertical-align: middle;\n",
       "    }\n",
       "\n",
       "    .dataframe tbody tr th {\n",
       "        vertical-align: top;\n",
       "    }\n",
       "\n",
       "    .dataframe thead th {\n",
       "        text-align: right;\n",
       "    }\n",
       "</style>\n",
       "<table border=\"1\" class=\"dataframe\">\n",
       "  <thead>\n",
       "    <tr style=\"text-align: right;\">\n",
       "      <th></th>\n",
       "      <th>SEQPLT16</th>\n",
       "      <th>PSTATABB</th>\n",
       "      <th>PNAME</th>\n",
       "      <th>LAT</th>\n",
       "      <th>LON</th>\n",
       "      <th>PLPRMFL</th>\n",
       "      <th>CAPFAC</th>\n",
       "      <th>NAMEPCAP</th>\n",
       "      <th>PLNGENAN</th>\n",
       "      <th>PLCO2EQA</th>\n",
       "    </tr>\n",
       "  </thead>\n",
       "  <tbody>\n",
       "    <tr>\n",
       "      <th>0</th>\n",
       "      <td>1</td>\n",
       "      <td>AK</td>\n",
       "      <td>7-Mile Ridge Wind Project</td>\n",
       "      <td>63.210689</td>\n",
       "      <td>-143.247156</td>\n",
       "      <td>WND</td>\n",
       "      <td>NaN</td>\n",
       "      <td>1.8</td>\n",
       "      <td>NaN</td>\n",
       "      <td>NaN</td>\n",
       "    </tr>\n",
       "    <tr>\n",
       "      <th>1</th>\n",
       "      <td>2</td>\n",
       "      <td>AK</td>\n",
       "      <td>Agrium Kenai Nitrogen Operations</td>\n",
       "      <td>60.673200</td>\n",
       "      <td>-151.378400</td>\n",
       "      <td>NG</td>\n",
       "      <td>NaN</td>\n",
       "      <td>21.6</td>\n",
       "      <td>NaN</td>\n",
       "      <td>NaN</td>\n",
       "    </tr>\n",
       "    <tr>\n",
       "      <th>2</th>\n",
       "      <td>3</td>\n",
       "      <td>AK</td>\n",
       "      <td>Alakanuk</td>\n",
       "      <td>62.683300</td>\n",
       "      <td>-164.654400</td>\n",
       "      <td>DFO</td>\n",
       "      <td>0.05326</td>\n",
       "      <td>2.6</td>\n",
       "      <td>1213.001</td>\n",
       "      <td>1049.863</td>\n",
       "    </tr>\n",
       "    <tr>\n",
       "      <th>3</th>\n",
       "      <td>4</td>\n",
       "      <td>AK</td>\n",
       "      <td>Allison Creek Hydro</td>\n",
       "      <td>61.084444</td>\n",
       "      <td>-146.353333</td>\n",
       "      <td>WAT</td>\n",
       "      <td>0.01547</td>\n",
       "      <td>6.5</td>\n",
       "      <td>881.000</td>\n",
       "      <td>0.000</td>\n",
       "    </tr>\n",
       "    <tr>\n",
       "      <th>4</th>\n",
       "      <td>5</td>\n",
       "      <td>AK</td>\n",
       "      <td>Ambler</td>\n",
       "      <td>67.087980</td>\n",
       "      <td>-157.856719</td>\n",
       "      <td>DFO</td>\n",
       "      <td>0.13657</td>\n",
       "      <td>1.1</td>\n",
       "      <td>1315.999</td>\n",
       "      <td>1087.881</td>\n",
       "    </tr>\n",
       "  </tbody>\n",
       "</table>\n",
       "</div>"
      ],
      "text/plain": [
       "   SEQPLT16 PSTATABB                             PNAME        LAT         LON  \\\n",
       "0         1       AK         7-Mile Ridge Wind Project  63.210689 -143.247156   \n",
       "1         2       AK  Agrium Kenai Nitrogen Operations  60.673200 -151.378400   \n",
       "2         3       AK                          Alakanuk  62.683300 -164.654400   \n",
       "3         4       AK               Allison Creek Hydro  61.084444 -146.353333   \n",
       "4         5       AK                            Ambler  67.087980 -157.856719   \n",
       "\n",
       "  PLPRMFL   CAPFAC  NAMEPCAP  PLNGENAN  PLCO2EQA  \n",
       "0     WND      NaN       1.8       NaN       NaN  \n",
       "1      NG      NaN      21.6       NaN       NaN  \n",
       "2     DFO  0.05326       2.6  1213.001  1049.863  \n",
       "3     WAT  0.01547       6.5   881.000     0.000  \n",
       "4     DFO  0.13657       1.1  1315.999  1087.881  "
      ]
     },
     "execution_count": 22,
     "metadata": {},
     "output_type": "execute_result"
    }
   ],
   "source": [
    "egrid.head()"
   ]
  },
  {
   "cell_type": "markdown",
   "metadata": {},
   "source": [
    "**(a)** Which plant has generated the most energy (measured in MWh)?"
   ]
  },
  {
   "cell_type": "code",
   "execution_count": 23,
   "metadata": {},
   "outputs": [
    {
     "name": "stdout",
     "output_type": "stream",
     "text": [
      "The plant that generated the most energy is: Palo Verde.\n"
     ]
    }
   ],
   "source": [
    "most = egrid.sort_values(by='PLNGENAN', ascending=False)['PNAME'].iloc[0]\n",
    "print(f\"The plant that generated the most energy is: {most}.\")"
   ]
  },
  {
   "cell_type": "markdown",
   "metadata": {},
   "source": [
    "**(b)** What is the name of the northern-most power plant in the United States?"
   ]
  },
  {
   "cell_type": "code",
   "execution_count": 24,
   "metadata": {},
   "outputs": [
    {
     "name": "stdout",
     "output_type": "stream",
     "text": [
      "The northern-most plant in the US is: Barrow.\n"
     ]
    }
   ],
   "source": [
    "north = egrid.sort_values(by='LAT', ascending=False)['PNAME'].iloc[0]\n",
    "print(f\"The northern-most plant in the US is: {north}.\")"
   ]
  },
  {
   "cell_type": "markdown",
   "metadata": {},
   "source": [
    "**(c)** What is the state where the northern-most power plant in the United States is located?"
   ]
  },
  {
   "cell_type": "code",
   "execution_count": 25,
   "metadata": {},
   "outputs": [
    {
     "name": "stdout",
     "output_type": "stream",
     "text": [
      "The state that contains the northern-most plant in the US is: AK.\n"
     ]
    }
   ],
   "source": [
    "state = egrid.sort_values(by='LAT', ascending=False)['PSTATABB'].iloc[0]\n",
    "print(f\"The state that contains the northern-most plant in the US is: {state}.\")"
   ]
  },
  {
   "cell_type": "markdown",
   "metadata": {},
   "source": [
    "**(d)** Plot a bar plot showing the amount of energy produced by each fuel type for the plants. x axis: primary fuel, y axis: power generation (in MWh)."
   ]
  },
  {
   "cell_type": "code",
   "execution_count": 26,
   "metadata": {},
   "outputs": [
    {
     "data": {
      "image/png": "[encoded data removed]",
      "text/plain": [
       "<Figure size 432x288 with 1 Axes>"
      ]
     },
     "metadata": {
      "needs_background": "light"
     },
     "output_type": "display_data"
    }
   ],
   "source": [
    "import matplotlib.pyplot as plt\n",
    "\n",
    "fuel_type_grouping = egrid.groupby('PLPRMFL').sum()\n",
    "fuel_and_power_generation    = fuel_type_grouping[['PLNGENAN']]\n",
    "\n",
    "fuel_and_power_generation.plot.bar()\n",
    "plt.ylabel('Power Generation (MWh)')\n",
    "plt.xlabel('Fuel Type')\n",
    "plt.show()"
   ]
  },
  {
   "cell_type": "markdown",
   "metadata": {},
   "source": [
    "**(e)** From the plot in (d), which fuel for generation produces the most energy (MWh) in the United States?"
   ]
  },
  {
   "cell_type": "code",
   "execution_count": 27,
   "metadata": {},
   "outputs": [
    {
     "name": "stdout",
     "output_type": "stream",
     "text": [
      "The fuel used for power generation that produces the most energy in the US is: NG.\n"
     ]
    }
   ],
   "source": [
    "fuel = fuel_and_power_generation[fuel_and_power_generation['PLNGENAN'] == fuel_and_power_generation['PLNGENAN'].max()].index[0]\n",
    "print(f\"The fuel used for power generation that produces the most energy in the US is: {fuel}.\")"
   ]
  },
  {
   "cell_type": "markdown",
   "metadata": {},
   "source": [
    "## Question 8\n",
    "**[6 points]** *Vectorization*. When we first learn to code and think about iterating over an array, we often use loops. If implemented correctly, that does the trick. In machine learning, we iterate over so much data that those loops can lead to significant slow downs if they are not computationally efficient. In Python, vectorizing code and relying on matrix operations with efficient tools like numpy is typically the faster approach. Of course, numpy relies on loops to complete the computation, but this is at a lower level of programming (typically in C), and therefore is much more efficient. This exercise will explore the benefits of vectorization. Since many machine learning techniques rely on matrix operations, it's helpful to begin thinking about implementing algorithms using vector forms.\n",
    "\n",
    "Begin by creating an array of 10 million random numbers using the numpy `random.randn` module. Compute the sum of the squares of those random numbers first in a for loop, then using Numpy's `dot` module to perform an inner (dot) product. Time how long it takes to compute each and report the results and report the output. How many times faster is the vectorized code than the for loop approach? (Note - your results may vary from run to run).\n",
    "\n",
    "Your output should use the `print()` function as follows (where the # symbols represent your answers, to a reasonable precision of 4-5 significant figures):\n",
    "\n",
    "`Time [sec] (non-vectorized): ######`\n",
    "\n",
    "`Time [sec] (vectorized):     ######`\n",
    "\n",
    "`The vectorized code is ##### times faster than the nonvectorized code`"
   ]
  },
  {
   "cell_type": "markdown",
   "metadata": {},
   "source": [
    "**ANSWER 8**"
   ]
  },
  {
   "cell_type": "markdown",
   "metadata": {},
   "source": [
    "Setup"
   ]
  },
  {
   "cell_type": "code",
   "execution_count": 28,
   "metadata": {},
   "outputs": [],
   "source": [
    "#import numpy as np\n",
    "import time\n",
    "\n",
    "# Generate random samples\n",
    "x = np.random.randn(10000000)"
   ]
  },
  {
   "cell_type": "markdown",
   "metadata": {},
   "source": [
    "For loop to compute sum of squares:"
   ]
  },
  {
   "cell_type": "code",
   "execution_count": 29,
   "metadata": {},
   "outputs": [
    {
     "name": "stdout",
     "output_type": "stream",
     "text": [
      "Time [sec] (non-vectorized): 3.9731\n"
     ]
    }
   ],
   "source": [
    "t0 = time.time()\n",
    "sum_of_squares = 0\n",
    "for value in x:\n",
    "    sum_of_squares += value**2\n",
    "t1 = time.time()\n",
    "time_nonvector = t1 - t0  \n",
    "print('Time [sec] (non-vectorized): {:0.4f}'.format(time_nonvector))"
   ]
  },
  {
   "cell_type": "markdown",
   "metadata": {},
   "source": [
    "Numpy to compute sum of squares:"
   ]
  },
  {
   "cell_type": "code",
   "execution_count": 30,
   "metadata": {},
   "outputs": [
    {
     "name": "stdout",
     "output_type": "stream",
     "text": [
      "Time [sec] (vectorized): 0.0190\n"
     ]
    }
   ],
   "source": [
    "t0 = time.time()\n",
    "sum_of_squares = np.dot(x,x)\n",
    "t1 = time.time()\n",
    "time_vector = t1 - t0\n",
    "print('Time [sec] (vectorized): {:0.4f}'.format(time_vector))"
   ]
  },
  {
   "cell_type": "code",
   "execution_count": 31,
   "metadata": {},
   "outputs": [
    {
     "name": "stdout",
     "output_type": "stream",
     "text": [
      "The vectorized code is 209.6 times faster than the non-vectorized code\n"
     ]
    }
   ],
   "source": [
    "print('The vectorized code is {:0.1f} times faster than the non-vectorized code'.format(time_nonvector/time_vector))"
   ]
  },
  {
   "cell_type": "markdown",
   "metadata": {},
   "source": [
    "## Question 9\n",
    "**[10 points]** This exercise will walk through some basic numerical programming and probabilistic thinking exercises, two skills which are frequently use in machine learning for answering questions from our data.\n",
    "1. Synthesize $n=10^4$ normally distributed data points with mean $\\mu=2$ and a standard deviation of $\\sigma=1$. Call these observations from a random variable $X$, and call the vector of observations that you generate, $\\textbf{x}$.\n",
    "2. Calculate the mean and standard deviation of $\\textbf{x}$ to validate (1) and provide the result to a precision of four significant figures.\n",
    "3. Plot a histogram of the data in $\\textbf{x}$ with 30 bins\n",
    "4. What is the 90th percentile of $\\textbf{x}$? The 90th percentile is the value below which 90% of observations can be found.\n",
    "5. What is the 99th percentile of $\\textbf{x}$?\n",
    "6. Now synthesize $n=10^4$ normally distributed data points with mean $\\mu=0$ and a standard deviation of $\\sigma=3$. Call these observations from a random variable $Y$, and call the vector of observations that you generate, $\\textbf{y}$.\n",
    "7. Create a new figure and plot the histogram of the data in $\\textbf{y}$ on the same axes with the histogram of $\\textbf{x}$, so that both histograms can be seen and compared.\n",
    "8. Using the observations from $\\textbf{x}$ and $\\textbf{y}$, estimate $E[XY]$"
   ]
  },
  {
   "cell_type": "markdown",
   "metadata": {},
   "source": [
    "**ANSWER 9**"
   ]
  },
  {
   "cell_type": "markdown",
   "metadata": {},
   "source": [
    "Setup"
   ]
  },
  {
   "cell_type": "code",
   "execution_count": 32,
   "metadata": {},
   "outputs": [],
   "source": [
    "#import numpy as np\n",
    "#import matplotlib.pyplot as plt\n",
    "\n",
    "#Set seed for reproducibility\n",
    "np.random.seed(15)"
   ]
  },
  {
   "cell_type": "markdown",
   "metadata": {},
   "source": [
    "1. Synthesize $n=10^4$ normally distributed data points with mean $\\mu=2$ and a standard deviation of $\\sigma=1$. Call these observations from a random variable $X$, and call the vector of observations that you generate, $\\textbf{x}$"
   ]
  },
  {
   "cell_type": "code",
   "execution_count": 33,
   "metadata": {},
   "outputs": [
    {
     "name": "stdout",
     "output_type": "stream",
     "text": [
      "Show some examples from x: [1.68767152 2.33928471 1.84409147]\n"
     ]
    }
   ],
   "source": [
    "x = np.random.randn(10000) + 2\n",
    "print('Show some examples from x: {}'.format(x[0:3]))"
   ]
  },
  {
   "cell_type": "markdown",
   "metadata": {},
   "source": [
    "2. Calculate the mean and standard deviation of $\\textbf{x}$ to validate (1) and provide the result to a precision of four significant figures."
   ]
  },
  {
   "cell_type": "code",
   "execution_count": 34,
   "metadata": {},
   "outputs": [
    {
     "name": "stdout",
     "output_type": "stream",
     "text": [
      "x_mean = 2.004\n",
      "x_std  = 1.005\n"
     ]
    }
   ],
   "source": [
    "print('x_mean = {:.4}'.format(x.mean()))\n",
    "print('x_std  = {:.4}'.format(x.std()))"
   ]
  },
  {
   "cell_type": "markdown",
   "metadata": {},
   "source": [
    "3. Plot a histogram of the data in $\\textbf{x}$ with 30 bins"
   ]
  },
  {
   "cell_type": "code",
   "execution_count": 35,
   "metadata": {},
   "outputs": [
    {
     "data": {
      "image/png": "[encoded data removed]",
      "text/plain": [
       "<Figure size 432x288 with 1 Axes>"
      ]
     },
     "metadata": {
      "needs_background": "light"
     },
     "output_type": "display_data"
    }
   ],
   "source": [
    "plt.hist(x,bins=30)\n",
    "plt.xlabel('x')\n",
    "plt.ylabel('No of samples')\n",
    "plt.grid('on')\n",
    "plt.show()"
   ]
  },
  {
   "cell_type": "markdown",
   "metadata": {},
   "source": [
    "4. What is the 90th percentile of $\\textbf{x}$? The 90th percentile is the value below which 90% of observations can be found."
   ]
  },
  {
   "cell_type": "code",
   "execution_count": 36,
   "metadata": {},
   "outputs": [
    {
     "name": "stdout",
     "output_type": "stream",
     "text": [
      "The 90th percentile of x is 3.29\n"
     ]
    }
   ],
   "source": [
    "percent90 = np.percentile(x,90)\n",
    "print('The 90th percentile of x is {:.4}'.format(percent90))"
   ]
  },
  {
   "cell_type": "markdown",
   "metadata": {},
   "source": [
    "5. What is the 99th percentile of $\\textbf{x}$?"
   ]
  },
  {
   "cell_type": "code",
   "execution_count": 37,
   "metadata": {},
   "outputs": [
    {
     "name": "stdout",
     "output_type": "stream",
     "text": [
      "The 99th percentile of x is 4.327\n"
     ]
    }
   ],
   "source": [
    "percent99 = np.percentile(x,99)\n",
    "print('The 99th percentile of x is {:.4}'.format(percent99))"
   ]
  },
  {
   "cell_type": "markdown",
   "metadata": {},
   "source": [
    "6. Now synthesize $n=10^4$ normally distributed data points with mean $\\mu=0$ and a standard deviation of $\\sigma=3$. Call these observations from a random variable $Y$, and call the vector of observations that you generate, $\\textbf{y}$."
   ]
  },
  {
   "cell_type": "code",
   "execution_count": 38,
   "metadata": {},
   "outputs": [
    {
     "name": "stdout",
     "output_type": "stream",
     "text": [
      "Show some examples from y: [0.46205778 1.24814025 2.6642785 ]\n"
     ]
    }
   ],
   "source": [
    "y = 3*np.random.randn(10000)\n",
    "print('Show some examples from y: {}'.format(y[0:3]))"
   ]
  },
  {
   "cell_type": "markdown",
   "metadata": {},
   "source": [
    "7. Create a new figure and plot the histogram of the data in $\\textbf{y}$ on the same axes with the histogram of $\\textbf{x}$, so that both histograms can be seen and compared."
   ]
  },
  {
   "cell_type": "code",
   "execution_count": 39,
   "metadata": {},
   "outputs": [
    {
     "data": {
      "image/png": "[encoded data removed]",
      "text/plain": [
       "<Figure size 432x288 with 1 Axes>"
      ]
     },
     "metadata": {
      "needs_background": "light"
     },
     "output_type": "display_data"
    }
   ],
   "source": [
    "histx, binsx = np.histogram(x, bins=50, range=(-15, 15))\n",
    "histy, binsy = np.histogram(y, bins=50, range=(-15, 15))\n",
    "centerx = (binsx[:-1] + binsx[1:]) / 2\n",
    "centery = (binsy[:-1] + binsy[1:]) / 2\n",
    "plt.plot(centerx,histx,'r-',label='x')\n",
    "plt.plot(centery,histy,'b-',label='y')\n",
    "plt.xlabel('Values')\n",
    "plt.ylabel('No of samples')\n",
    "plt.grid('on')\n",
    "plt.show()"
   ]
  },
  {
   "cell_type": "markdown",
   "metadata": {},
   "source": [
    "8. Using the observations from $\\textbf{x}$ and $\\textbf{y}$, estimate $E[XY]$"
   ]
  },
  {
   "cell_type": "code",
   "execution_count": 40,
   "metadata": {},
   "outputs": [
    {
     "name": "stdout",
     "output_type": "stream",
     "text": [
      "E[XY] = E[X]E[Y] = 0.05244\n"
     ]
    }
   ],
   "source": [
    "print('E[XY] = E[X]E[Y] = {:.4}'.format(x.mean() * y.mean()))"
   ]
  },
  {
   "cell_type": "markdown",
   "metadata": {},
   "source": [
    "# Version Control via Git"
   ]
  },
  {
   "cell_type": "markdown",
   "metadata": {},
   "source": [
    "## Question 10\n",
    "**[4 points]** Git is efficient for collaboration, and expectation in industry, and one of the best ways to share results in academia. You can even use some Git repositories (e.g. Github) as hosts for website, such as with the [course website](https://kylebradbury.github.io/ids705/index.html). As a data scientist with experience in machine learning, Git is expected. We will interact with Git repositories (a.k.a. repos) throughout this course, and your project will require the use of git repos for collaboration.\n",
    "\n",
    "Complete the [Atlassian Git tutorial](https://www.atlassian.com/git/tutorials/what-is-version-control), specifically the following listed sections. Try each concept that's presented. For this tutorial, instead of using BitBucket as your remote repository host, you may use your preferred platform such as [Github](https://github.com/) or [Duke's Gitlab](https://gitlab.oit.duke.edu/users/sign_in).\n",
    "1. [What is version control](https://www.atlassian.com/git/tutorials/what-is-version-control)\n",
    "2. [What is Git](https://www.atlassian.com/git/tutorials/what-is-git)\n",
    "3. [Install Git](https://www.atlassian.com/git/tutorials/install-git)\n",
    "4. [Setting up a repository](https://www.atlassian.com/git/tutorials/install-git)\n",
    "5. [Saving changes](https://www.atlassian.com/git/tutorials/saving-changes)\n",
    "6. [Inspecting a repository](https://www.atlassian.com/git/tutorials/inspecting-a-repository)\n",
    "7. [Undoing changes](https://www.atlassian.com/git/tutorials/undoing-changes)\n",
    "8. [Rewriting history](https://www.atlassian.com/git/tutorials/rewriting-history)\n",
    "9. [Syncing](https://www.atlassian.com/git/tutorials/syncing)\n",
    "10. [Making a pull request](https://www.atlassian.com/git/tutorials/making-a-pull-request)\n",
    "11. [Using branches](https://www.atlassian.com/git/tutorials/using-branches)\n",
    "12. [Comparing workflows](https://www.atlassian.com/git/tutorials/comparing-workflows)\n",
    "\n",
    "I also have created two videos on the topic to help you understand some of these concepts: [Git basics](https://www.youtube.com/watch?v=fBCwfoBr2ng) and a [step-by-step tutorial](https://www.youtube.com/watch?v=nH7qJHx-h5s).\n",
    "\n",
    "For your answer, affirm that you *either* completed the tutorials above OR have previous experience with ALL of the concepts above. Confirm this by typing your name below and selecting the situation that applies from the two options in brackets."
   ]
  },
  {
   "cell_type": "markdown",
   "metadata": {},
   "source": [
    "**ANSWER 10**\n",
    "\n",
    "*I, [**Fides Schwartz**], affirm that I have [**previous experience that covers all the content in this tutorial (IDS720, Fall 2021)**]*"
   ]
  },
  {
   "cell_type": "markdown",
   "metadata": {},
   "source": [
    "# Exploratory Data Analysis\n",
    "## Question 11\n",
    "**[20 points]** Here you'll bring together some of the individual skills that you demonstrated above and create a Jupyter notebook based blog post on your exploratory data analysis. Your goal is to identify a question or problem and to work towards solving it or providing additional information or evidence (data) related to it through your data analysis. Below, we walk through a process to follow for your analysis. Additionally, you can find an [example of a well-done exploratory data analysis here from past years](https://github.com/kylebradbury/ids705/blob/master/assignments/Assignment_1_Q11_Example.ipynb).\n",
    "\n",
    "1. Find a dataset that interests you and relates to a question or problem that you find intriguing.\n",
    "2. Describe the dataset, the source of the data, and the reason the dataset was of interest. What question are you hoping to answer through exploring the dataset?\n",
    "3. Check the data and see if they need to be cleaned: are there missing values? Are there clearly erroneous values? Do two tables need to be merged together? Clean the data so it can be visualized. If the data are clean, state how you know they are clean (what did you check?).\n",
    "3. Plot the data, demonstrating interesting features that you discover. Are there any relationships between variables that were surprising or patterns that emerged? Please exercise creativity and curiosity in your plots. You should have at least a ~3 plots exploring the data in different ways.\n",
    "4. What insights are you able to take away from exploring the data? Is there a reason why analyzing the dataset you chose is particularly interesting or important? Summarize this for a general audience (imagine your publishing a blog post online) - boil down your findings in a way that is accessible, but still accurate.\n",
    "\n",
    "Here your analysis will evaluated based on:\n",
    "1. Motivation: was the purpose of the choice of data clearly articulated? Why was the dataset chosen and what was the goal of the analysis?\n",
    "2. Data cleaning: were any issues with the data investigated and, if found, were they resolved?\n",
    "3. Quality of data exploration: were at least 4 unique plots (minimum) included and did those plots demonstrate interesting aspects of the data? Was there a clear purpose and takeaway from EACH plot? \n",
    "4. Interpretation: Were the insights revealed through the analysis and their potential implications clearly explained? Was there an overall conclusion to the analysis?"
   ]
  },
  {
   "cell_type": "markdown",
   "metadata": {},
   "source": [
    "**ANSWER 11**"
   ]
  },
  {
   "cell_type": "markdown",
   "metadata": {},
   "source": [
    "1. Find a dataset that interests you and relates to a question or problem that you find intriguing."
   ]
  },
  {
   "cell_type": "markdown",
   "metadata": {},
   "source": [
    "Setup"
   ]
  },
  {
   "cell_type": "code",
   "execution_count": 41,
   "metadata": {},
   "outputs": [],
   "source": [
    "import numpy as np\n",
    "import pandas as pd\n",
    "import matplotlib.pyplot as plt\n",
    "import altair as alt\n",
    "\n",
    "chest_kernels = pd.read_excel('C:/Users/dm93/Desktop/PCCT examples/Chest/Travis_Fides_Kevin_Lynne_Bryan.xlsx')\n"
   ]
  },
  {
   "cell_type": "markdown",
   "metadata": {},
   "source": [
    "Look at data"
   ]
  },
  {
   "cell_type": "code",
   "execution_count": 42,
   "metadata": {},
   "outputs": [
    {
     "data": {
      "text/html": [
       "<div>\n",
       "<style scoped>\n",
       "    .dataframe tbody tr th:only-of-type {\n",
       "        vertical-align: middle;\n",
       "    }\n",
       "\n",
       "    .dataframe tbody tr th {\n",
       "        vertical-align: top;\n",
       "    }\n",
       "\n",
       "    .dataframe thead th {\n",
       "        text-align: right;\n",
       "    }\n",
       "</style>\n",
       "<table border=\"1\" class=\"dataframe\">\n",
       "  <thead>\n",
       "    <tr style=\"text-align: right;\">\n",
       "      <th></th>\n",
       "      <th>Case</th>\n",
       "      <th>Rank</th>\n",
       "      <th>Reader</th>\n",
       "      <th>Kernel</th>\n",
       "    </tr>\n",
       "  </thead>\n",
       "  <tbody>\n",
       "    <tr>\n",
       "      <th>0</th>\n",
       "      <td>8</td>\n",
       "      <td>1</td>\n",
       "      <td>1</td>\n",
       "      <td>48</td>\n",
       "    </tr>\n",
       "    <tr>\n",
       "      <th>1</th>\n",
       "      <td>8</td>\n",
       "      <td>2</td>\n",
       "      <td>1</td>\n",
       "      <td>56</td>\n",
       "    </tr>\n",
       "    <tr>\n",
       "      <th>2</th>\n",
       "      <td>8</td>\n",
       "      <td>3</td>\n",
       "      <td>1</td>\n",
       "      <td>40</td>\n",
       "    </tr>\n",
       "    <tr>\n",
       "      <th>3</th>\n",
       "      <td>8</td>\n",
       "      <td>4</td>\n",
       "      <td>1</td>\n",
       "      <td>70</td>\n",
       "    </tr>\n",
       "    <tr>\n",
       "      <th>4</th>\n",
       "      <td>17</td>\n",
       "      <td>1</td>\n",
       "      <td>1</td>\n",
       "      <td>48</td>\n",
       "    </tr>\n",
       "  </tbody>\n",
       "</table>\n",
       "</div>"
      ],
      "text/plain": [
       "   Case  Rank  Reader  Kernel\n",
       "0     8     1       1      48\n",
       "1     8     2       1      56\n",
       "2     8     3       1      40\n",
       "3     8     4       1      70\n",
       "4    17     1       1      48"
      ]
     },
     "execution_count": 42,
     "metadata": {},
     "output_type": "execute_result"
    }
   ],
   "source": [
    "chest_kernels.head()"
   ]
  },
  {
   "cell_type": "code",
   "execution_count": 43,
   "metadata": {},
   "outputs": [
    {
     "data": {
      "text/plain": [
       "Case      int64\n",
       "Rank      int64\n",
       "Reader    int64\n",
       "Kernel    int64\n",
       "dtype: object"
      ]
     },
     "execution_count": 43,
     "metadata": {},
     "output_type": "execute_result"
    }
   ],
   "source": [
    "#chest_kernels['Kernel'].dtype\n",
    "chest_kernels.dtypes"
   ]
  },
  {
   "cell_type": "markdown",
   "metadata": {},
   "source": [
    "2. Describe the dataset, the source of the data, and the reason the dataset was of interest. What question are you hoping to answer through exploring the dataset?"
   ]
  },
  {
   "cell_type": "markdown",
   "metadata": {},
   "source": [
    "I am a radiologist and an associate in research with the Duke Department of Radiology. I have mostly specialized in research based on computed tomography (CT), which is an imaging method that uses x-rays to acquire 3D-imaging data.\n",
    "A new CT scanner system, called photon-counting CT (PCCT), was recently installed at Duke as a research system (before it got FDA-approval). Patients who received a regular clinical CT examination (e.g. to evaluate lung cancer therapy success) were asked, if they were willing to receive a PCCT in addition to their clinical exam. If they consented, an additional CT was performed using the PCCT on the same day as the clinical CT scan.\n",
    "\n",
    "PCCT has higher spatial and contrast resolution as well as the capability to avoid electronic noise due to photon energy thresholding. Thus, it provides the opportunity to reconstruct with sharper kernels than are currently used in clinical practice, without increasing the image noise impression to a point where it would not be clinically useful.\n",
    "\n",
    "No study has compared the different kernel options given by the PCCT among themselves and in comparison with standard clinical CT to date. The questions of interest are:\n",
    "1. Which PCCT kernel is the preferred reconstruction kernel?\n",
    "2. Are PCCT kernels preferred over the standard CT kernel?\n",
    "3. Do readers differ in their assessment of kernels?"
   ]
  },
  {
   "cell_type": "markdown",
   "metadata": {},
   "source": [
    "3. Check the data and see if they need to be cleaned: are there missing values? Are there clearly erroneous values? Do two tables need to be merged together? Clean the data so it can be visualized. If the data are clean, state how you know they are clean (what did you check?)."
   ]
  },
  {
   "cell_type": "markdown",
   "metadata": {},
   "source": [
    "The data consists of CT image data from 20 patients, that was read by five separate readers (diagnostic radiologists from the chest and cardiovascular section). Four representative CT slices were shown on a power point slide (reconstructed with three different PCCT kernels and with one standard CT kernel at the same level in the CT scan) to each reader in a randomized order to avoid introducing bias. On each slide, the reader made a rank choice selection between the four CT slices with 1. being their most preferred reconstruction kernel and 4. being their least preferred reconstruction kernel.\n",
    "The data was compiled by me into one excel file from reader's notes on power point slides, so I know that there were no missing values or clearly erroneous data points. I compiled them into one file directly, so did not need to merge anything. Each reader was assigned a number (reader 1 through reader 5), each kernel was assigned a number (PCCT kernels Br40f=40, Br48f=48, Br56f=56, and standard CT kernel=70), and each case was assigned a number (1-20)."
   ]
  },
  {
   "cell_type": "markdown",
   "metadata": {},
   "source": [
    "4. Plot the data, demonstrating interesting features that you discover. Are there any relationships between variables that were surprising or patterns that emerged? Please exercise creativity and curiosity in your plots. You should have at least a ~3 plots exploring the data in different ways."
   ]
  },
  {
   "cell_type": "markdown",
   "metadata": {},
   "source": [
    "a) Sanity check on how often each kernel got chosen."
   ]
  },
  {
   "cell_type": "code",
   "execution_count": 44,
   "metadata": {},
   "outputs": [
    {
     "data": {
      "image/png": "[encoded data removed]",
      "text/plain": [
       "<Figure size 432x288 with 1 Axes>"
      ]
     },
     "metadata": {
      "needs_background": "light"
     },
     "output_type": "display_data"
    }
   ],
   "source": [
    "%matplotlib inline\n",
    "chest_kernels[\"Kernel\"].value_counts().plot(kind=\"bar\")\n",
    "plt.ylabel('Number of reads')\n",
    "plt.xlabel('Kernels')\n",
    "plt.show()"
   ]
  },
  {
   "cell_type": "markdown",
   "metadata": {},
   "source": [
    "This plot confirms that all kernels were selected once per case, i.e. 20 cases * 5 readers = 100 reads per kernel."
   ]
  },
  {
   "cell_type": "markdown",
   "metadata": {},
   "source": [
    "b) How often was which kernel chosen as 1st, 2nd, 3rd, 4th choice?"
   ]
  },
  {
   "cell_type": "code",
   "execution_count": 45,
   "metadata": {},
   "outputs": [
    {
     "data": {
      "text/html": [
       "<div>\n",
       "<style scoped>\n",
       "    .dataframe tbody tr th:only-of-type {\n",
       "        vertical-align: middle;\n",
       "    }\n",
       "\n",
       "    .dataframe tbody tr th {\n",
       "        vertical-align: top;\n",
       "    }\n",
       "\n",
       "    .dataframe thead th {\n",
       "        text-align: right;\n",
       "    }\n",
       "</style>\n",
       "<table border=\"1\" class=\"dataframe\">\n",
       "  <thead>\n",
       "    <tr style=\"text-align: right;\">\n",
       "      <th></th>\n",
       "      <th></th>\n",
       "      <th>Reader</th>\n",
       "    </tr>\n",
       "    <tr>\n",
       "      <th>Rank</th>\n",
       "      <th>Kernel</th>\n",
       "      <th></th>\n",
       "    </tr>\n",
       "  </thead>\n",
       "  <tbody>\n",
       "    <tr>\n",
       "      <th rowspan=\"4\" valign=\"top\">1</th>\n",
       "      <th>40</th>\n",
       "      <td>2</td>\n",
       "    </tr>\n",
       "    <tr>\n",
       "      <th>48</th>\n",
       "      <td>25</td>\n",
       "    </tr>\n",
       "    <tr>\n",
       "      <th>56</th>\n",
       "      <td>70</td>\n",
       "    </tr>\n",
       "    <tr>\n",
       "      <th>70</th>\n",
       "      <td>3</td>\n",
       "    </tr>\n",
       "    <tr>\n",
       "      <th rowspan=\"4\" valign=\"top\">2</th>\n",
       "      <th>40</th>\n",
       "      <td>6</td>\n",
       "    </tr>\n",
       "    <tr>\n",
       "      <th>48</th>\n",
       "      <td>67</td>\n",
       "    </tr>\n",
       "    <tr>\n",
       "      <th>56</th>\n",
       "      <td>22</td>\n",
       "    </tr>\n",
       "    <tr>\n",
       "      <th>70</th>\n",
       "      <td>5</td>\n",
       "    </tr>\n",
       "    <tr>\n",
       "      <th rowspan=\"4\" valign=\"top\">3</th>\n",
       "      <th>40</th>\n",
       "      <td>57</td>\n",
       "    </tr>\n",
       "    <tr>\n",
       "      <th>48</th>\n",
       "      <td>6</td>\n",
       "    </tr>\n",
       "    <tr>\n",
       "      <th>56</th>\n",
       "      <td>5</td>\n",
       "    </tr>\n",
       "    <tr>\n",
       "      <th>70</th>\n",
       "      <td>32</td>\n",
       "    </tr>\n",
       "    <tr>\n",
       "      <th rowspan=\"4\" valign=\"top\">4</th>\n",
       "      <th>40</th>\n",
       "      <td>35</td>\n",
       "    </tr>\n",
       "    <tr>\n",
       "      <th>48</th>\n",
       "      <td>2</td>\n",
       "    </tr>\n",
       "    <tr>\n",
       "      <th>56</th>\n",
       "      <td>3</td>\n",
       "    </tr>\n",
       "    <tr>\n",
       "      <th>70</th>\n",
       "      <td>60</td>\n",
       "    </tr>\n",
       "  </tbody>\n",
       "</table>\n",
       "</div>"
      ],
      "text/plain": [
       "             Reader\n",
       "Rank Kernel        \n",
       "1    40           2\n",
       "     48          25\n",
       "     56          70\n",
       "     70           3\n",
       "2    40           6\n",
       "     48          67\n",
       "     56          22\n",
       "     70           5\n",
       "3    40          57\n",
       "     48           6\n",
       "     56           5\n",
       "     70          32\n",
       "4    40          35\n",
       "     48           2\n",
       "     56           3\n",
       "     70          60"
      ]
     },
     "execution_count": 45,
     "metadata": {},
     "output_type": "execute_result"
    }
   ],
   "source": [
    "chest_kernels_new = chest_kernels.groupby(['Rank', 'Kernel']).count()\n",
    "chest_kernels_new = chest_kernels_new.drop(columns=['Case'])\n",
    "chest_kernels_new"
   ]
  },
  {
   "cell_type": "code",
   "execution_count": 46,
   "metadata": {},
   "outputs": [
    {
     "data": {
      "text/plain": [
       "<AxesSubplot:xlabel='Rank,Kernel'>"
      ]
     },
     "execution_count": 46,
     "metadata": {},
     "output_type": "execute_result"
    },
    {
     "data": {
      "image/png": "[encoded data removed]",
      "text/plain": [
       "<Figure size 432x288 with 1 Axes>"
      ]
     },
     "metadata": {
      "needs_background": "light"
     },
     "output_type": "display_data"
    }
   ],
   "source": [
    "chest_kernels.groupby(['Rank', 'Kernel']).count().plot(kind=\"bar\")"
   ]
  },
  {
   "cell_type": "markdown",
   "metadata": {},
   "source": [
    "It looks like the sharpest PCCT kernel (Br56f) received the highest number of 1st choice votes. The next sharpest PCCT kernel (Br48f) received the highest number of second choice votes, PCCT kernel Br40f received the highest number of 3rd choice votes and the standard CT kernel received the highest number of 4th choice votes."
   ]
  },
  {
   "cell_type": "markdown",
   "metadata": {},
   "source": [
    "c) Plot the sum of ranks given to each kernel to see which one is lowest (most preferred)."
   ]
  },
  {
   "cell_type": "code",
   "execution_count": 47,
   "metadata": {},
   "outputs": [
    {
     "data": {
      "text/html": [
       "\n",
       "<div id=\"altair-viz-7988a3c7c9264bacb0de3c7ee17bb832\"></div>\n",
       "<script type=\"text/javascript\">\n",
       "  (function(spec, embedOpt){\n",
       "    let outputDiv = document.currentScript.previousElementSibling;\n",
       "    if (outputDiv.id !== \"altair-viz-7988a3c7c9264bacb0de3c7ee17bb832\") {\n",
       "      outputDiv = document.getElementById(\"altair-viz-7988a3c7c9264bacb0de3c7ee17bb832\");\n",
       "    }\n",
       "    const paths = {\n",
       "      \"vega\": \"https://cdn.jsdelivr.net/npm//vega@5?noext\",\n",
       "      \"vega-lib\": \"https://cdn.jsdelivr.net/npm//vega-lib?noext\",\n",
       "      \"vega-lite\": \"https://cdn.jsdelivr.net/npm//vega-lite@4.8.1?noext\",\n",
       "      \"vega-embed\": \"https://cdn.jsdelivr.net/npm//vega-embed@6?noext\",\n",
       "    };\n",
       "\n",
       "    function loadScript(lib) {\n",
       "      return new Promise(function(resolve, reject) {\n",
       "        var s = document.createElement('script');\n",
       "        s.src = paths[lib];\n",
       "        s.async = true;\n",
       "        s.onload = () => resolve(paths[lib]);\n",
       "        s.onerror = () => reject(`Error loading script: ${paths[lib]}`);\n",
       "        document.getElementsByTagName(\"head\")[0].appendChild(s);\n",
       "      });\n",
       "    }\n",
       "\n",
       "    function showError(err) {\n",
       "      outputDiv.innerHTML = `<div class=\"error\" style=\"color:red;\">${err}</div>`;\n",
       "      throw err;\n",
       "    }\n",
       "\n",
       "    function displayChart(vegaEmbed) {\n",
       "      vegaEmbed(outputDiv, spec, embedOpt)\n",
       "        .catch(err => showError(`Javascript Error: ${err.message}<br>This usually means there's a typo in your chart specification. See the javascript console for the full traceback.`));\n",
       "    }\n",
       "\n",
       "    if(typeof define === \"function\" && define.amd) {\n",
       "      requirejs.config({paths});\n",
       "      require([\"vega-embed\"], displayChart, err => showError(`Error loading script: ${err.message}`));\n",
       "    } else if (typeof vegaEmbed === \"function\") {\n",
       "      displayChart(vegaEmbed);\n",
       "    } else {\n",
       "      loadScript(\"vega\")\n",
       "        .then(() => loadScript(\"vega-lite\"))\n",
       "        .then(() => loadScript(\"vega-embed\"))\n",
       "        .catch(showError)\n",
       "        .then(() => displayChart(vegaEmbed));\n",
       "    }\n",
       "  })({\"config\": {\"view\": {\"continuousWidth\": 400, \"continuousHeight\": 300}}, \"data\": {\"name\": \"data-394b924515012d7142f5df30710fae87\"}, \"mark\": {\"type\": \"bar\", \"size\": 30}, \"encoding\": {\"color\": {\"type\": \"quantitative\", \"field\": \"Kernel\", \"scale\": {\"scheme\": \"turbo\"}}, \"x\": {\"type\": \"quantitative\", \"field\": \"Kernel\", \"scale\": {\"zero\": false}}, \"y\": {\"type\": \"quantitative\", \"aggregate\": \"sum\", \"field\": \"Rank\"}}, \"$schema\": \"https://vega.github.io/schema/vega-lite/v4.8.1.json\", \"datasets\": {\"data-394b924515012d7142f5df30710fae87\": [{\"Case\": 8, \"Rank\": 1, \"Reader\": 1, \"Kernel\": 48}, {\"Case\": 8, \"Rank\": 2, \"Reader\": 1, \"Kernel\": 56}, {\"Case\": 8, \"Rank\": 3, \"Reader\": 1, \"Kernel\": 40}, {\"Case\": 8, \"Rank\": 4, \"Reader\": 1, \"Kernel\": 70}, {\"Case\": 17, \"Rank\": 1, \"Reader\": 1, \"Kernel\": 48}, {\"Case\": 17, \"Rank\": 2, \"Reader\": 1, \"Kernel\": 40}, {\"Case\": 17, \"Rank\": 3, \"Reader\": 1, \"Kernel\": 70}, {\"Case\": 17, \"Rank\": 4, \"Reader\": 1, \"Kernel\": 56}, {\"Case\": 16, \"Rank\": 1, \"Reader\": 1, \"Kernel\": 40}, {\"Case\": 16, \"Rank\": 2, \"Reader\": 1, \"Kernel\": 70}, {\"Case\": 16, \"Rank\": 3, \"Reader\": 1, \"Kernel\": 56}, {\"Case\": 16, \"Rank\": 4, \"Reader\": 1, \"Kernel\": 48}, {\"Case\": 7, \"Rank\": 1, \"Reader\": 1, \"Kernel\": 56}, {\"Case\": 7, \"Rank\": 2, \"Reader\": 1, \"Kernel\": 48}, {\"Case\": 7, \"Rank\": 3, \"Reader\": 1, \"Kernel\": 70}, {\"Case\": 7, \"Rank\": 4, \"Reader\": 1, \"Kernel\": 40}, {\"Case\": 19, \"Rank\": 1, \"Reader\": 1, \"Kernel\": 48}, {\"Case\": 19, \"Rank\": 2, \"Reader\": 1, \"Kernel\": 56}, {\"Case\": 19, \"Rank\": 3, \"Reader\": 1, \"Kernel\": 70}, {\"Case\": 19, \"Rank\": 4, \"Reader\": 1, \"Kernel\": 40}, {\"Case\": 13, \"Rank\": 1, \"Reader\": 1, \"Kernel\": 48}, {\"Case\": 13, \"Rank\": 2, \"Reader\": 1, \"Kernel\": 56}, {\"Case\": 13, \"Rank\": 3, \"Reader\": 1, \"Kernel\": 40}, {\"Case\": 13, \"Rank\": 4, \"Reader\": 1, \"Kernel\": 70}, {\"Case\": 9, \"Rank\": 1, \"Reader\": 1, \"Kernel\": 56}, {\"Case\": 9, \"Rank\": 2, \"Reader\": 1, \"Kernel\": 48}, {\"Case\": 9, \"Rank\": 3, \"Reader\": 1, \"Kernel\": 40}, {\"Case\": 9, \"Rank\": 4, \"Reader\": 1, \"Kernel\": 70}, {\"Case\": 20, \"Rank\": 1, \"Reader\": 1, \"Kernel\": 40}, {\"Case\": 20, \"Rank\": 2, \"Reader\": 1, \"Kernel\": 56}, {\"Case\": 20, \"Rank\": 3, \"Reader\": 1, \"Kernel\": 48}, {\"Case\": 20, \"Rank\": 4, \"Reader\": 1, \"Kernel\": 70}, {\"Case\": 15, \"Rank\": 1, \"Reader\": 1, \"Kernel\": 48}, {\"Case\": 15, \"Rank\": 2, \"Reader\": 1, \"Kernel\": 70}, {\"Case\": 15, \"Rank\": 3, \"Reader\": 1, \"Kernel\": 56}, {\"Case\": 15, \"Rank\": 4, \"Reader\": 1, \"Kernel\": 40}, {\"Case\": 4, \"Rank\": 1, \"Reader\": 1, \"Kernel\": 48}, {\"Case\": 4, \"Rank\": 2, \"Reader\": 1, \"Kernel\": 56}, {\"Case\": 4, \"Rank\": 3, \"Reader\": 1, \"Kernel\": 40}, {\"Case\": 4, \"Rank\": 4, \"Reader\": 1, \"Kernel\": 70}, {\"Case\": 14, \"Rank\": 1, \"Reader\": 1, \"Kernel\": 48}, {\"Case\": 14, \"Rank\": 2, \"Reader\": 1, \"Kernel\": 56}, {\"Case\": 14, \"Rank\": 3, \"Reader\": 1, \"Kernel\": 70}, {\"Case\": 14, \"Rank\": 4, \"Reader\": 1, \"Kernel\": 40}, {\"Case\": 12, \"Rank\": 1, \"Reader\": 1, \"Kernel\": 48}, {\"Case\": 12, \"Rank\": 2, \"Reader\": 1, \"Kernel\": 56}, {\"Case\": 12, \"Rank\": 3, \"Reader\": 1, \"Kernel\": 70}, {\"Case\": 12, \"Rank\": 4, \"Reader\": 1, \"Kernel\": 40}, {\"Case\": 18, \"Rank\": 1, \"Reader\": 1, \"Kernel\": 48}, {\"Case\": 18, \"Rank\": 2, \"Reader\": 1, \"Kernel\": 56}, {\"Case\": 18, \"Rank\": 3, \"Reader\": 1, \"Kernel\": 40}, {\"Case\": 18, \"Rank\": 4, \"Reader\": 1, \"Kernel\": 70}, {\"Case\": 3, \"Rank\": 1, \"Reader\": 1, \"Kernel\": 56}, {\"Case\": 3, \"Rank\": 2, \"Reader\": 1, \"Kernel\": 40}, {\"Case\": 3, \"Rank\": 3, \"Reader\": 1, \"Kernel\": 48}, {\"Case\": 3, \"Rank\": 4, \"Reader\": 1, \"Kernel\": 70}, {\"Case\": 5, \"Rank\": 1, \"Reader\": 1, \"Kernel\": 48}, {\"Case\": 5, \"Rank\": 2, \"Reader\": 1, \"Kernel\": 56}, {\"Case\": 5, \"Rank\": 3, \"Reader\": 1, \"Kernel\": 40}, {\"Case\": 5, \"Rank\": 4, \"Reader\": 1, \"Kernel\": 70}, {\"Case\": 11, \"Rank\": 1, \"Reader\": 1, \"Kernel\": 56}, {\"Case\": 11, \"Rank\": 2, \"Reader\": 1, \"Kernel\": 48}, {\"Case\": 11, \"Rank\": 3, \"Reader\": 1, \"Kernel\": 40}, {\"Case\": 11, \"Rank\": 4, \"Reader\": 1, \"Kernel\": 70}, {\"Case\": 2, \"Rank\": 1, \"Reader\": 1, \"Kernel\": 48}, {\"Case\": 2, \"Rank\": 2, \"Reader\": 1, \"Kernel\": 56}, {\"Case\": 2, \"Rank\": 3, \"Reader\": 1, \"Kernel\": 40}, {\"Case\": 2, \"Rank\": 4, \"Reader\": 1, \"Kernel\": 70}, {\"Case\": 1, \"Rank\": 1, \"Reader\": 1, \"Kernel\": 48}, {\"Case\": 1, \"Rank\": 2, \"Reader\": 1, \"Kernel\": 56}, {\"Case\": 1, \"Rank\": 3, \"Reader\": 1, \"Kernel\": 70}, {\"Case\": 1, \"Rank\": 4, \"Reader\": 1, \"Kernel\": 40}, {\"Case\": 10, \"Rank\": 1, \"Reader\": 1, \"Kernel\": 56}, {\"Case\": 10, \"Rank\": 2, \"Reader\": 1, \"Kernel\": 48}, {\"Case\": 10, \"Rank\": 3, \"Reader\": 1, \"Kernel\": 40}, {\"Case\": 10, \"Rank\": 4, \"Reader\": 1, \"Kernel\": 70}, {\"Case\": 6, \"Rank\": 1, \"Reader\": 1, \"Kernel\": 48}, {\"Case\": 6, \"Rank\": 2, \"Reader\": 1, \"Kernel\": 56}, {\"Case\": 6, \"Rank\": 3, \"Reader\": 1, \"Kernel\": 70}, {\"Case\": 6, \"Rank\": 4, \"Reader\": 1, \"Kernel\": 40}, {\"Case\": 8, \"Rank\": 1, \"Reader\": 2, \"Kernel\": 56}, {\"Case\": 8, \"Rank\": 2, \"Reader\": 2, \"Kernel\": 48}, {\"Case\": 8, \"Rank\": 3, \"Reader\": 2, \"Kernel\": 40}, {\"Case\": 8, \"Rank\": 4, \"Reader\": 2, \"Kernel\": 70}, {\"Case\": 17, \"Rank\": 1, \"Reader\": 2, \"Kernel\": 56}, {\"Case\": 17, \"Rank\": 2, \"Reader\": 2, \"Kernel\": 48}, {\"Case\": 17, \"Rank\": 3, \"Reader\": 2, \"Kernel\": 40}, {\"Case\": 17, \"Rank\": 4, \"Reader\": 2, \"Kernel\": 70}, {\"Case\": 16, \"Rank\": 1, \"Reader\": 2, \"Kernel\": 56}, {\"Case\": 16, \"Rank\": 2, \"Reader\": 2, \"Kernel\": 48}, {\"Case\": 16, \"Rank\": 3, \"Reader\": 2, \"Kernel\": 40}, {\"Case\": 16, \"Rank\": 4, \"Reader\": 2, \"Kernel\": 70}, {\"Case\": 7, \"Rank\": 1, \"Reader\": 2, \"Kernel\": 56}, {\"Case\": 7, \"Rank\": 2, \"Reader\": 2, \"Kernel\": 48}, {\"Case\": 7, \"Rank\": 3, \"Reader\": 2, \"Kernel\": 40}, {\"Case\": 7, \"Rank\": 4, \"Reader\": 2, \"Kernel\": 70}, {\"Case\": 19, \"Rank\": 1, \"Reader\": 2, \"Kernel\": 56}, {\"Case\": 19, \"Rank\": 2, \"Reader\": 2, \"Kernel\": 48}, {\"Case\": 19, \"Rank\": 3, \"Reader\": 2, \"Kernel\": 70}, {\"Case\": 19, \"Rank\": 4, \"Reader\": 2, \"Kernel\": 40}, {\"Case\": 13, \"Rank\": 1, \"Reader\": 2, \"Kernel\": 48}, {\"Case\": 13, \"Rank\": 2, \"Reader\": 2, \"Kernel\": 56}, {\"Case\": 13, \"Rank\": 3, \"Reader\": 2, \"Kernel\": 40}, {\"Case\": 13, \"Rank\": 4, \"Reader\": 2, \"Kernel\": 70}, {\"Case\": 9, \"Rank\": 1, \"Reader\": 2, \"Kernel\": 56}, {\"Case\": 9, \"Rank\": 2, \"Reader\": 2, \"Kernel\": 48}, {\"Case\": 9, \"Rank\": 3, \"Reader\": 2, \"Kernel\": 40}, {\"Case\": 9, \"Rank\": 4, \"Reader\": 2, \"Kernel\": 70}, {\"Case\": 20, \"Rank\": 1, \"Reader\": 2, \"Kernel\": 56}, {\"Case\": 20, \"Rank\": 2, \"Reader\": 2, \"Kernel\": 48}, {\"Case\": 20, \"Rank\": 3, \"Reader\": 2, \"Kernel\": 70}, {\"Case\": 20, \"Rank\": 4, \"Reader\": 2, \"Kernel\": 40}, {\"Case\": 15, \"Rank\": 1, \"Reader\": 2, \"Kernel\": 56}, {\"Case\": 15, \"Rank\": 2, \"Reader\": 2, \"Kernel\": 48}, {\"Case\": 15, \"Rank\": 3, \"Reader\": 2, \"Kernel\": 40}, {\"Case\": 15, \"Rank\": 4, \"Reader\": 2, \"Kernel\": 70}, {\"Case\": 4, \"Rank\": 1, \"Reader\": 2, \"Kernel\": 56}, {\"Case\": 4, \"Rank\": 2, \"Reader\": 2, \"Kernel\": 48}, {\"Case\": 4, \"Rank\": 3, \"Reader\": 2, \"Kernel\": 40}, {\"Case\": 4, \"Rank\": 4, \"Reader\": 2, \"Kernel\": 70}, {\"Case\": 14, \"Rank\": 1, \"Reader\": 2, \"Kernel\": 56}, {\"Case\": 14, \"Rank\": 2, \"Reader\": 2, \"Kernel\": 48}, {\"Case\": 14, \"Rank\": 3, \"Reader\": 2, \"Kernel\": 40}, {\"Case\": 14, \"Rank\": 4, \"Reader\": 2, \"Kernel\": 70}, {\"Case\": 12, \"Rank\": 1, \"Reader\": 2, \"Kernel\": 56}, {\"Case\": 12, \"Rank\": 2, \"Reader\": 2, \"Kernel\": 48}, {\"Case\": 12, \"Rank\": 3, \"Reader\": 2, \"Kernel\": 40}, {\"Case\": 12, \"Rank\": 4, \"Reader\": 2, \"Kernel\": 70}, {\"Case\": 18, \"Rank\": 1, \"Reader\": 2, \"Kernel\": 56}, {\"Case\": 18, \"Rank\": 2, \"Reader\": 2, \"Kernel\": 48}, {\"Case\": 18, \"Rank\": 3, \"Reader\": 2, \"Kernel\": 40}, {\"Case\": 18, \"Rank\": 4, \"Reader\": 2, \"Kernel\": 70}, {\"Case\": 3, \"Rank\": 1, \"Reader\": 2, \"Kernel\": 56}, {\"Case\": 3, \"Rank\": 2, \"Reader\": 2, \"Kernel\": 48}, {\"Case\": 3, \"Rank\": 3, \"Reader\": 2, \"Kernel\": 40}, {\"Case\": 3, \"Rank\": 4, \"Reader\": 2, \"Kernel\": 70}, {\"Case\": 5, \"Rank\": 1, \"Reader\": 2, \"Kernel\": 56}, {\"Case\": 5, \"Rank\": 2, \"Reader\": 2, \"Kernel\": 48}, {\"Case\": 5, \"Rank\": 3, \"Reader\": 2, \"Kernel\": 40}, {\"Case\": 5, \"Rank\": 4, \"Reader\": 2, \"Kernel\": 70}, {\"Case\": 11, \"Rank\": 1, \"Reader\": 2, \"Kernel\": 56}, {\"Case\": 11, \"Rank\": 2, \"Reader\": 2, \"Kernel\": 48}, {\"Case\": 11, \"Rank\": 3, \"Reader\": 2, \"Kernel\": 40}, {\"Case\": 11, \"Rank\": 4, \"Reader\": 2, \"Kernel\": 70}, {\"Case\": 2, \"Rank\": 1, \"Reader\": 2, \"Kernel\": 56}, {\"Case\": 2, \"Rank\": 2, \"Reader\": 2, \"Kernel\": 48}, {\"Case\": 2, \"Rank\": 3, \"Reader\": 2, \"Kernel\": 70}, {\"Case\": 2, \"Rank\": 4, \"Reader\": 2, \"Kernel\": 40}, {\"Case\": 1, \"Rank\": 1, \"Reader\": 2, \"Kernel\": 56}, {\"Case\": 1, \"Rank\": 2, \"Reader\": 2, \"Kernel\": 48}, {\"Case\": 1, \"Rank\": 3, \"Reader\": 2, \"Kernel\": 40}, {\"Case\": 1, \"Rank\": 4, \"Reader\": 2, \"Kernel\": 70}, {\"Case\": 10, \"Rank\": 1, \"Reader\": 2, \"Kernel\": 56}, {\"Case\": 10, \"Rank\": 2, \"Reader\": 2, \"Kernel\": 48}, {\"Case\": 10, \"Rank\": 3, \"Reader\": 2, \"Kernel\": 40}, {\"Case\": 10, \"Rank\": 4, \"Reader\": 2, \"Kernel\": 70}, {\"Case\": 6, \"Rank\": 1, \"Reader\": 2, \"Kernel\": 56}, {\"Case\": 6, \"Rank\": 2, \"Reader\": 2, \"Kernel\": 48}, {\"Case\": 6, \"Rank\": 3, \"Reader\": 2, \"Kernel\": 40}, {\"Case\": 6, \"Rank\": 4, \"Reader\": 2, \"Kernel\": 70}, {\"Case\": 8, \"Rank\": 1, \"Reader\": 3, \"Kernel\": 56}, {\"Case\": 8, \"Rank\": 2, \"Reader\": 3, \"Kernel\": 48}, {\"Case\": 8, \"Rank\": 3, \"Reader\": 3, \"Kernel\": 70}, {\"Case\": 8, \"Rank\": 4, \"Reader\": 3, \"Kernel\": 40}, {\"Case\": 17, \"Rank\": 1, \"Reader\": 3, \"Kernel\": 56}, {\"Case\": 17, \"Rank\": 2, \"Reader\": 3, \"Kernel\": 48}, {\"Case\": 17, \"Rank\": 3, \"Reader\": 3, \"Kernel\": 40}, {\"Case\": 17, \"Rank\": 4, \"Reader\": 3, \"Kernel\": 70}, {\"Case\": 16, \"Rank\": 1, \"Reader\": 3, \"Kernel\": 56}, {\"Case\": 16, \"Rank\": 2, \"Reader\": 3, \"Kernel\": 48}, {\"Case\": 16, \"Rank\": 3, \"Reader\": 3, \"Kernel\": 70}, {\"Case\": 16, \"Rank\": 4, \"Reader\": 3, \"Kernel\": 40}, {\"Case\": 7, \"Rank\": 1, \"Reader\": 3, \"Kernel\": 48}, {\"Case\": 7, \"Rank\": 2, \"Reader\": 3, \"Kernel\": 56}, {\"Case\": 7, \"Rank\": 3, \"Reader\": 3, \"Kernel\": 70}, {\"Case\": 7, \"Rank\": 4, \"Reader\": 3, \"Kernel\": 40}, {\"Case\": 19, \"Rank\": 1, \"Reader\": 3, \"Kernel\": 56}, {\"Case\": 19, \"Rank\": 2, \"Reader\": 3, \"Kernel\": 48}, {\"Case\": 19, \"Rank\": 3, \"Reader\": 3, \"Kernel\": 70}, {\"Case\": 19, \"Rank\": 4, \"Reader\": 3, \"Kernel\": 40}, {\"Case\": 13, \"Rank\": 1, \"Reader\": 3, \"Kernel\": 48}, {\"Case\": 13, \"Rank\": 2, \"Reader\": 3, \"Kernel\": 56}, {\"Case\": 13, \"Rank\": 3, \"Reader\": 3, \"Kernel\": 70}, {\"Case\": 13, \"Rank\": 4, \"Reader\": 3, \"Kernel\": 40}, {\"Case\": 9, \"Rank\": 1, \"Reader\": 3, \"Kernel\": 56}, {\"Case\": 9, \"Rank\": 2, \"Reader\": 3, \"Kernel\": 48}, {\"Case\": 9, \"Rank\": 3, \"Reader\": 3, \"Kernel\": 40}, {\"Case\": 9, \"Rank\": 4, \"Reader\": 3, \"Kernel\": 70}, {\"Case\": 20, \"Rank\": 1, \"Reader\": 3, \"Kernel\": 56}, {\"Case\": 20, \"Rank\": 2, \"Reader\": 3, \"Kernel\": 48}, {\"Case\": 20, \"Rank\": 3, \"Reader\": 3, \"Kernel\": 40}, {\"Case\": 20, \"Rank\": 4, \"Reader\": 3, \"Kernel\": 70}, {\"Case\": 15, \"Rank\": 1, \"Reader\": 3, \"Kernel\": 70}, {\"Case\": 15, \"Rank\": 2, \"Reader\": 3, \"Kernel\": 56}, {\"Case\": 15, \"Rank\": 3, \"Reader\": 3, \"Kernel\": 48}, {\"Case\": 15, \"Rank\": 4, \"Reader\": 3, \"Kernel\": 40}, {\"Case\": 4, \"Rank\": 1, \"Reader\": 3, \"Kernel\": 70}, {\"Case\": 4, \"Rank\": 2, \"Reader\": 3, \"Kernel\": 56}, {\"Case\": 4, \"Rank\": 3, \"Reader\": 3, \"Kernel\": 48}, {\"Case\": 4, \"Rank\": 4, \"Reader\": 3, \"Kernel\": 40}, {\"Case\": 14, \"Rank\": 1, \"Reader\": 3, \"Kernel\": 56}, {\"Case\": 14, \"Rank\": 2, \"Reader\": 3, \"Kernel\": 48}, {\"Case\": 14, \"Rank\": 3, \"Reader\": 3, \"Kernel\": 70}, {\"Case\": 14, \"Rank\": 4, \"Reader\": 3, \"Kernel\": 40}, {\"Case\": 12, \"Rank\": 1, \"Reader\": 3, \"Kernel\": 48}, {\"Case\": 12, \"Rank\": 2, \"Reader\": 3, \"Kernel\": 56}, {\"Case\": 12, \"Rank\": 3, \"Reader\": 3, \"Kernel\": 40}, {\"Case\": 12, \"Rank\": 4, \"Reader\": 3, \"Kernel\": 70}, {\"Case\": 18, \"Rank\": 1, \"Reader\": 3, \"Kernel\": 56}, {\"Case\": 18, \"Rank\": 2, \"Reader\": 3, \"Kernel\": 48}, {\"Case\": 18, \"Rank\": 3, \"Reader\": 3, \"Kernel\": 40}, {\"Case\": 18, \"Rank\": 4, \"Reader\": 3, \"Kernel\": 70}, {\"Case\": 3, \"Rank\": 1, \"Reader\": 3, \"Kernel\": 56}, {\"Case\": 3, \"Rank\": 2, \"Reader\": 3, \"Kernel\": 48}, {\"Case\": 3, \"Rank\": 3, \"Reader\": 3, \"Kernel\": 70}, {\"Case\": 3, \"Rank\": 4, \"Reader\": 3, \"Kernel\": 40}, {\"Case\": 5, \"Rank\": 1, \"Reader\": 3, \"Kernel\": 56}, {\"Case\": 5, \"Rank\": 2, \"Reader\": 3, \"Kernel\": 48}, {\"Case\": 5, \"Rank\": 3, \"Reader\": 3, \"Kernel\": 40}, {\"Case\": 5, \"Rank\": 4, \"Reader\": 3, \"Kernel\": 70}, {\"Case\": 11, \"Rank\": 1, \"Reader\": 3, \"Kernel\": 56}, {\"Case\": 11, \"Rank\": 2, \"Reader\": 3, \"Kernel\": 48}, {\"Case\": 11, \"Rank\": 3, \"Reader\": 3, \"Kernel\": 40}, {\"Case\": 11, \"Rank\": 4, \"Reader\": 3, \"Kernel\": 70}, {\"Case\": 2, \"Rank\": 1, \"Reader\": 3, \"Kernel\": 56}, {\"Case\": 2, \"Rank\": 2, \"Reader\": 3, \"Kernel\": 70}, {\"Case\": 2, \"Rank\": 3, \"Reader\": 3, \"Kernel\": 48}, {\"Case\": 2, \"Rank\": 4, \"Reader\": 3, \"Kernel\": 40}, {\"Case\": 1, \"Rank\": 1, \"Reader\": 3, \"Kernel\": 56}, {\"Case\": 1, \"Rank\": 2, \"Reader\": 3, \"Kernel\": 48}, {\"Case\": 1, \"Rank\": 3, \"Reader\": 3, \"Kernel\": 40}, {\"Case\": 1, \"Rank\": 4, \"Reader\": 3, \"Kernel\": 70}, {\"Case\": 10, \"Rank\": 1, \"Reader\": 3, \"Kernel\": 56}, {\"Case\": 10, \"Rank\": 2, \"Reader\": 3, \"Kernel\": 48}, {\"Case\": 10, \"Rank\": 3, \"Reader\": 3, \"Kernel\": 40}, {\"Case\": 10, \"Rank\": 4, \"Reader\": 3, \"Kernel\": 70}, {\"Case\": 6, \"Rank\": 1, \"Reader\": 3, \"Kernel\": 56}, {\"Case\": 6, \"Rank\": 2, \"Reader\": 3, \"Kernel\": 48}, {\"Case\": 6, \"Rank\": 3, \"Reader\": 3, \"Kernel\": 70}, {\"Case\": 6, \"Rank\": 4, \"Reader\": 3, \"Kernel\": 40}, {\"Case\": 8, \"Rank\": 1, \"Reader\": 4, \"Kernel\": 56}, {\"Case\": 8, \"Rank\": 2, \"Reader\": 4, \"Kernel\": 48}, {\"Case\": 8, \"Rank\": 3, \"Reader\": 4, \"Kernel\": 40}, {\"Case\": 8, \"Rank\": 4, \"Reader\": 4, \"Kernel\": 70}, {\"Case\": 17, \"Rank\": 1, \"Reader\": 4, \"Kernel\": 48}, {\"Case\": 17, \"Rank\": 2, \"Reader\": 4, \"Kernel\": 40}, {\"Case\": 17, \"Rank\": 3, \"Reader\": 4, \"Kernel\": 70}, {\"Case\": 17, \"Rank\": 4, \"Reader\": 4, \"Kernel\": 56}, {\"Case\": 20, \"Rank\": 1, \"Reader\": 4, \"Kernel\": 56}, {\"Case\": 20, \"Rank\": 2, \"Reader\": 4, \"Kernel\": 48}, {\"Case\": 20, \"Rank\": 3, \"Reader\": 4, \"Kernel\": 40}, {\"Case\": 20, \"Rank\": 4, \"Reader\": 4, \"Kernel\": 70}, {\"Case\": 18, \"Rank\": 1, \"Reader\": 4, \"Kernel\": 56}, {\"Case\": 18, \"Rank\": 2, \"Reader\": 4, \"Kernel\": 48}, {\"Case\": 18, \"Rank\": 3, \"Reader\": 4, \"Kernel\": 40}, {\"Case\": 18, \"Rank\": 4, \"Reader\": 4, \"Kernel\": 70}, {\"Case\": 2, \"Rank\": 1, \"Reader\": 4, \"Kernel\": 56}, {\"Case\": 2, \"Rank\": 2, \"Reader\": 4, \"Kernel\": 48}, {\"Case\": 2, \"Rank\": 3, \"Reader\": 4, \"Kernel\": 40}, {\"Case\": 2, \"Rank\": 4, \"Reader\": 4, \"Kernel\": 70}, {\"Case\": 1, \"Rank\": 1, \"Reader\": 4, \"Kernel\": 56}, {\"Case\": 1, \"Rank\": 2, \"Reader\": 4, \"Kernel\": 48}, {\"Case\": 1, \"Rank\": 3, \"Reader\": 4, \"Kernel\": 40}, {\"Case\": 1, \"Rank\": 4, \"Reader\": 4, \"Kernel\": 70}, {\"Case\": 6, \"Rank\": 1, \"Reader\": 4, \"Kernel\": 48}, {\"Case\": 6, \"Rank\": 2, \"Reader\": 4, \"Kernel\": 56}, {\"Case\": 6, \"Rank\": 3, \"Reader\": 4, \"Kernel\": 40}, {\"Case\": 6, \"Rank\": 4, \"Reader\": 4, \"Kernel\": 70}, {\"Case\": 7, \"Rank\": 1, \"Reader\": 4, \"Kernel\": 48}, {\"Case\": 7, \"Rank\": 2, \"Reader\": 4, \"Kernel\": 40}, {\"Case\": 7, \"Rank\": 3, \"Reader\": 4, \"Kernel\": 56}, {\"Case\": 7, \"Rank\": 4, \"Reader\": 4, \"Kernel\": 70}, {\"Case\": 15, \"Rank\": 1, \"Reader\": 4, \"Kernel\": 48}, {\"Case\": 15, \"Rank\": 2, \"Reader\": 4, \"Kernel\": 56}, {\"Case\": 15, \"Rank\": 3, \"Reader\": 4, \"Kernel\": 40}, {\"Case\": 15, \"Rank\": 4, \"Reader\": 4, \"Kernel\": 70}, {\"Case\": 14, \"Rank\": 1, \"Reader\": 4, \"Kernel\": 56}, {\"Case\": 14, \"Rank\": 2, \"Reader\": 4, \"Kernel\": 48}, {\"Case\": 14, \"Rank\": 3, \"Reader\": 4, \"Kernel\": 40}, {\"Case\": 14, \"Rank\": 4, \"Reader\": 4, \"Kernel\": 70}, {\"Case\": 16, \"Rank\": 1, \"Reader\": 4, \"Kernel\": 56}, {\"Case\": 16, \"Rank\": 2, \"Reader\": 4, \"Kernel\": 48}, {\"Case\": 16, \"Rank\": 3, \"Reader\": 4, \"Kernel\": 40}, {\"Case\": 16, \"Rank\": 4, \"Reader\": 4, \"Kernel\": 70}, {\"Case\": 19, \"Rank\": 1, \"Reader\": 4, \"Kernel\": 48}, {\"Case\": 19, \"Rank\": 2, \"Reader\": 4, \"Kernel\": 70}, {\"Case\": 19, \"Rank\": 3, \"Reader\": 4, \"Kernel\": 56}, {\"Case\": 19, \"Rank\": 4, \"Reader\": 4, \"Kernel\": 40}, {\"Case\": 13, \"Rank\": 1, \"Reader\": 4, \"Kernel\": 56}, {\"Case\": 13, \"Rank\": 2, \"Reader\": 4, \"Kernel\": 48}, {\"Case\": 13, \"Rank\": 3, \"Reader\": 4, \"Kernel\": 40}, {\"Case\": 13, \"Rank\": 4, \"Reader\": 4, \"Kernel\": 70}, {\"Case\": 9, \"Rank\": 1, \"Reader\": 4, \"Kernel\": 56}, {\"Case\": 9, \"Rank\": 2, \"Reader\": 4, \"Kernel\": 48}, {\"Case\": 9, \"Rank\": 3, \"Reader\": 4, \"Kernel\": 40}, {\"Case\": 9, \"Rank\": 4, \"Reader\": 4, \"Kernel\": 70}, {\"Case\": 4, \"Rank\": 1, \"Reader\": 4, \"Kernel\": 48}, {\"Case\": 4, \"Rank\": 2, \"Reader\": 4, \"Kernel\": 56}, {\"Case\": 4, \"Rank\": 3, \"Reader\": 4, \"Kernel\": 40}, {\"Case\": 4, \"Rank\": 4, \"Reader\": 4, \"Kernel\": 70}, {\"Case\": 12, \"Rank\": 1, \"Reader\": 4, \"Kernel\": 56}, {\"Case\": 12, \"Rank\": 2, \"Reader\": 4, \"Kernel\": 48}, {\"Case\": 12, \"Rank\": 3, \"Reader\": 4, \"Kernel\": 70}, {\"Case\": 12, \"Rank\": 4, \"Reader\": 4, \"Kernel\": 40}, {\"Case\": 3, \"Rank\": 1, \"Reader\": 4, \"Kernel\": 48}, {\"Case\": 3, \"Rank\": 2, \"Reader\": 4, \"Kernel\": 40}, {\"Case\": 3, \"Rank\": 3, \"Reader\": 4, \"Kernel\": 70}, {\"Case\": 3, \"Rank\": 4, \"Reader\": 4, \"Kernel\": 56}, {\"Case\": 5, \"Rank\": 1, \"Reader\": 4, \"Kernel\": 70}, {\"Case\": 5, \"Rank\": 2, \"Reader\": 4, \"Kernel\": 56}, {\"Case\": 5, \"Rank\": 3, \"Reader\": 4, \"Kernel\": 40}, {\"Case\": 5, \"Rank\": 4, \"Reader\": 4, \"Kernel\": 48}, {\"Case\": 11, \"Rank\": 1, \"Reader\": 4, \"Kernel\": 56}, {\"Case\": 11, \"Rank\": 2, \"Reader\": 4, \"Kernel\": 70}, {\"Case\": 11, \"Rank\": 3, \"Reader\": 4, \"Kernel\": 48}, {\"Case\": 11, \"Rank\": 4, \"Reader\": 4, \"Kernel\": 40}, {\"Case\": 10, \"Rank\": 1, \"Reader\": 4, \"Kernel\": 48}, {\"Case\": 10, \"Rank\": 2, \"Reader\": 4, \"Kernel\": 40}, {\"Case\": 10, \"Rank\": 3, \"Reader\": 4, \"Kernel\": 56}, {\"Case\": 10, \"Rank\": 4, \"Reader\": 4, \"Kernel\": 70}, {\"Case\": 8, \"Rank\": 1, \"Reader\": 5, \"Kernel\": 56}, {\"Case\": 8, \"Rank\": 2, \"Reader\": 5, \"Kernel\": 48}, {\"Case\": 8, \"Rank\": 3, \"Reader\": 5, \"Kernel\": 40}, {\"Case\": 8, \"Rank\": 4, \"Reader\": 5, \"Kernel\": 70}, {\"Case\": 17, \"Rank\": 1, \"Reader\": 5, \"Kernel\": 56}, {\"Case\": 17, \"Rank\": 2, \"Reader\": 5, \"Kernel\": 48}, {\"Case\": 17, \"Rank\": 3, \"Reader\": 5, \"Kernel\": 70}, {\"Case\": 17, \"Rank\": 4, \"Reader\": 5, \"Kernel\": 40}, {\"Case\": 16, \"Rank\": 1, \"Reader\": 5, \"Kernel\": 56}, {\"Case\": 16, \"Rank\": 2, \"Reader\": 5, \"Kernel\": 48}, {\"Case\": 16, \"Rank\": 3, \"Reader\": 5, \"Kernel\": 40}, {\"Case\": 16, \"Rank\": 4, \"Reader\": 5, \"Kernel\": 70}, {\"Case\": 7, \"Rank\": 1, \"Reader\": 5, \"Kernel\": 56}, {\"Case\": 7, \"Rank\": 2, \"Reader\": 5, \"Kernel\": 48}, {\"Case\": 7, \"Rank\": 3, \"Reader\": 5, \"Kernel\": 40}, {\"Case\": 7, \"Rank\": 4, \"Reader\": 5, \"Kernel\": 70}, {\"Case\": 19, \"Rank\": 1, \"Reader\": 5, \"Kernel\": 56}, {\"Case\": 19, \"Rank\": 2, \"Reader\": 5, \"Kernel\": 48}, {\"Case\": 19, \"Rank\": 3, \"Reader\": 5, \"Kernel\": 70}, {\"Case\": 19, \"Rank\": 4, \"Reader\": 5, \"Kernel\": 40}, {\"Case\": 13, \"Rank\": 1, \"Reader\": 5, \"Kernel\": 56}, {\"Case\": 13, \"Rank\": 2, \"Reader\": 5, \"Kernel\": 48}, {\"Case\": 13, \"Rank\": 3, \"Reader\": 5, \"Kernel\": 70}, {\"Case\": 13, \"Rank\": 4, \"Reader\": 5, \"Kernel\": 40}, {\"Case\": 9, \"Rank\": 1, \"Reader\": 5, \"Kernel\": 56}, {\"Case\": 9, \"Rank\": 2, \"Reader\": 5, \"Kernel\": 48}, {\"Case\": 9, \"Rank\": 3, \"Reader\": 5, \"Kernel\": 70}, {\"Case\": 9, \"Rank\": 4, \"Reader\": 5, \"Kernel\": 40}, {\"Case\": 20, \"Rank\": 1, \"Reader\": 5, \"Kernel\": 56}, {\"Case\": 20, \"Rank\": 2, \"Reader\": 5, \"Kernel\": 48}, {\"Case\": 20, \"Rank\": 3, \"Reader\": 5, \"Kernel\": 40}, {\"Case\": 20, \"Rank\": 4, \"Reader\": 5, \"Kernel\": 70}, {\"Case\": 15, \"Rank\": 1, \"Reader\": 5, \"Kernel\": 56}, {\"Case\": 15, \"Rank\": 2, \"Reader\": 5, \"Kernel\": 48}, {\"Case\": 15, \"Rank\": 3, \"Reader\": 5, \"Kernel\": 70}, {\"Case\": 15, \"Rank\": 4, \"Reader\": 5, \"Kernel\": 40}, {\"Case\": 4, \"Rank\": 1, \"Reader\": 5, \"Kernel\": 56}, {\"Case\": 4, \"Rank\": 2, \"Reader\": 5, \"Kernel\": 48}, {\"Case\": 4, \"Rank\": 3, \"Reader\": 5, \"Kernel\": 70}, {\"Case\": 4, \"Rank\": 4, \"Reader\": 5, \"Kernel\": 40}, {\"Case\": 14, \"Rank\": 1, \"Reader\": 5, \"Kernel\": 56}, {\"Case\": 14, \"Rank\": 2, \"Reader\": 5, \"Kernel\": 48}, {\"Case\": 14, \"Rank\": 3, \"Reader\": 5, \"Kernel\": 40}, {\"Case\": 14, \"Rank\": 4, \"Reader\": 5, \"Kernel\": 70}, {\"Case\": 12, \"Rank\": 1, \"Reader\": 5, \"Kernel\": 56}, {\"Case\": 12, \"Rank\": 2, \"Reader\": 5, \"Kernel\": 48}, {\"Case\": 12, \"Rank\": 3, \"Reader\": 5, \"Kernel\": 70}, {\"Case\": 12, \"Rank\": 4, \"Reader\": 5, \"Kernel\": 40}, {\"Case\": 18, \"Rank\": 1, \"Reader\": 5, \"Kernel\": 56}, {\"Case\": 18, \"Rank\": 2, \"Reader\": 5, \"Kernel\": 48}, {\"Case\": 18, \"Rank\": 3, \"Reader\": 5, \"Kernel\": 40}, {\"Case\": 18, \"Rank\": 4, \"Reader\": 5, \"Kernel\": 70}, {\"Case\": 3, \"Rank\": 1, \"Reader\": 5, \"Kernel\": 56}, {\"Case\": 3, \"Rank\": 2, \"Reader\": 5, \"Kernel\": 48}, {\"Case\": 3, \"Rank\": 3, \"Reader\": 5, \"Kernel\": 70}, {\"Case\": 3, \"Rank\": 4, \"Reader\": 5, \"Kernel\": 40}, {\"Case\": 5, \"Rank\": 1, \"Reader\": 5, \"Kernel\": 56}, {\"Case\": 5, \"Rank\": 2, \"Reader\": 5, \"Kernel\": 48}, {\"Case\": 5, \"Rank\": 3, \"Reader\": 5, \"Kernel\": 40}, {\"Case\": 5, \"Rank\": 4, \"Reader\": 5, \"Kernel\": 70}, {\"Case\": 11, \"Rank\": 1, \"Reader\": 5, \"Kernel\": 56}, {\"Case\": 11, \"Rank\": 2, \"Reader\": 5, \"Kernel\": 48}, {\"Case\": 11, \"Rank\": 3, \"Reader\": 5, \"Kernel\": 70}, {\"Case\": 11, \"Rank\": 4, \"Reader\": 5, \"Kernel\": 40}, {\"Case\": 2, \"Rank\": 1, \"Reader\": 5, \"Kernel\": 56}, {\"Case\": 2, \"Rank\": 2, \"Reader\": 5, \"Kernel\": 48}, {\"Case\": 2, \"Rank\": 3, \"Reader\": 5, \"Kernel\": 40}, {\"Case\": 2, \"Rank\": 4, \"Reader\": 5, \"Kernel\": 70}, {\"Case\": 1, \"Rank\": 1, \"Reader\": 5, \"Kernel\": 56}, {\"Case\": 1, \"Rank\": 2, \"Reader\": 5, \"Kernel\": 48}, {\"Case\": 1, \"Rank\": 3, \"Reader\": 5, \"Kernel\": 70}, {\"Case\": 1, \"Rank\": 4, \"Reader\": 5, \"Kernel\": 40}, {\"Case\": 10, \"Rank\": 1, \"Reader\": 5, \"Kernel\": 56}, {\"Case\": 10, \"Rank\": 2, \"Reader\": 5, \"Kernel\": 48}, {\"Case\": 10, \"Rank\": 3, \"Reader\": 5, \"Kernel\": 40}, {\"Case\": 10, \"Rank\": 4, \"Reader\": 5, \"Kernel\": 70}, {\"Case\": 6, \"Rank\": 1, \"Reader\": 5, \"Kernel\": 56}, {\"Case\": 6, \"Rank\": 2, \"Reader\": 5, \"Kernel\": 48}, {\"Case\": 6, \"Rank\": 3, \"Reader\": 5, \"Kernel\": 70}, {\"Case\": 6, \"Rank\": 4, \"Reader\": 5, \"Kernel\": 40}]}}, {\"mode\": \"vega-lite\"});\n",
       "</script>"
      ],
      "text/plain": [
       "alt.Chart(...)"
      ]
     },
     "execution_count": 47,
     "metadata": {},
     "output_type": "execute_result"
    }
   ],
   "source": [
    "alt.Chart(chest_kernels).mark_bar(size=30).encode(\n",
    "    alt.X('Kernel:Q',\n",
    "    scale=alt.Scale(zero=False)\n",
    "    ),\n",
    "    y='sum(Rank):Q',\n",
    "    color=alt.Color('Kernel', scale=alt.Scale(scheme='turbo'))\n",
    ")"
   ]
  },
  {
   "cell_type": "markdown",
   "metadata": {},
   "source": [
    "This plot shows that the overall lowest sum of ranks was achieved by the PCCT Br56f kernel (sharpest kernel), which confirms that it received the highest number of 1st and second choice votes from readers. The second most preferred kernel was the PCCT Br48f kernel, the third most preferred kernel was the PCCT Br40f kernel and the least preferred kernel, with the highest sum of ranks was the standard CT reconstruction kernel. The plots in b and c confirm that the rank order of preference is from sharpest kernel (PCCT Br56f) to smoothest kernel (standard CT kernel)."
   ]
  },
  {
   "cell_type": "markdown",
   "metadata": {},
   "source": [
    "d) Sum of Ranks by reader"
   ]
  },
  {
   "cell_type": "code",
   "execution_count": 48,
   "metadata": {},
   "outputs": [
    {
     "data": {
      "text/html": [
       "\n",
       "<div id=\"altair-viz-a05ef5046ce14707a0c26be50ee269bb\"></div>\n",
       "<script type=\"text/javascript\">\n",
       "  (function(spec, embedOpt){\n",
       "    let outputDiv = document.currentScript.previousElementSibling;\n",
       "    if (outputDiv.id !== \"altair-viz-a05ef5046ce14707a0c26be50ee269bb\") {\n",
       "      outputDiv = document.getElementById(\"altair-viz-a05ef5046ce14707a0c26be50ee269bb\");\n",
       "    }\n",
       "    const paths = {\n",
       "      \"vega\": \"https://cdn.jsdelivr.net/npm//vega@5?noext\",\n",
       "      \"vega-lib\": \"https://cdn.jsdelivr.net/npm//vega-lib?noext\",\n",
       "      \"vega-lite\": \"https://cdn.jsdelivr.net/npm//vega-lite@4.8.1?noext\",\n",
       "      \"vega-embed\": \"https://cdn.jsdelivr.net/npm//vega-embed@6?noext\",\n",
       "    };\n",
       "\n",
       "    function loadScript(lib) {\n",
       "      return new Promise(function(resolve, reject) {\n",
       "        var s = document.createElement('script');\n",
       "        s.src = paths[lib];\n",
       "        s.async = true;\n",
       "        s.onload = () => resolve(paths[lib]);\n",
       "        s.onerror = () => reject(`Error loading script: ${paths[lib]}`);\n",
       "        document.getElementsByTagName(\"head\")[0].appendChild(s);\n",
       "      });\n",
       "    }\n",
       "\n",
       "    function showError(err) {\n",
       "      outputDiv.innerHTML = `<div class=\"error\" style=\"color:red;\">${err}</div>`;\n",
       "      throw err;\n",
       "    }\n",
       "\n",
       "    function displayChart(vegaEmbed) {\n",
       "      vegaEmbed(outputDiv, spec, embedOpt)\n",
       "        .catch(err => showError(`Javascript Error: ${err.message}<br>This usually means there's a typo in your chart specification. See the javascript console for the full traceback.`));\n",
       "    }\n",
       "\n",
       "    if(typeof define === \"function\" && define.amd) {\n",
       "      requirejs.config({paths});\n",
       "      require([\"vega-embed\"], displayChart, err => showError(`Error loading script: ${err.message}`));\n",
       "    } else if (typeof vegaEmbed === \"function\") {\n",
       "      displayChart(vegaEmbed);\n",
       "    } else {\n",
       "      loadScript(\"vega\")\n",
       "        .then(() => loadScript(\"vega-lite\"))\n",
       "        .then(() => loadScript(\"vega-embed\"))\n",
       "        .catch(showError)\n",
       "        .then(() => displayChart(vegaEmbed));\n",
       "    }\n",
       "  })({\"config\": {\"view\": {\"continuousWidth\": 400, \"continuousHeight\": 300}}, \"data\": {\"name\": \"data-394b924515012d7142f5df30710fae87\"}, \"mark\": {\"type\": \"bar\", \"size\": 30}, \"encoding\": {\"color\": {\"type\": \"quantitative\", \"field\": \"Reader\", \"scale\": {\"scheme\": \"turbo\"}}, \"x\": {\"type\": \"quantitative\", \"field\": \"Kernel\", \"scale\": {\"zero\": false}}, \"y\": {\"type\": \"quantitative\", \"aggregate\": \"sum\", \"field\": \"Rank\"}}, \"$schema\": \"https://vega.github.io/schema/vega-lite/v4.8.1.json\", \"datasets\": {\"data-394b924515012d7142f5df30710fae87\": [{\"Case\": 8, \"Rank\": 1, \"Reader\": 1, \"Kernel\": 48}, {\"Case\": 8, \"Rank\": 2, \"Reader\": 1, \"Kernel\": 56}, {\"Case\": 8, \"Rank\": 3, \"Reader\": 1, \"Kernel\": 40}, {\"Case\": 8, \"Rank\": 4, \"Reader\": 1, \"Kernel\": 70}, {\"Case\": 17, \"Rank\": 1, \"Reader\": 1, \"Kernel\": 48}, {\"Case\": 17, \"Rank\": 2, \"Reader\": 1, \"Kernel\": 40}, {\"Case\": 17, \"Rank\": 3, \"Reader\": 1, \"Kernel\": 70}, {\"Case\": 17, \"Rank\": 4, \"Reader\": 1, \"Kernel\": 56}, {\"Case\": 16, \"Rank\": 1, \"Reader\": 1, \"Kernel\": 40}, {\"Case\": 16, \"Rank\": 2, \"Reader\": 1, \"Kernel\": 70}, {\"Case\": 16, \"Rank\": 3, \"Reader\": 1, \"Kernel\": 56}, {\"Case\": 16, \"Rank\": 4, \"Reader\": 1, \"Kernel\": 48}, {\"Case\": 7, \"Rank\": 1, \"Reader\": 1, \"Kernel\": 56}, {\"Case\": 7, \"Rank\": 2, \"Reader\": 1, \"Kernel\": 48}, {\"Case\": 7, \"Rank\": 3, \"Reader\": 1, \"Kernel\": 70}, {\"Case\": 7, \"Rank\": 4, \"Reader\": 1, \"Kernel\": 40}, {\"Case\": 19, \"Rank\": 1, \"Reader\": 1, \"Kernel\": 48}, {\"Case\": 19, \"Rank\": 2, \"Reader\": 1, \"Kernel\": 56}, {\"Case\": 19, \"Rank\": 3, \"Reader\": 1, \"Kernel\": 70}, {\"Case\": 19, \"Rank\": 4, \"Reader\": 1, \"Kernel\": 40}, {\"Case\": 13, \"Rank\": 1, \"Reader\": 1, \"Kernel\": 48}, {\"Case\": 13, \"Rank\": 2, \"Reader\": 1, \"Kernel\": 56}, {\"Case\": 13, \"Rank\": 3, \"Reader\": 1, \"Kernel\": 40}, {\"Case\": 13, \"Rank\": 4, \"Reader\": 1, \"Kernel\": 70}, {\"Case\": 9, \"Rank\": 1, \"Reader\": 1, \"Kernel\": 56}, {\"Case\": 9, \"Rank\": 2, \"Reader\": 1, \"Kernel\": 48}, {\"Case\": 9, \"Rank\": 3, \"Reader\": 1, \"Kernel\": 40}, {\"Case\": 9, \"Rank\": 4, \"Reader\": 1, \"Kernel\": 70}, {\"Case\": 20, \"Rank\": 1, \"Reader\": 1, \"Kernel\": 40}, {\"Case\": 20, \"Rank\": 2, \"Reader\": 1, \"Kernel\": 56}, {\"Case\": 20, \"Rank\": 3, \"Reader\": 1, \"Kernel\": 48}, {\"Case\": 20, \"Rank\": 4, \"Reader\": 1, \"Kernel\": 70}, {\"Case\": 15, \"Rank\": 1, \"Reader\": 1, \"Kernel\": 48}, {\"Case\": 15, \"Rank\": 2, \"Reader\": 1, \"Kernel\": 70}, {\"Case\": 15, \"Rank\": 3, \"Reader\": 1, \"Kernel\": 56}, {\"Case\": 15, \"Rank\": 4, \"Reader\": 1, \"Kernel\": 40}, {\"Case\": 4, \"Rank\": 1, \"Reader\": 1, \"Kernel\": 48}, {\"Case\": 4, \"Rank\": 2, \"Reader\": 1, \"Kernel\": 56}, {\"Case\": 4, \"Rank\": 3, \"Reader\": 1, \"Kernel\": 40}, {\"Case\": 4, \"Rank\": 4, \"Reader\": 1, \"Kernel\": 70}, {\"Case\": 14, \"Rank\": 1, \"Reader\": 1, \"Kernel\": 48}, {\"Case\": 14, \"Rank\": 2, \"Reader\": 1, \"Kernel\": 56}, {\"Case\": 14, \"Rank\": 3, \"Reader\": 1, \"Kernel\": 70}, {\"Case\": 14, \"Rank\": 4, \"Reader\": 1, \"Kernel\": 40}, {\"Case\": 12, \"Rank\": 1, \"Reader\": 1, \"Kernel\": 48}, {\"Case\": 12, \"Rank\": 2, \"Reader\": 1, \"Kernel\": 56}, {\"Case\": 12, \"Rank\": 3, \"Reader\": 1, \"Kernel\": 70}, {\"Case\": 12, \"Rank\": 4, \"Reader\": 1, \"Kernel\": 40}, {\"Case\": 18, \"Rank\": 1, \"Reader\": 1, \"Kernel\": 48}, {\"Case\": 18, \"Rank\": 2, \"Reader\": 1, \"Kernel\": 56}, {\"Case\": 18, \"Rank\": 3, \"Reader\": 1, \"Kernel\": 40}, {\"Case\": 18, \"Rank\": 4, \"Reader\": 1, \"Kernel\": 70}, {\"Case\": 3, \"Rank\": 1, \"Reader\": 1, \"Kernel\": 56}, {\"Case\": 3, \"Rank\": 2, \"Reader\": 1, \"Kernel\": 40}, {\"Case\": 3, \"Rank\": 3, \"Reader\": 1, \"Kernel\": 48}, {\"Case\": 3, \"Rank\": 4, \"Reader\": 1, \"Kernel\": 70}, {\"Case\": 5, \"Rank\": 1, \"Reader\": 1, \"Kernel\": 48}, {\"Case\": 5, \"Rank\": 2, \"Reader\": 1, \"Kernel\": 56}, {\"Case\": 5, \"Rank\": 3, \"Reader\": 1, \"Kernel\": 40}, {\"Case\": 5, \"Rank\": 4, \"Reader\": 1, \"Kernel\": 70}, {\"Case\": 11, \"Rank\": 1, \"Reader\": 1, \"Kernel\": 56}, {\"Case\": 11, \"Rank\": 2, \"Reader\": 1, \"Kernel\": 48}, {\"Case\": 11, \"Rank\": 3, \"Reader\": 1, \"Kernel\": 40}, {\"Case\": 11, \"Rank\": 4, \"Reader\": 1, \"Kernel\": 70}, {\"Case\": 2, \"Rank\": 1, \"Reader\": 1, \"Kernel\": 48}, {\"Case\": 2, \"Rank\": 2, \"Reader\": 1, \"Kernel\": 56}, {\"Case\": 2, \"Rank\": 3, \"Reader\": 1, \"Kernel\": 40}, {\"Case\": 2, \"Rank\": 4, \"Reader\": 1, \"Kernel\": 70}, {\"Case\": 1, \"Rank\": 1, \"Reader\": 1, \"Kernel\": 48}, {\"Case\": 1, \"Rank\": 2, \"Reader\": 1, \"Kernel\": 56}, {\"Case\": 1, \"Rank\": 3, \"Reader\": 1, \"Kernel\": 70}, {\"Case\": 1, \"Rank\": 4, \"Reader\": 1, \"Kernel\": 40}, {\"Case\": 10, \"Rank\": 1, \"Reader\": 1, \"Kernel\": 56}, {\"Case\": 10, \"Rank\": 2, \"Reader\": 1, \"Kernel\": 48}, {\"Case\": 10, \"Rank\": 3, \"Reader\": 1, \"Kernel\": 40}, {\"Case\": 10, \"Rank\": 4, \"Reader\": 1, \"Kernel\": 70}, {\"Case\": 6, \"Rank\": 1, \"Reader\": 1, \"Kernel\": 48}, {\"Case\": 6, \"Rank\": 2, \"Reader\": 1, \"Kernel\": 56}, {\"Case\": 6, \"Rank\": 3, \"Reader\": 1, \"Kernel\": 70}, {\"Case\": 6, \"Rank\": 4, \"Reader\": 1, \"Kernel\": 40}, {\"Case\": 8, \"Rank\": 1, \"Reader\": 2, \"Kernel\": 56}, {\"Case\": 8, \"Rank\": 2, \"Reader\": 2, \"Kernel\": 48}, {\"Case\": 8, \"Rank\": 3, \"Reader\": 2, \"Kernel\": 40}, {\"Case\": 8, \"Rank\": 4, \"Reader\": 2, \"Kernel\": 70}, {\"Case\": 17, \"Rank\": 1, \"Reader\": 2, \"Kernel\": 56}, {\"Case\": 17, \"Rank\": 2, \"Reader\": 2, \"Kernel\": 48}, {\"Case\": 17, \"Rank\": 3, \"Reader\": 2, \"Kernel\": 40}, {\"Case\": 17, \"Rank\": 4, \"Reader\": 2, \"Kernel\": 70}, {\"Case\": 16, \"Rank\": 1, \"Reader\": 2, \"Kernel\": 56}, {\"Case\": 16, \"Rank\": 2, \"Reader\": 2, \"Kernel\": 48}, {\"Case\": 16, \"Rank\": 3, \"Reader\": 2, \"Kernel\": 40}, {\"Case\": 16, \"Rank\": 4, \"Reader\": 2, \"Kernel\": 70}, {\"Case\": 7, \"Rank\": 1, \"Reader\": 2, \"Kernel\": 56}, {\"Case\": 7, \"Rank\": 2, \"Reader\": 2, \"Kernel\": 48}, {\"Case\": 7, \"Rank\": 3, \"Reader\": 2, \"Kernel\": 40}, {\"Case\": 7, \"Rank\": 4, \"Reader\": 2, \"Kernel\": 70}, {\"Case\": 19, \"Rank\": 1, \"Reader\": 2, \"Kernel\": 56}, {\"Case\": 19, \"Rank\": 2, \"Reader\": 2, \"Kernel\": 48}, {\"Case\": 19, \"Rank\": 3, \"Reader\": 2, \"Kernel\": 70}, {\"Case\": 19, \"Rank\": 4, \"Reader\": 2, \"Kernel\": 40}, {\"Case\": 13, \"Rank\": 1, \"Reader\": 2, \"Kernel\": 48}, {\"Case\": 13, \"Rank\": 2, \"Reader\": 2, \"Kernel\": 56}, {\"Case\": 13, \"Rank\": 3, \"Reader\": 2, \"Kernel\": 40}, {\"Case\": 13, \"Rank\": 4, \"Reader\": 2, \"Kernel\": 70}, {\"Case\": 9, \"Rank\": 1, \"Reader\": 2, \"Kernel\": 56}, {\"Case\": 9, \"Rank\": 2, \"Reader\": 2, \"Kernel\": 48}, {\"Case\": 9, \"Rank\": 3, \"Reader\": 2, \"Kernel\": 40}, {\"Case\": 9, \"Rank\": 4, \"Reader\": 2, \"Kernel\": 70}, {\"Case\": 20, \"Rank\": 1, \"Reader\": 2, \"Kernel\": 56}, {\"Case\": 20, \"Rank\": 2, \"Reader\": 2, \"Kernel\": 48}, {\"Case\": 20, \"Rank\": 3, \"Reader\": 2, \"Kernel\": 70}, {\"Case\": 20, \"Rank\": 4, \"Reader\": 2, \"Kernel\": 40}, {\"Case\": 15, \"Rank\": 1, \"Reader\": 2, \"Kernel\": 56}, {\"Case\": 15, \"Rank\": 2, \"Reader\": 2, \"Kernel\": 48}, {\"Case\": 15, \"Rank\": 3, \"Reader\": 2, \"Kernel\": 40}, {\"Case\": 15, \"Rank\": 4, \"Reader\": 2, \"Kernel\": 70}, {\"Case\": 4, \"Rank\": 1, \"Reader\": 2, \"Kernel\": 56}, {\"Case\": 4, \"Rank\": 2, \"Reader\": 2, \"Kernel\": 48}, {\"Case\": 4, \"Rank\": 3, \"Reader\": 2, \"Kernel\": 40}, {\"Case\": 4, \"Rank\": 4, \"Reader\": 2, \"Kernel\": 70}, {\"Case\": 14, \"Rank\": 1, \"Reader\": 2, \"Kernel\": 56}, {\"Case\": 14, \"Rank\": 2, \"Reader\": 2, \"Kernel\": 48}, {\"Case\": 14, \"Rank\": 3, \"Reader\": 2, \"Kernel\": 40}, {\"Case\": 14, \"Rank\": 4, \"Reader\": 2, \"Kernel\": 70}, {\"Case\": 12, \"Rank\": 1, \"Reader\": 2, \"Kernel\": 56}, {\"Case\": 12, \"Rank\": 2, \"Reader\": 2, \"Kernel\": 48}, {\"Case\": 12, \"Rank\": 3, \"Reader\": 2, \"Kernel\": 40}, {\"Case\": 12, \"Rank\": 4, \"Reader\": 2, \"Kernel\": 70}, {\"Case\": 18, \"Rank\": 1, \"Reader\": 2, \"Kernel\": 56}, {\"Case\": 18, \"Rank\": 2, \"Reader\": 2, \"Kernel\": 48}, {\"Case\": 18, \"Rank\": 3, \"Reader\": 2, \"Kernel\": 40}, {\"Case\": 18, \"Rank\": 4, \"Reader\": 2, \"Kernel\": 70}, {\"Case\": 3, \"Rank\": 1, \"Reader\": 2, \"Kernel\": 56}, {\"Case\": 3, \"Rank\": 2, \"Reader\": 2, \"Kernel\": 48}, {\"Case\": 3, \"Rank\": 3, \"Reader\": 2, \"Kernel\": 40}, {\"Case\": 3, \"Rank\": 4, \"Reader\": 2, \"Kernel\": 70}, {\"Case\": 5, \"Rank\": 1, \"Reader\": 2, \"Kernel\": 56}, {\"Case\": 5, \"Rank\": 2, \"Reader\": 2, \"Kernel\": 48}, {\"Case\": 5, \"Rank\": 3, \"Reader\": 2, \"Kernel\": 40}, {\"Case\": 5, \"Rank\": 4, \"Reader\": 2, \"Kernel\": 70}, {\"Case\": 11, \"Rank\": 1, \"Reader\": 2, \"Kernel\": 56}, {\"Case\": 11, \"Rank\": 2, \"Reader\": 2, \"Kernel\": 48}, {\"Case\": 11, \"Rank\": 3, \"Reader\": 2, \"Kernel\": 40}, {\"Case\": 11, \"Rank\": 4, \"Reader\": 2, \"Kernel\": 70}, {\"Case\": 2, \"Rank\": 1, \"Reader\": 2, \"Kernel\": 56}, {\"Case\": 2, \"Rank\": 2, \"Reader\": 2, \"Kernel\": 48}, {\"Case\": 2, \"Rank\": 3, \"Reader\": 2, \"Kernel\": 70}, {\"Case\": 2, \"Rank\": 4, \"Reader\": 2, \"Kernel\": 40}, {\"Case\": 1, \"Rank\": 1, \"Reader\": 2, \"Kernel\": 56}, {\"Case\": 1, \"Rank\": 2, \"Reader\": 2, \"Kernel\": 48}, {\"Case\": 1, \"Rank\": 3, \"Reader\": 2, \"Kernel\": 40}, {\"Case\": 1, \"Rank\": 4, \"Reader\": 2, \"Kernel\": 70}, {\"Case\": 10, \"Rank\": 1, \"Reader\": 2, \"Kernel\": 56}, {\"Case\": 10, \"Rank\": 2, \"Reader\": 2, \"Kernel\": 48}, {\"Case\": 10, \"Rank\": 3, \"Reader\": 2, \"Kernel\": 40}, {\"Case\": 10, \"Rank\": 4, \"Reader\": 2, \"Kernel\": 70}, {\"Case\": 6, \"Rank\": 1, \"Reader\": 2, \"Kernel\": 56}, {\"Case\": 6, \"Rank\": 2, \"Reader\": 2, \"Kernel\": 48}, {\"Case\": 6, \"Rank\": 3, \"Reader\": 2, \"Kernel\": 40}, {\"Case\": 6, \"Rank\": 4, \"Reader\": 2, \"Kernel\": 70}, {\"Case\": 8, \"Rank\": 1, \"Reader\": 3, \"Kernel\": 56}, {\"Case\": 8, \"Rank\": 2, \"Reader\": 3, \"Kernel\": 48}, {\"Case\": 8, \"Rank\": 3, \"Reader\": 3, \"Kernel\": 70}, {\"Case\": 8, \"Rank\": 4, \"Reader\": 3, \"Kernel\": 40}, {\"Case\": 17, \"Rank\": 1, \"Reader\": 3, \"Kernel\": 56}, {\"Case\": 17, \"Rank\": 2, \"Reader\": 3, \"Kernel\": 48}, {\"Case\": 17, \"Rank\": 3, \"Reader\": 3, \"Kernel\": 40}, {\"Case\": 17, \"Rank\": 4, \"Reader\": 3, \"Kernel\": 70}, {\"Case\": 16, \"Rank\": 1, \"Reader\": 3, \"Kernel\": 56}, {\"Case\": 16, \"Rank\": 2, \"Reader\": 3, \"Kernel\": 48}, {\"Case\": 16, \"Rank\": 3, \"Reader\": 3, \"Kernel\": 70}, {\"Case\": 16, \"Rank\": 4, \"Reader\": 3, \"Kernel\": 40}, {\"Case\": 7, \"Rank\": 1, \"Reader\": 3, \"Kernel\": 48}, {\"Case\": 7, \"Rank\": 2, \"Reader\": 3, \"Kernel\": 56}, {\"Case\": 7, \"Rank\": 3, \"Reader\": 3, \"Kernel\": 70}, {\"Case\": 7, \"Rank\": 4, \"Reader\": 3, \"Kernel\": 40}, {\"Case\": 19, \"Rank\": 1, \"Reader\": 3, \"Kernel\": 56}, {\"Case\": 19, \"Rank\": 2, \"Reader\": 3, \"Kernel\": 48}, {\"Case\": 19, \"Rank\": 3, \"Reader\": 3, \"Kernel\": 70}, {\"Case\": 19, \"Rank\": 4, \"Reader\": 3, \"Kernel\": 40}, {\"Case\": 13, \"Rank\": 1, \"Reader\": 3, \"Kernel\": 48}, {\"Case\": 13, \"Rank\": 2, \"Reader\": 3, \"Kernel\": 56}, {\"Case\": 13, \"Rank\": 3, \"Reader\": 3, \"Kernel\": 70}, {\"Case\": 13, \"Rank\": 4, \"Reader\": 3, \"Kernel\": 40}, {\"Case\": 9, \"Rank\": 1, \"Reader\": 3, \"Kernel\": 56}, {\"Case\": 9, \"Rank\": 2, \"Reader\": 3, \"Kernel\": 48}, {\"Case\": 9, \"Rank\": 3, \"Reader\": 3, \"Kernel\": 40}, {\"Case\": 9, \"Rank\": 4, \"Reader\": 3, \"Kernel\": 70}, {\"Case\": 20, \"Rank\": 1, \"Reader\": 3, \"Kernel\": 56}, {\"Case\": 20, \"Rank\": 2, \"Reader\": 3, \"Kernel\": 48}, {\"Case\": 20, \"Rank\": 3, \"Reader\": 3, \"Kernel\": 40}, {\"Case\": 20, \"Rank\": 4, \"Reader\": 3, \"Kernel\": 70}, {\"Case\": 15, \"Rank\": 1, \"Reader\": 3, \"Kernel\": 70}, {\"Case\": 15, \"Rank\": 2, \"Reader\": 3, \"Kernel\": 56}, {\"Case\": 15, \"Rank\": 3, \"Reader\": 3, \"Kernel\": 48}, {\"Case\": 15, \"Rank\": 4, \"Reader\": 3, \"Kernel\": 40}, {\"Case\": 4, \"Rank\": 1, \"Reader\": 3, \"Kernel\": 70}, {\"Case\": 4, \"Rank\": 2, \"Reader\": 3, \"Kernel\": 56}, {\"Case\": 4, \"Rank\": 3, \"Reader\": 3, \"Kernel\": 48}, {\"Case\": 4, \"Rank\": 4, \"Reader\": 3, \"Kernel\": 40}, {\"Case\": 14, \"Rank\": 1, \"Reader\": 3, \"Kernel\": 56}, {\"Case\": 14, \"Rank\": 2, \"Reader\": 3, \"Kernel\": 48}, {\"Case\": 14, \"Rank\": 3, \"Reader\": 3, \"Kernel\": 70}, {\"Case\": 14, \"Rank\": 4, \"Reader\": 3, \"Kernel\": 40}, {\"Case\": 12, \"Rank\": 1, \"Reader\": 3, \"Kernel\": 48}, {\"Case\": 12, \"Rank\": 2, \"Reader\": 3, \"Kernel\": 56}, {\"Case\": 12, \"Rank\": 3, \"Reader\": 3, \"Kernel\": 40}, {\"Case\": 12, \"Rank\": 4, \"Reader\": 3, \"Kernel\": 70}, {\"Case\": 18, \"Rank\": 1, \"Reader\": 3, \"Kernel\": 56}, {\"Case\": 18, \"Rank\": 2, \"Reader\": 3, \"Kernel\": 48}, {\"Case\": 18, \"Rank\": 3, \"Reader\": 3, \"Kernel\": 40}, {\"Case\": 18, \"Rank\": 4, \"Reader\": 3, \"Kernel\": 70}, {\"Case\": 3, \"Rank\": 1, \"Reader\": 3, \"Kernel\": 56}, {\"Case\": 3, \"Rank\": 2, \"Reader\": 3, \"Kernel\": 48}, {\"Case\": 3, \"Rank\": 3, \"Reader\": 3, \"Kernel\": 70}, {\"Case\": 3, \"Rank\": 4, \"Reader\": 3, \"Kernel\": 40}, {\"Case\": 5, \"Rank\": 1, \"Reader\": 3, \"Kernel\": 56}, {\"Case\": 5, \"Rank\": 2, \"Reader\": 3, \"Kernel\": 48}, {\"Case\": 5, \"Rank\": 3, \"Reader\": 3, \"Kernel\": 40}, {\"Case\": 5, \"Rank\": 4, \"Reader\": 3, \"Kernel\": 70}, {\"Case\": 11, \"Rank\": 1, \"Reader\": 3, \"Kernel\": 56}, {\"Case\": 11, \"Rank\": 2, \"Reader\": 3, \"Kernel\": 48}, {\"Case\": 11, \"Rank\": 3, \"Reader\": 3, \"Kernel\": 40}, {\"Case\": 11, \"Rank\": 4, \"Reader\": 3, \"Kernel\": 70}, {\"Case\": 2, \"Rank\": 1, \"Reader\": 3, \"Kernel\": 56}, {\"Case\": 2, \"Rank\": 2, \"Reader\": 3, \"Kernel\": 70}, {\"Case\": 2, \"Rank\": 3, \"Reader\": 3, \"Kernel\": 48}, {\"Case\": 2, \"Rank\": 4, \"Reader\": 3, \"Kernel\": 40}, {\"Case\": 1, \"Rank\": 1, \"Reader\": 3, \"Kernel\": 56}, {\"Case\": 1, \"Rank\": 2, \"Reader\": 3, \"Kernel\": 48}, {\"Case\": 1, \"Rank\": 3, \"Reader\": 3, \"Kernel\": 40}, {\"Case\": 1, \"Rank\": 4, \"Reader\": 3, \"Kernel\": 70}, {\"Case\": 10, \"Rank\": 1, \"Reader\": 3, \"Kernel\": 56}, {\"Case\": 10, \"Rank\": 2, \"Reader\": 3, \"Kernel\": 48}, {\"Case\": 10, \"Rank\": 3, \"Reader\": 3, \"Kernel\": 40}, {\"Case\": 10, \"Rank\": 4, \"Reader\": 3, \"Kernel\": 70}, {\"Case\": 6, \"Rank\": 1, \"Reader\": 3, \"Kernel\": 56}, {\"Case\": 6, \"Rank\": 2, \"Reader\": 3, \"Kernel\": 48}, {\"Case\": 6, \"Rank\": 3, \"Reader\": 3, \"Kernel\": 70}, {\"Case\": 6, \"Rank\": 4, \"Reader\": 3, \"Kernel\": 40}, {\"Case\": 8, \"Rank\": 1, \"Reader\": 4, \"Kernel\": 56}, {\"Case\": 8, \"Rank\": 2, \"Reader\": 4, \"Kernel\": 48}, {\"Case\": 8, \"Rank\": 3, \"Reader\": 4, \"Kernel\": 40}, {\"Case\": 8, \"Rank\": 4, \"Reader\": 4, \"Kernel\": 70}, {\"Case\": 17, \"Rank\": 1, \"Reader\": 4, \"Kernel\": 48}, {\"Case\": 17, \"Rank\": 2, \"Reader\": 4, \"Kernel\": 40}, {\"Case\": 17, \"Rank\": 3, \"Reader\": 4, \"Kernel\": 70}, {\"Case\": 17, \"Rank\": 4, \"Reader\": 4, \"Kernel\": 56}, {\"Case\": 20, \"Rank\": 1, \"Reader\": 4, \"Kernel\": 56}, {\"Case\": 20, \"Rank\": 2, \"Reader\": 4, \"Kernel\": 48}, {\"Case\": 20, \"Rank\": 3, \"Reader\": 4, \"Kernel\": 40}, {\"Case\": 20, \"Rank\": 4, \"Reader\": 4, \"Kernel\": 70}, {\"Case\": 18, \"Rank\": 1, \"Reader\": 4, \"Kernel\": 56}, {\"Case\": 18, \"Rank\": 2, \"Reader\": 4, \"Kernel\": 48}, {\"Case\": 18, \"Rank\": 3, \"Reader\": 4, \"Kernel\": 40}, {\"Case\": 18, \"Rank\": 4, \"Reader\": 4, \"Kernel\": 70}, {\"Case\": 2, \"Rank\": 1, \"Reader\": 4, \"Kernel\": 56}, {\"Case\": 2, \"Rank\": 2, \"Reader\": 4, \"Kernel\": 48}, {\"Case\": 2, \"Rank\": 3, \"Reader\": 4, \"Kernel\": 40}, {\"Case\": 2, \"Rank\": 4, \"Reader\": 4, \"Kernel\": 70}, {\"Case\": 1, \"Rank\": 1, \"Reader\": 4, \"Kernel\": 56}, {\"Case\": 1, \"Rank\": 2, \"Reader\": 4, \"Kernel\": 48}, {\"Case\": 1, \"Rank\": 3, \"Reader\": 4, \"Kernel\": 40}, {\"Case\": 1, \"Rank\": 4, \"Reader\": 4, \"Kernel\": 70}, {\"Case\": 6, \"Rank\": 1, \"Reader\": 4, \"Kernel\": 48}, {\"Case\": 6, \"Rank\": 2, \"Reader\": 4, \"Kernel\": 56}, {\"Case\": 6, \"Rank\": 3, \"Reader\": 4, \"Kernel\": 40}, {\"Case\": 6, \"Rank\": 4, \"Reader\": 4, \"Kernel\": 70}, {\"Case\": 7, \"Rank\": 1, \"Reader\": 4, \"Kernel\": 48}, {\"Case\": 7, \"Rank\": 2, \"Reader\": 4, \"Kernel\": 40}, {\"Case\": 7, \"Rank\": 3, \"Reader\": 4, \"Kernel\": 56}, {\"Case\": 7, \"Rank\": 4, \"Reader\": 4, \"Kernel\": 70}, {\"Case\": 15, \"Rank\": 1, \"Reader\": 4, \"Kernel\": 48}, {\"Case\": 15, \"Rank\": 2, \"Reader\": 4, \"Kernel\": 56}, {\"Case\": 15, \"Rank\": 3, \"Reader\": 4, \"Kernel\": 40}, {\"Case\": 15, \"Rank\": 4, \"Reader\": 4, \"Kernel\": 70}, {\"Case\": 14, \"Rank\": 1, \"Reader\": 4, \"Kernel\": 56}, {\"Case\": 14, \"Rank\": 2, \"Reader\": 4, \"Kernel\": 48}, {\"Case\": 14, \"Rank\": 3, \"Reader\": 4, \"Kernel\": 40}, {\"Case\": 14, \"Rank\": 4, \"Reader\": 4, \"Kernel\": 70}, {\"Case\": 16, \"Rank\": 1, \"Reader\": 4, \"Kernel\": 56}, {\"Case\": 16, \"Rank\": 2, \"Reader\": 4, \"Kernel\": 48}, {\"Case\": 16, \"Rank\": 3, \"Reader\": 4, \"Kernel\": 40}, {\"Case\": 16, \"Rank\": 4, \"Reader\": 4, \"Kernel\": 70}, {\"Case\": 19, \"Rank\": 1, \"Reader\": 4, \"Kernel\": 48}, {\"Case\": 19, \"Rank\": 2, \"Reader\": 4, \"Kernel\": 70}, {\"Case\": 19, \"Rank\": 3, \"Reader\": 4, \"Kernel\": 56}, {\"Case\": 19, \"Rank\": 4, \"Reader\": 4, \"Kernel\": 40}, {\"Case\": 13, \"Rank\": 1, \"Reader\": 4, \"Kernel\": 56}, {\"Case\": 13, \"Rank\": 2, \"Reader\": 4, \"Kernel\": 48}, {\"Case\": 13, \"Rank\": 3, \"Reader\": 4, \"Kernel\": 40}, {\"Case\": 13, \"Rank\": 4, \"Reader\": 4, \"Kernel\": 70}, {\"Case\": 9, \"Rank\": 1, \"Reader\": 4, \"Kernel\": 56}, {\"Case\": 9, \"Rank\": 2, \"Reader\": 4, \"Kernel\": 48}, {\"Case\": 9, \"Rank\": 3, \"Reader\": 4, \"Kernel\": 40}, {\"Case\": 9, \"Rank\": 4, \"Reader\": 4, \"Kernel\": 70}, {\"Case\": 4, \"Rank\": 1, \"Reader\": 4, \"Kernel\": 48}, {\"Case\": 4, \"Rank\": 2, \"Reader\": 4, \"Kernel\": 56}, {\"Case\": 4, \"Rank\": 3, \"Reader\": 4, \"Kernel\": 40}, {\"Case\": 4, \"Rank\": 4, \"Reader\": 4, \"Kernel\": 70}, {\"Case\": 12, \"Rank\": 1, \"Reader\": 4, \"Kernel\": 56}, {\"Case\": 12, \"Rank\": 2, \"Reader\": 4, \"Kernel\": 48}, {\"Case\": 12, \"Rank\": 3, \"Reader\": 4, \"Kernel\": 70}, {\"Case\": 12, \"Rank\": 4, \"Reader\": 4, \"Kernel\": 40}, {\"Case\": 3, \"Rank\": 1, \"Reader\": 4, \"Kernel\": 48}, {\"Case\": 3, \"Rank\": 2, \"Reader\": 4, \"Kernel\": 40}, {\"Case\": 3, \"Rank\": 3, \"Reader\": 4, \"Kernel\": 70}, {\"Case\": 3, \"Rank\": 4, \"Reader\": 4, \"Kernel\": 56}, {\"Case\": 5, \"Rank\": 1, \"Reader\": 4, \"Kernel\": 70}, {\"Case\": 5, \"Rank\": 2, \"Reader\": 4, \"Kernel\": 56}, {\"Case\": 5, \"Rank\": 3, \"Reader\": 4, \"Kernel\": 40}, {\"Case\": 5, \"Rank\": 4, \"Reader\": 4, \"Kernel\": 48}, {\"Case\": 11, \"Rank\": 1, \"Reader\": 4, \"Kernel\": 56}, {\"Case\": 11, \"Rank\": 2, \"Reader\": 4, \"Kernel\": 70}, {\"Case\": 11, \"Rank\": 3, \"Reader\": 4, \"Kernel\": 48}, {\"Case\": 11, \"Rank\": 4, \"Reader\": 4, \"Kernel\": 40}, {\"Case\": 10, \"Rank\": 1, \"Reader\": 4, \"Kernel\": 48}, {\"Case\": 10, \"Rank\": 2, \"Reader\": 4, \"Kernel\": 40}, {\"Case\": 10, \"Rank\": 3, \"Reader\": 4, \"Kernel\": 56}, {\"Case\": 10, \"Rank\": 4, \"Reader\": 4, \"Kernel\": 70}, {\"Case\": 8, \"Rank\": 1, \"Reader\": 5, \"Kernel\": 56}, {\"Case\": 8, \"Rank\": 2, \"Reader\": 5, \"Kernel\": 48}, {\"Case\": 8, \"Rank\": 3, \"Reader\": 5, \"Kernel\": 40}, {\"Case\": 8, \"Rank\": 4, \"Reader\": 5, \"Kernel\": 70}, {\"Case\": 17, \"Rank\": 1, \"Reader\": 5, \"Kernel\": 56}, {\"Case\": 17, \"Rank\": 2, \"Reader\": 5, \"Kernel\": 48}, {\"Case\": 17, \"Rank\": 3, \"Reader\": 5, \"Kernel\": 70}, {\"Case\": 17, \"Rank\": 4, \"Reader\": 5, \"Kernel\": 40}, {\"Case\": 16, \"Rank\": 1, \"Reader\": 5, \"Kernel\": 56}, {\"Case\": 16, \"Rank\": 2, \"Reader\": 5, \"Kernel\": 48}, {\"Case\": 16, \"Rank\": 3, \"Reader\": 5, \"Kernel\": 40}, {\"Case\": 16, \"Rank\": 4, \"Reader\": 5, \"Kernel\": 70}, {\"Case\": 7, \"Rank\": 1, \"Reader\": 5, \"Kernel\": 56}, {\"Case\": 7, \"Rank\": 2, \"Reader\": 5, \"Kernel\": 48}, {\"Case\": 7, \"Rank\": 3, \"Reader\": 5, \"Kernel\": 40}, {\"Case\": 7, \"Rank\": 4, \"Reader\": 5, \"Kernel\": 70}, {\"Case\": 19, \"Rank\": 1, \"Reader\": 5, \"Kernel\": 56}, {\"Case\": 19, \"Rank\": 2, \"Reader\": 5, \"Kernel\": 48}, {\"Case\": 19, \"Rank\": 3, \"Reader\": 5, \"Kernel\": 70}, {\"Case\": 19, \"Rank\": 4, \"Reader\": 5, \"Kernel\": 40}, {\"Case\": 13, \"Rank\": 1, \"Reader\": 5, \"Kernel\": 56}, {\"Case\": 13, \"Rank\": 2, \"Reader\": 5, \"Kernel\": 48}, {\"Case\": 13, \"Rank\": 3, \"Reader\": 5, \"Kernel\": 70}, {\"Case\": 13, \"Rank\": 4, \"Reader\": 5, \"Kernel\": 40}, {\"Case\": 9, \"Rank\": 1, \"Reader\": 5, \"Kernel\": 56}, {\"Case\": 9, \"Rank\": 2, \"Reader\": 5, \"Kernel\": 48}, {\"Case\": 9, \"Rank\": 3, \"Reader\": 5, \"Kernel\": 70}, {\"Case\": 9, \"Rank\": 4, \"Reader\": 5, \"Kernel\": 40}, {\"Case\": 20, \"Rank\": 1, \"Reader\": 5, \"Kernel\": 56}, {\"Case\": 20, \"Rank\": 2, \"Reader\": 5, \"Kernel\": 48}, {\"Case\": 20, \"Rank\": 3, \"Reader\": 5, \"Kernel\": 40}, {\"Case\": 20, \"Rank\": 4, \"Reader\": 5, \"Kernel\": 70}, {\"Case\": 15, \"Rank\": 1, \"Reader\": 5, \"Kernel\": 56}, {\"Case\": 15, \"Rank\": 2, \"Reader\": 5, \"Kernel\": 48}, {\"Case\": 15, \"Rank\": 3, \"Reader\": 5, \"Kernel\": 70}, {\"Case\": 15, \"Rank\": 4, \"Reader\": 5, \"Kernel\": 40}, {\"Case\": 4, \"Rank\": 1, \"Reader\": 5, \"Kernel\": 56}, {\"Case\": 4, \"Rank\": 2, \"Reader\": 5, \"Kernel\": 48}, {\"Case\": 4, \"Rank\": 3, \"Reader\": 5, \"Kernel\": 70}, {\"Case\": 4, \"Rank\": 4, \"Reader\": 5, \"Kernel\": 40}, {\"Case\": 14, \"Rank\": 1, \"Reader\": 5, \"Kernel\": 56}, {\"Case\": 14, \"Rank\": 2, \"Reader\": 5, \"Kernel\": 48}, {\"Case\": 14, \"Rank\": 3, \"Reader\": 5, \"Kernel\": 40}, {\"Case\": 14, \"Rank\": 4, \"Reader\": 5, \"Kernel\": 70}, {\"Case\": 12, \"Rank\": 1, \"Reader\": 5, \"Kernel\": 56}, {\"Case\": 12, \"Rank\": 2, \"Reader\": 5, \"Kernel\": 48}, {\"Case\": 12, \"Rank\": 3, \"Reader\": 5, \"Kernel\": 70}, {\"Case\": 12, \"Rank\": 4, \"Reader\": 5, \"Kernel\": 40}, {\"Case\": 18, \"Rank\": 1, \"Reader\": 5, \"Kernel\": 56}, {\"Case\": 18, \"Rank\": 2, \"Reader\": 5, \"Kernel\": 48}, {\"Case\": 18, \"Rank\": 3, \"Reader\": 5, \"Kernel\": 40}, {\"Case\": 18, \"Rank\": 4, \"Reader\": 5, \"Kernel\": 70}, {\"Case\": 3, \"Rank\": 1, \"Reader\": 5, \"Kernel\": 56}, {\"Case\": 3, \"Rank\": 2, \"Reader\": 5, \"Kernel\": 48}, {\"Case\": 3, \"Rank\": 3, \"Reader\": 5, \"Kernel\": 70}, {\"Case\": 3, \"Rank\": 4, \"Reader\": 5, \"Kernel\": 40}, {\"Case\": 5, \"Rank\": 1, \"Reader\": 5, \"Kernel\": 56}, {\"Case\": 5, \"Rank\": 2, \"Reader\": 5, \"Kernel\": 48}, {\"Case\": 5, \"Rank\": 3, \"Reader\": 5, \"Kernel\": 40}, {\"Case\": 5, \"Rank\": 4, \"Reader\": 5, \"Kernel\": 70}, {\"Case\": 11, \"Rank\": 1, \"Reader\": 5, \"Kernel\": 56}, {\"Case\": 11, \"Rank\": 2, \"Reader\": 5, \"Kernel\": 48}, {\"Case\": 11, \"Rank\": 3, \"Reader\": 5, \"Kernel\": 70}, {\"Case\": 11, \"Rank\": 4, \"Reader\": 5, \"Kernel\": 40}, {\"Case\": 2, \"Rank\": 1, \"Reader\": 5, \"Kernel\": 56}, {\"Case\": 2, \"Rank\": 2, \"Reader\": 5, \"Kernel\": 48}, {\"Case\": 2, \"Rank\": 3, \"Reader\": 5, \"Kernel\": 40}, {\"Case\": 2, \"Rank\": 4, \"Reader\": 5, \"Kernel\": 70}, {\"Case\": 1, \"Rank\": 1, \"Reader\": 5, \"Kernel\": 56}, {\"Case\": 1, \"Rank\": 2, \"Reader\": 5, \"Kernel\": 48}, {\"Case\": 1, \"Rank\": 3, \"Reader\": 5, \"Kernel\": 70}, {\"Case\": 1, \"Rank\": 4, \"Reader\": 5, \"Kernel\": 40}, {\"Case\": 10, \"Rank\": 1, \"Reader\": 5, \"Kernel\": 56}, {\"Case\": 10, \"Rank\": 2, \"Reader\": 5, \"Kernel\": 48}, {\"Case\": 10, \"Rank\": 3, \"Reader\": 5, \"Kernel\": 40}, {\"Case\": 10, \"Rank\": 4, \"Reader\": 5, \"Kernel\": 70}, {\"Case\": 6, \"Rank\": 1, \"Reader\": 5, \"Kernel\": 56}, {\"Case\": 6, \"Rank\": 2, \"Reader\": 5, \"Kernel\": 48}, {\"Case\": 6, \"Rank\": 3, \"Reader\": 5, \"Kernel\": 70}, {\"Case\": 6, \"Rank\": 4, \"Reader\": 5, \"Kernel\": 40}]}}, {\"mode\": \"vega-lite\"});\n",
       "</script>"
      ],
      "text/plain": [
       "alt.Chart(...)"
      ]
     },
     "execution_count": 48,
     "metadata": {},
     "output_type": "execute_result"
    }
   ],
   "source": [
    "alt.Chart(chest_kernels).mark_bar(size=30).encode(\n",
    "    alt.X('Kernel:Q',\n",
    "    scale=alt.Scale(zero=False)\n",
    "    ),\n",
    "    y='sum(Rank):Q',\n",
    "    color=alt.Color('Reader', scale=alt.Scale(scheme='turbo'))\n",
    ")"
   ]
  },
  {
   "cell_type": "markdown",
   "metadata": {},
   "source": [
    "It looks like there are slight variations in the rank that readers assigned the different kernels with reader 1 and 4 assigning higher numbers (i.e. lower ranks) to the Br56f kernel a little bit more often than the other three readers. Otherwise the ratios seem to be very similar."
   ]
  },
  {
   "cell_type": "markdown",
   "metadata": {},
   "source": [
    "5. What insights are you able to take away from exploring the data? Is there a reason why analyzing the dataset you chose is particularly interesting or important? Summarize this for a general audience (imagine your publishing a blog post online) - boil down your findings in a way that is accessible, but still accurate."
   ]
  },
  {
   "cell_type": "markdown",
   "metadata": {},
   "source": [
    "Exploring this data gives us answers to all three of our questions of interest.\n",
    "##### *1. Which PCCT kernel is the preferred reconstruction kernel?*\n",
    "The data shows a clear preference ranking of radiologists preferences for chest CT image reconstruction kernels. The majority of 1st and 2nd choice votes went to the sharpest PCCT reconstruction kernel Br56f, then the second (Br48f) and third (Br40f) sharpest kernel. \"Sharp kernel\" means that strutures in the lungs are depicted with a high degree of detail, which usually comes with a \"noise penalty\"; the images reconstructed with sharper kernels usually look more \"grainy\", while smoother kernels give a smoother image impression, which is often preferred by radiologists. The fact that five separate readers preferred the sharpest kernel for reconstruction of chest CT images, points to an improvement provided by PCCT in reducing noise while providing higher spatial resolution and thus better depicting details in the lung structures.\n",
    "##### *2. Are PCCT kernels preferred over the standard CT kernel?*\n",
    "The current standard chest CT reconstruction kernel used in clinical practice with existing CT scanners was the least preferred for all readers in almost all cases. This indicates that imaging with the new scanner system and reconstructing with a kernel that provides sharper image detail would be preferred by most radiologists.\n",
    "##### *3. Do readers differ in their assessment of kernels?*\n",
    "There seems to be little variation in ranking of kernels depending on readers. Though two readers gave slightly higher scores (less preference) to the Br56f kernel, the rest of the kernels received very similar scores from all readers. This slight variation might be due to the relatively low number of cases shown to the readers or possibly differences in reader residency training (institutions vary in their approach to reconstruction kernel selection for lung imaging).\n",
    "##### *Limitations and overall conclusions:*\n",
    "This exploratory data analysis and preliminary study, of course, cannot make any claims about improvement in diagnostic accuracy using the new scanner system or sharper reconstruction kernels. It may inform the choice of standard reconstructions performed on the CT scanner and sent to the picture archiving and communication system (PACS), once this scanner is in clinical use. Based on the choices of five readers from our institution the best choice of standard reconstruction for chest images on the new photon counting CT scanner that get sent to PACS and read clinically, would be the Br56f kernel."
   ]
  }
 ],
 "metadata": {
  "kernelspec": {
   "display_name": "Python 3",
   "language": "python",
   "name": "python3"
  },
  "language_info": {
   "codemirror_mode": {
    "name": "ipython",
    "version": 3
   },
   "file_extension": ".py",
   "mimetype": "text/x-python",
   "name": "python",
   "nbconvert_exporter": "python",
   "pygments_lexer": "ipython3",
   "version": "3.9.7"
  },
  "nteract": {
   "version": "0.28.0"
  },
  "varInspector": {
   "cols": {
    "lenName": 16,
    "lenType": 16,
    "lenVar": 40
   },
   "kernels_config": {
    "python": {
     "delete_cmd_postfix": "",
     "delete_cmd_prefix": "del ",
     "library": "var_list.py",
     "varRefreshCmd": "print(var_dic_list())"
    },
    "r": {
     "delete_cmd_postfix": ") ",
     "delete_cmd_prefix": "rm(",
     "library": "var_list.r",
     "varRefreshCmd": "cat(var_dic_list()) "
    }
   },
   "position": {
    "height": "643px",
    "left": "1548px",
    "right": "20px",
    "top": "121px",
    "width": "350px"
   },
   "types_to_exclude": [
    "module",
    "function",
    "builtin_function_or_method",
    "instance",
    "_Feature"
   ],
   "window_display": true
  }
 },
 "nbformat": 4,
 "nbformat_minor": 2
}

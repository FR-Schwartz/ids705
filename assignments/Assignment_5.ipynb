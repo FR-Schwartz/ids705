{
 "cells": [
  {
   "cell_type": "markdown",
   "metadata": {},
   "source": [
    "# Assignment 5 - Kaggle Competition and Unsupervised Learning"
   ]
  },
  {
   "cell_type": "markdown",
   "metadata": {},
   "source": [
    "## *Fides Regina Schwartz*\n",
    "Netid: fs113"
   ]
  },
  {
   "cell_type": "markdown",
   "metadata": {},
   "source": [
    "Instructions for all assignments can be found [here](https://github.com/kylebradbury/ids705/blob/master/assignments/_Assignment%20Instructions.ipynb), and is also linked to from the [course syllabus](https://kylebradbury.github.io/ids705/index.html).\n",
    "\n",
    "Total points in the assignment add up to 90; an additional 10 points are allocated to presentation quality."
   ]
  },
  {
   "cell_type": "markdown",
   "metadata": {},
   "source": [
    "# Learning objectives\n",
    "Through completing this assignment you will be able to...\n",
    "1. Apply the full supervised machine learning pipeline of preprocessing, model selection, model performance evaluation and comparison, and model application to a real-world scale dataset\n",
    "2. Apply clustering techniques to a variety of datasets with diverse distributional properties, gaining an understanding of their strengths and weaknesses and how to tune model parameters\n",
    "3. Apply PCA and t-SNE for performing dimensionality reduction and data visualization"
   ]
  },
  {
   "cell_type": "markdown",
   "metadata": {},
   "source": [
    "# 1\n",
    "\n",
    "## [40 points] Kaggle Classification Competition\n",
    "\n",
    "You've learned a great deal about supervised learning and now it's time to bring together all that you've learned. You will be competing in a Kaggle Competition along with the rest of the class! Your goal is to predict hotel reservation cancellations based on a number of potentially related factors such as lead time on the booking, time of year, type of room, special requests made, number of children, etc. While you will be asked to take certain steps along the way to your submission, you're encouraged to try creative solutions to this problem and your choices are wide open for you to make your decisions on how to best make the predictions.\n",
    "\n",
    "### IMPORTANT: Follow the link posted on Ed to register for the competition\n",
    "You can view the public leaderboard anytime [here](https://www.kaggle.com/c/ids705-a5-2022/leaderboard)\n",
    "\n",
    "**The Data**. The dataset is provided as `a5_q1.pkl` which is a pickle file format, which allows you to load the data directly using the code below; the data can be downloaded from the [Kaggle competition website](https://www.kaggle.com/c/ids705-a5-2022/data). A data dictionary for the project can be found [here](https://github.com/rfordatascience/tidytuesday/blob/master/data/2020/2020-02-11/readme.md) and the original paper that describes the dataset can be found [here](https://www.sciencedirect.com/science/article/pii/S2352340918315191). When you load the data, 5 matrices are provided `X_train_original`, `y_train`, and `X_test_original`, which are the original, unprocessed features and labels for the training set and the test features (the test labels are not provided - that's what you're predicting). Additionally, `X_train_ohe` and `X_test_ohe` are provided which are one-hot-encoded (OHE) versions of the data. The OHE versions OHE processed every categorical variable. This is provided for convenience if you find it helpful, but you're welcome to reprocess the original data other ways if your prefer.\n",
    "\n",
    "**Scoring**. You will need to achieve a minimum acceptable level of performance to demonstrate proficiency with using these supervised learning techniques. Beyond that, it's an open competition and scoring in the top three places of the *private leaderboard* will result in **5 bonus points in this assignment** (and the pride of the class!). Note: the Kaggle leaderboard has a public and private component. The public component is viewable throughout the competition, but the private leaderboard is revealed at the end. When you make a submission, you immediately see your submission on the public leaderboard, but that only represents scoring on a fraction of the total collection of test data, the rest remains hidden until the end of the competition to prevent overfitting to the test data through repeated submissions. You will be be allowed to hand-select two eligible submissions for private score, or by default your best two public scoring submissions will be selected for private scoring.\n",
    "\n",
    "\n",
    "### Requirements:\n",
    "\n",
    "**(a) Explore your data.** Review and understand your data. Look at it; read up on what the features represent; think through the application domain; visualize statistics from the paper data to understand any key relationships. **There is no output required for this question**, but you are encouraged to explore the data personally before going further.\n",
    "\n",
    "**(b) Preprocess your data.** Preprocess your data so it's ready for use for classification and describe what you did and why you did it. Preprocessing may include: normalizing data, handling missing or erroneous values, separating out a validation dataset, preparing categorical variables through one-hot-encoding, etc. To make one step in this process easier, you're provided with a one-hot-encoded version of the data already. \n",
    "- Comment on each type of preprocessing that you apply and both how and why you apply it.\n",
    "\n",
    "**(c) Select, train, and compare models.** Fit at least 5 models to the data. Some of these can be experiments with different hyperparameter-tuned versions of the same model, although all 5 should not be the same type of model. There are no constraints on the types of models, but you're encouraged to explore examples we've discussed in class including:\n",
    "\n",
    "1. Logistic regression\n",
    "2. K-nearest neighbors\n",
    "3. Random Forests\n",
    "4. Neural networks\n",
    "5. Support Vector Machines\n",
    "6. Ensembles of models (e.g. model bagging, boosting, or stacking). `Scikit-learn` offers a number of tools for assisting with this including those for [bagging](https://scikit-learn.org/stable/modules/generated/sklearn.ensemble.BaggingClassifier.html#sklearn.ensemble.BaggingClassifier), [boosting](https://scikit-learn.org/stable/modules/generated/sklearn.ensemble.GradientBoostingClassifier.html), and [stacking](https://scikit-learn.org/stable/modules/generated/sklearn.ensemble.StackingClassifier.html). You're also welcome to explore options beyond the `sklean` universe; for example, some of you may have heard of [XGBoost](https://github.com/dmlc/xgboost) which is a very fast implementation of gradient boosted decision trees that also allows for parallelization. \n",
    "\n",
    "When selecting models, be aware that some models may take far longer than others to train. Monitor your output and plan your time accordingly. \n",
    "\n",
    "Assess the classification performance AND computational efficiency of the models you selected:\n",
    "- Plot the ROC curves and PR curves for your models in two plots: one of ROC curves and one of PR curves. For each of these two plots, compare the performance of the models you selected above and trained on the training data, evaluating them on the validation data. Be sure to plot the line representing random guessing on each plot. One of these models should also be your BEST performing submission on the Kaggle public leaderboard (see below). In the legends of each, include the area under the curve for each model (limit to 3 significant figures). For the ROC curve, this is the AUC; for the PR curve, this is the average precision (AP).\n",
    "- As you train and validate each model time how long it takes to train and validate in each case and create a plot that shows both the training and prediction time for each model included in the ROC and PR curves.\n",
    "- Describe: \n",
    "  - Your process of model selection and hyperparameter tuning\n",
    "  - Which model performed best and your process for identifying/selecting it\n",
    "\n",
    "**(d) Apply your model \"in practice\".** Make *at least* 5 submissions of different model results to the competition (more submissions are encouraged and you can submit up to 10 per day!). These do not need to be the same that you report on above, but you should select your *most competitive* models.\n",
    "- Produce submissions by applying your model on the test data.\n",
    "- Be sure to RETRAIN YOUR MODEL ON ALL LABELED TRAINING AND VALIDATION DATA before making your predictions on the test data for submission. This will help to maximize your performance on the test data.\n",
    "- In order to get full credit on this problem you must achieve an AUC on the Kaggle public leaderboard above the \"Benchmark\" score on the public leaderboard.\n",
    "\n",
    "### Guidance:\n",
    "1. **Preprocessing**. You may need to preprocess the data for some of these models to perform well (scaling inputs or reducing dimensionality). Some of this preprocessing may differ from model to model to achieve the best performance. A helpful tool for creating such preprocessing and model fitting pipelines is the sklearn `pipeline` module which lets you group a series of processing steps together.\n",
    "2. **Hyperparameters**. Hyperparameters may need to be tuned for some of the model you use. You may want to perform hyperparameter tuning for some of the models. If you experiment with different hyperparameters that include many model runs, you may want to apply them to a small subsample of your overall data before running it on the larger training set to be time efficient (if you do, just make sure to ensure your selected subset is representative of the rest of your data).\n",
    "3. **Validation data**. You're encouraged to create your own validation dataset for comparing model performance; without this, there's a significant likelihood of overfitting to the data. A common choice of the split is 80% training, 20% validation. Before you make your final predictions on the test data, be sure to retrain your model on the entire dataset.\n",
    "4. **Training time**. This is a larger dataset than you've worked with previously in this class, so training times may be higher that what you've experienced in the past. Plan ahead and get your model pipeline working early so you can experiment with the models you use for this problem and have time to let them run. \n",
    "\n",
    "### Starter code\n",
    "Below is some code for (1) loading the data and (2) once you have predictions in the form of confidence scores for those classifiers, to produce submission files for Kaggle."
   ]
  },
  {
   "cell_type": "markdown",
   "metadata": {},
   "source": [
    "**(a) Explore your data.** Review and understand your data. Look at it; read up on what the features represent; think through the application domain; visualize statistics from the paper data to understand any key relationships. **There is no output required for this question**, but you are encouraged to explore the data personally before going further."
   ]
  },
  {
   "cell_type": "code",
   "execution_count": 1,
   "metadata": {},
   "outputs": [],
   "source": [
    "import sys\n",
    "import os\n",
    "import warnings\n",
    "\n",
    "if not sys.warnoptions:\n",
    "    warnings.simplefilter(\"ignore\")\n",
    "    os.environ[\"PYTHONWARNINGS\"] = 'ignore'"
   ]
  },
  {
   "cell_type": "code",
   "execution_count": 2,
   "metadata": {},
   "outputs": [],
   "source": [
    "import pandas as pd\n",
    "import numpy as np\n",
    "import pickle\n",
    "\n",
    "################################\n",
    "# Load the data\n",
    "################################\n",
    "data = pickle.load( open( \"C:/Users/dm93/Desktop/IDS705/ids705-a5-2022/a5_q1.pkl\", \"rb\" ) )\n",
    "\n",
    "y_train = data['y_train']\n",
    "X_train_original = data['X_train'] # Original dataset\n",
    "X_train_ohe = data['X_train_ohe']  # One-hot-encoded dataset\n",
    "\n",
    "X_test_original = data['X_test']\n",
    "X_test_ohe = data['X_test_ohe']"
   ]
  },
  {
   "cell_type": "markdown",
   "metadata": {},
   "source": [
    "Review data"
   ]
  },
  {
   "cell_type": "code",
   "execution_count": 3,
   "metadata": {},
   "outputs": [
    {
     "name": "stdout",
     "output_type": "stream",
     "text": [
      "0         0\n",
      "2         0\n",
      "3         0\n",
      "4         0\n",
      "5         0\n",
      "         ..\n",
      "119383    0\n",
      "119384    0\n",
      "119387    0\n",
      "119388    0\n",
      "119389    0\n",
      "Name: is_canceled, Length: 95512, dtype: int64\n"
     ]
    }
   ],
   "source": [
    "print(y_train)"
   ]
  },
  {
   "cell_type": "code",
   "execution_count": 4,
   "metadata": {},
   "outputs": [
    {
     "name": "stdout",
     "output_type": "stream",
     "text": [
      "(95512, 940)\n",
      "(95512,)\n",
      "(23878, 940)\n"
     ]
    }
   ],
   "source": [
    "print(X_train_ohe.shape)\n",
    "print(y_train.shape)\n",
    "print(X_test_ohe.shape)"
   ]
  },
  {
   "cell_type": "markdown",
   "metadata": {},
   "source": [
    "The total observations from the paper describe 119,390 datapoints and that is the amount of data contained in the training and test datasets in total, too. This confirms that I have the full dataset available to me."
   ]
  },
  {
   "cell_type": "code",
   "execution_count": 5,
   "metadata": {},
   "outputs": [
    {
     "data": {
      "text/html": [
       "<div>\n",
       "<style scoped>\n",
       "    .dataframe tbody tr th:only-of-type {\n",
       "        vertical-align: middle;\n",
       "    }\n",
       "\n",
       "    .dataframe tbody tr th {\n",
       "        vertical-align: top;\n",
       "    }\n",
       "\n",
       "    .dataframe thead th {\n",
       "        text-align: right;\n",
       "    }\n",
       "</style>\n",
       "<table border=\"1\" class=\"dataframe\">\n",
       "  <thead>\n",
       "    <tr style=\"text-align: right;\">\n",
       "      <th></th>\n",
       "      <th>lead_time</th>\n",
       "      <th>arrival_date_year</th>\n",
       "      <th>arrival_date_week_number</th>\n",
       "      <th>arrival_date_day_of_month</th>\n",
       "      <th>stays_in_weekend_nights</th>\n",
       "      <th>stays_in_week_nights</th>\n",
       "      <th>adults</th>\n",
       "      <th>children</th>\n",
       "      <th>babies</th>\n",
       "      <th>is_repeated_guest</th>\n",
       "      <th>...</th>\n",
       "      <th>company_530.0</th>\n",
       "      <th>company_531.0</th>\n",
       "      <th>company_534.0</th>\n",
       "      <th>company_539.0</th>\n",
       "      <th>company_541.0</th>\n",
       "      <th>company_543.0</th>\n",
       "      <th>customer_type_Contract</th>\n",
       "      <th>customer_type_Group</th>\n",
       "      <th>customer_type_Transient</th>\n",
       "      <th>customer_type_Transient-Party</th>\n",
       "    </tr>\n",
       "  </thead>\n",
       "  <tbody>\n",
       "    <tr>\n",
       "      <th>0</th>\n",
       "      <td>342</td>\n",
       "      <td>2015</td>\n",
       "      <td>27</td>\n",
       "      <td>1</td>\n",
       "      <td>0</td>\n",
       "      <td>0</td>\n",
       "      <td>2</td>\n",
       "      <td>0.0</td>\n",
       "      <td>0</td>\n",
       "      <td>0</td>\n",
       "      <td>...</td>\n",
       "      <td>0</td>\n",
       "      <td>0</td>\n",
       "      <td>0</td>\n",
       "      <td>0</td>\n",
       "      <td>0</td>\n",
       "      <td>0</td>\n",
       "      <td>0</td>\n",
       "      <td>0</td>\n",
       "      <td>1</td>\n",
       "      <td>0</td>\n",
       "    </tr>\n",
       "    <tr>\n",
       "      <th>2</th>\n",
       "      <td>7</td>\n",
       "      <td>2015</td>\n",
       "      <td>27</td>\n",
       "      <td>1</td>\n",
       "      <td>0</td>\n",
       "      <td>1</td>\n",
       "      <td>1</td>\n",
       "      <td>0.0</td>\n",
       "      <td>0</td>\n",
       "      <td>0</td>\n",
       "      <td>...</td>\n",
       "      <td>0</td>\n",
       "      <td>0</td>\n",
       "      <td>0</td>\n",
       "      <td>0</td>\n",
       "      <td>0</td>\n",
       "      <td>0</td>\n",
       "      <td>0</td>\n",
       "      <td>0</td>\n",
       "      <td>1</td>\n",
       "      <td>0</td>\n",
       "    </tr>\n",
       "    <tr>\n",
       "      <th>3</th>\n",
       "      <td>13</td>\n",
       "      <td>2015</td>\n",
       "      <td>27</td>\n",
       "      <td>1</td>\n",
       "      <td>0</td>\n",
       "      <td>1</td>\n",
       "      <td>1</td>\n",
       "      <td>0.0</td>\n",
       "      <td>0</td>\n",
       "      <td>0</td>\n",
       "      <td>...</td>\n",
       "      <td>0</td>\n",
       "      <td>0</td>\n",
       "      <td>0</td>\n",
       "      <td>0</td>\n",
       "      <td>0</td>\n",
       "      <td>0</td>\n",
       "      <td>0</td>\n",
       "      <td>0</td>\n",
       "      <td>1</td>\n",
       "      <td>0</td>\n",
       "    </tr>\n",
       "    <tr>\n",
       "      <th>4</th>\n",
       "      <td>14</td>\n",
       "      <td>2015</td>\n",
       "      <td>27</td>\n",
       "      <td>1</td>\n",
       "      <td>0</td>\n",
       "      <td>2</td>\n",
       "      <td>2</td>\n",
       "      <td>0.0</td>\n",
       "      <td>0</td>\n",
       "      <td>0</td>\n",
       "      <td>...</td>\n",
       "      <td>0</td>\n",
       "      <td>0</td>\n",
       "      <td>0</td>\n",
       "      <td>0</td>\n",
       "      <td>0</td>\n",
       "      <td>0</td>\n",
       "      <td>0</td>\n",
       "      <td>0</td>\n",
       "      <td>1</td>\n",
       "      <td>0</td>\n",
       "    </tr>\n",
       "    <tr>\n",
       "      <th>5</th>\n",
       "      <td>14</td>\n",
       "      <td>2015</td>\n",
       "      <td>27</td>\n",
       "      <td>1</td>\n",
       "      <td>0</td>\n",
       "      <td>2</td>\n",
       "      <td>2</td>\n",
       "      <td>0.0</td>\n",
       "      <td>0</td>\n",
       "      <td>0</td>\n",
       "      <td>...</td>\n",
       "      <td>0</td>\n",
       "      <td>0</td>\n",
       "      <td>0</td>\n",
       "      <td>0</td>\n",
       "      <td>0</td>\n",
       "      <td>0</td>\n",
       "      <td>0</td>\n",
       "      <td>0</td>\n",
       "      <td>1</td>\n",
       "      <td>0</td>\n",
       "    </tr>\n",
       "  </tbody>\n",
       "</table>\n",
       "<p>5 rows × 940 columns</p>\n",
       "</div>"
      ],
      "text/plain": [
       "   lead_time  arrival_date_year  arrival_date_week_number  \\\n",
       "0        342               2015                        27   \n",
       "2          7               2015                        27   \n",
       "3         13               2015                        27   \n",
       "4         14               2015                        27   \n",
       "5         14               2015                        27   \n",
       "\n",
       "   arrival_date_day_of_month  stays_in_weekend_nights  stays_in_week_nights  \\\n",
       "0                          1                        0                     0   \n",
       "2                          1                        0                     1   \n",
       "3                          1                        0                     1   \n",
       "4                          1                        0                     2   \n",
       "5                          1                        0                     2   \n",
       "\n",
       "   adults  children  babies  is_repeated_guest  ...  company_530.0  \\\n",
       "0       2       0.0       0                  0  ...              0   \n",
       "2       1       0.0       0                  0  ...              0   \n",
       "3       1       0.0       0                  0  ...              0   \n",
       "4       2       0.0       0                  0  ...              0   \n",
       "5       2       0.0       0                  0  ...              0   \n",
       "\n",
       "   company_531.0  company_534.0  company_539.0  company_541.0  company_543.0  \\\n",
       "0              0              0              0              0              0   \n",
       "2              0              0              0              0              0   \n",
       "3              0              0              0              0              0   \n",
       "4              0              0              0              0              0   \n",
       "5              0              0              0              0              0   \n",
       "\n",
       "   customer_type_Contract  customer_type_Group  customer_type_Transient  \\\n",
       "0                       0                    0                        1   \n",
       "2                       0                    0                        1   \n",
       "3                       0                    0                        1   \n",
       "4                       0                    0                        1   \n",
       "5                       0                    0                        1   \n",
       "\n",
       "   customer_type_Transient-Party  \n",
       "0                              0  \n",
       "2                              0  \n",
       "3                              0  \n",
       "4                              0  \n",
       "5                              0  \n",
       "\n",
       "[5 rows x 940 columns]"
      ]
     },
     "execution_count": 5,
     "metadata": {},
     "output_type": "execute_result"
    }
   ],
   "source": [
    "X_train_ohe.head()"
   ]
  },
  {
   "cell_type": "code",
   "execution_count": 6,
   "metadata": {},
   "outputs": [
    {
     "data": {
      "text/html": [
       "<div>\n",
       "<style scoped>\n",
       "    .dataframe tbody tr th:only-of-type {\n",
       "        vertical-align: middle;\n",
       "    }\n",
       "\n",
       "    .dataframe tbody tr th {\n",
       "        vertical-align: top;\n",
       "    }\n",
       "\n",
       "    .dataframe thead th {\n",
       "        text-align: right;\n",
       "    }\n",
       "</style>\n",
       "<table border=\"1\" class=\"dataframe\">\n",
       "  <thead>\n",
       "    <tr style=\"text-align: right;\">\n",
       "      <th></th>\n",
       "      <th>hotel</th>\n",
       "      <th>lead_time</th>\n",
       "      <th>arrival_date_year</th>\n",
       "      <th>arrival_date_month</th>\n",
       "      <th>arrival_date_week_number</th>\n",
       "      <th>arrival_date_day_of_month</th>\n",
       "      <th>stays_in_weekend_nights</th>\n",
       "      <th>stays_in_week_nights</th>\n",
       "      <th>adults</th>\n",
       "      <th>children</th>\n",
       "      <th>...</th>\n",
       "      <th>assigned_room_type</th>\n",
       "      <th>booking_changes</th>\n",
       "      <th>deposit_type</th>\n",
       "      <th>agent</th>\n",
       "      <th>company</th>\n",
       "      <th>days_in_waiting_list</th>\n",
       "      <th>customer_type</th>\n",
       "      <th>adr</th>\n",
       "      <th>required_car_parking_spaces</th>\n",
       "      <th>total_of_special_requests</th>\n",
       "    </tr>\n",
       "  </thead>\n",
       "  <tbody>\n",
       "    <tr>\n",
       "      <th>0</th>\n",
       "      <td>Resort Hotel</td>\n",
       "      <td>342</td>\n",
       "      <td>2015</td>\n",
       "      <td>July</td>\n",
       "      <td>27</td>\n",
       "      <td>1</td>\n",
       "      <td>0</td>\n",
       "      <td>0</td>\n",
       "      <td>2</td>\n",
       "      <td>0.0</td>\n",
       "      <td>...</td>\n",
       "      <td>C</td>\n",
       "      <td>3</td>\n",
       "      <td>No Deposit</td>\n",
       "      <td>NaN</td>\n",
       "      <td>NaN</td>\n",
       "      <td>0</td>\n",
       "      <td>Transient</td>\n",
       "      <td>0.0</td>\n",
       "      <td>0</td>\n",
       "      <td>0</td>\n",
       "    </tr>\n",
       "    <tr>\n",
       "      <th>2</th>\n",
       "      <td>Resort Hotel</td>\n",
       "      <td>7</td>\n",
       "      <td>2015</td>\n",
       "      <td>July</td>\n",
       "      <td>27</td>\n",
       "      <td>1</td>\n",
       "      <td>0</td>\n",
       "      <td>1</td>\n",
       "      <td>1</td>\n",
       "      <td>0.0</td>\n",
       "      <td>...</td>\n",
       "      <td>C</td>\n",
       "      <td>0</td>\n",
       "      <td>No Deposit</td>\n",
       "      <td>NaN</td>\n",
       "      <td>NaN</td>\n",
       "      <td>0</td>\n",
       "      <td>Transient</td>\n",
       "      <td>75.0</td>\n",
       "      <td>0</td>\n",
       "      <td>0</td>\n",
       "    </tr>\n",
       "    <tr>\n",
       "      <th>3</th>\n",
       "      <td>Resort Hotel</td>\n",
       "      <td>13</td>\n",
       "      <td>2015</td>\n",
       "      <td>July</td>\n",
       "      <td>27</td>\n",
       "      <td>1</td>\n",
       "      <td>0</td>\n",
       "      <td>1</td>\n",
       "      <td>1</td>\n",
       "      <td>0.0</td>\n",
       "      <td>...</td>\n",
       "      <td>A</td>\n",
       "      <td>0</td>\n",
       "      <td>No Deposit</td>\n",
       "      <td>304.0</td>\n",
       "      <td>NaN</td>\n",
       "      <td>0</td>\n",
       "      <td>Transient</td>\n",
       "      <td>75.0</td>\n",
       "      <td>0</td>\n",
       "      <td>0</td>\n",
       "    </tr>\n",
       "    <tr>\n",
       "      <th>4</th>\n",
       "      <td>Resort Hotel</td>\n",
       "      <td>14</td>\n",
       "      <td>2015</td>\n",
       "      <td>July</td>\n",
       "      <td>27</td>\n",
       "      <td>1</td>\n",
       "      <td>0</td>\n",
       "      <td>2</td>\n",
       "      <td>2</td>\n",
       "      <td>0.0</td>\n",
       "      <td>...</td>\n",
       "      <td>A</td>\n",
       "      <td>0</td>\n",
       "      <td>No Deposit</td>\n",
       "      <td>240.0</td>\n",
       "      <td>NaN</td>\n",
       "      <td>0</td>\n",
       "      <td>Transient</td>\n",
       "      <td>98.0</td>\n",
       "      <td>0</td>\n",
       "      <td>1</td>\n",
       "    </tr>\n",
       "    <tr>\n",
       "      <th>5</th>\n",
       "      <td>Resort Hotel</td>\n",
       "      <td>14</td>\n",
       "      <td>2015</td>\n",
       "      <td>July</td>\n",
       "      <td>27</td>\n",
       "      <td>1</td>\n",
       "      <td>0</td>\n",
       "      <td>2</td>\n",
       "      <td>2</td>\n",
       "      <td>0.0</td>\n",
       "      <td>...</td>\n",
       "      <td>A</td>\n",
       "      <td>0</td>\n",
       "      <td>No Deposit</td>\n",
       "      <td>240.0</td>\n",
       "      <td>NaN</td>\n",
       "      <td>0</td>\n",
       "      <td>Transient</td>\n",
       "      <td>98.0</td>\n",
       "      <td>0</td>\n",
       "      <td>1</td>\n",
       "    </tr>\n",
       "  </tbody>\n",
       "</table>\n",
       "<p>5 rows × 29 columns</p>\n",
       "</div>"
      ],
      "text/plain": [
       "          hotel  lead_time  arrival_date_year arrival_date_month  \\\n",
       "0  Resort Hotel        342               2015               July   \n",
       "2  Resort Hotel          7               2015               July   \n",
       "3  Resort Hotel         13               2015               July   \n",
       "4  Resort Hotel         14               2015               July   \n",
       "5  Resort Hotel         14               2015               July   \n",
       "\n",
       "   arrival_date_week_number  arrival_date_day_of_month  \\\n",
       "0                        27                          1   \n",
       "2                        27                          1   \n",
       "3                        27                          1   \n",
       "4                        27                          1   \n",
       "5                        27                          1   \n",
       "\n",
       "   stays_in_weekend_nights  stays_in_week_nights  adults  children  ...  \\\n",
       "0                        0                     0       2       0.0  ...   \n",
       "2                        0                     1       1       0.0  ...   \n",
       "3                        0                     1       1       0.0  ...   \n",
       "4                        0                     2       2       0.0  ...   \n",
       "5                        0                     2       2       0.0  ...   \n",
       "\n",
       "   assigned_room_type booking_changes deposit_type  agent company  \\\n",
       "0                   C               3   No Deposit    NaN     NaN   \n",
       "2                   C               0   No Deposit    NaN     NaN   \n",
       "3                   A               0   No Deposit  304.0     NaN   \n",
       "4                   A               0   No Deposit  240.0     NaN   \n",
       "5                   A               0   No Deposit  240.0     NaN   \n",
       "\n",
       "   days_in_waiting_list  customer_type   adr required_car_parking_spaces  \\\n",
       "0                     0      Transient   0.0                           0   \n",
       "2                     0      Transient  75.0                           0   \n",
       "3                     0      Transient  75.0                           0   \n",
       "4                     0      Transient  98.0                           0   \n",
       "5                     0      Transient  98.0                           0   \n",
       "\n",
       "  total_of_special_requests  \n",
       "0                         0  \n",
       "2                         0  \n",
       "3                         0  \n",
       "4                         1  \n",
       "5                         1  \n",
       "\n",
       "[5 rows x 29 columns]"
      ]
     },
     "execution_count": 6,
     "metadata": {},
     "output_type": "execute_result"
    }
   ],
   "source": [
    "# Look at summary statistics\n",
    "X_train_original.head()"
   ]
  },
  {
   "cell_type": "code",
   "execution_count": 7,
   "metadata": {},
   "outputs": [
    {
     "name": "stdout",
     "output_type": "stream",
     "text": [
      "<class 'pandas.core.frame.DataFrame'>\n",
      "Int64Index: 95512 entries, 0 to 119389\n",
      "Data columns (total 29 columns):\n",
      " #   Column                          Non-Null Count  Dtype  \n",
      "---  ------                          --------------  -----  \n",
      " 0   hotel                           95512 non-null  object \n",
      " 1   lead_time                       95512 non-null  int64  \n",
      " 2   arrival_date_year               95512 non-null  int64  \n",
      " 3   arrival_date_month              95512 non-null  object \n",
      " 4   arrival_date_week_number        95512 non-null  int64  \n",
      " 5   arrival_date_day_of_month       95512 non-null  int64  \n",
      " 6   stays_in_weekend_nights         95512 non-null  int64  \n",
      " 7   stays_in_week_nights            95512 non-null  int64  \n",
      " 8   adults                          95512 non-null  int64  \n",
      " 9   children                        95510 non-null  float64\n",
      " 10  babies                          95512 non-null  int64  \n",
      " 11  meal                            95512 non-null  object \n",
      " 12  country                         95117 non-null  object \n",
      " 13  market_segment                  95512 non-null  object \n",
      " 14  distribution_channel            95512 non-null  object \n",
      " 15  is_repeated_guest               95512 non-null  int64  \n",
      " 16  previous_cancellations          95512 non-null  int64  \n",
      " 17  previous_bookings_not_canceled  95512 non-null  int64  \n",
      " 18  reserved_room_type              95512 non-null  object \n",
      " 19  assigned_room_type              95512 non-null  object \n",
      " 20  booking_changes                 95512 non-null  int64  \n",
      " 21  deposit_type                    95512 non-null  object \n",
      " 22  agent                           82431 non-null  float64\n",
      " 23  company                         5453 non-null   float64\n",
      " 24  days_in_waiting_list            95512 non-null  int64  \n",
      " 25  customer_type                   95512 non-null  object \n",
      " 26  adr                             95512 non-null  float64\n",
      " 27  required_car_parking_spaces     95512 non-null  int64  \n",
      " 28  total_of_special_requests       95512 non-null  int64  \n",
      "dtypes: float64(4), int64(15), object(10)\n",
      "memory usage: 21.9+ MB\n"
     ]
    }
   ],
   "source": [
    "X_train_original.info()"
   ]
  },
  {
   "cell_type": "code",
   "execution_count": 8,
   "metadata": {},
   "outputs": [],
   "source": [
    "look_up = {'January': '01', 'February': '02', 'March': '03', 'April': '04', 'May': '05',\n",
    "            'June': '06', 'July': '07', 'August': '08', 'September': '09', 'October': '10', 'November': '11', 'December': '12'}\n",
    "\n",
    "X_train_original['arrival_date_month'] = X_train_original['arrival_date_month'].apply(lambda x: look_up[x])\n"
   ]
  },
  {
   "cell_type": "code",
   "execution_count": 9,
   "metadata": {},
   "outputs": [],
   "source": [
    "X_train_original.rename(columns = {'arrival_date_year': 'year', 'arrival_date_month': 'month', 'arrival_date_day_of_month' : 'day'}, inplace=True)"
   ]
  },
  {
   "cell_type": "code",
   "execution_count": 10,
   "metadata": {},
   "outputs": [
    {
     "data": {
      "text/html": [
       "<div>\n",
       "<style scoped>\n",
       "    .dataframe tbody tr th:only-of-type {\n",
       "        vertical-align: middle;\n",
       "    }\n",
       "\n",
       "    .dataframe tbody tr th {\n",
       "        vertical-align: top;\n",
       "    }\n",
       "\n",
       "    .dataframe thead th {\n",
       "        text-align: right;\n",
       "    }\n",
       "</style>\n",
       "<table border=\"1\" class=\"dataframe\">\n",
       "  <thead>\n",
       "    <tr style=\"text-align: right;\">\n",
       "      <th></th>\n",
       "      <th>hotel</th>\n",
       "      <th>lead_time</th>\n",
       "      <th>year</th>\n",
       "      <th>month</th>\n",
       "      <th>arrival_date_week_number</th>\n",
       "      <th>day</th>\n",
       "      <th>stays_in_weekend_nights</th>\n",
       "      <th>stays_in_week_nights</th>\n",
       "      <th>adults</th>\n",
       "      <th>children</th>\n",
       "      <th>...</th>\n",
       "      <th>booking_changes</th>\n",
       "      <th>deposit_type</th>\n",
       "      <th>agent</th>\n",
       "      <th>company</th>\n",
       "      <th>days_in_waiting_list</th>\n",
       "      <th>customer_type</th>\n",
       "      <th>adr</th>\n",
       "      <th>required_car_parking_spaces</th>\n",
       "      <th>total_of_special_requests</th>\n",
       "      <th>Date</th>\n",
       "    </tr>\n",
       "  </thead>\n",
       "  <tbody>\n",
       "    <tr>\n",
       "      <th>0</th>\n",
       "      <td>Resort Hotel</td>\n",
       "      <td>342</td>\n",
       "      <td>2015</td>\n",
       "      <td>07</td>\n",
       "      <td>27</td>\n",
       "      <td>1</td>\n",
       "      <td>0</td>\n",
       "      <td>0</td>\n",
       "      <td>2</td>\n",
       "      <td>0.0</td>\n",
       "      <td>...</td>\n",
       "      <td>3</td>\n",
       "      <td>No Deposit</td>\n",
       "      <td>NaN</td>\n",
       "      <td>NaN</td>\n",
       "      <td>0</td>\n",
       "      <td>Transient</td>\n",
       "      <td>0.0</td>\n",
       "      <td>0</td>\n",
       "      <td>0</td>\n",
       "      <td>2015-07-01</td>\n",
       "    </tr>\n",
       "    <tr>\n",
       "      <th>2</th>\n",
       "      <td>Resort Hotel</td>\n",
       "      <td>7</td>\n",
       "      <td>2015</td>\n",
       "      <td>07</td>\n",
       "      <td>27</td>\n",
       "      <td>1</td>\n",
       "      <td>0</td>\n",
       "      <td>1</td>\n",
       "      <td>1</td>\n",
       "      <td>0.0</td>\n",
       "      <td>...</td>\n",
       "      <td>0</td>\n",
       "      <td>No Deposit</td>\n",
       "      <td>NaN</td>\n",
       "      <td>NaN</td>\n",
       "      <td>0</td>\n",
       "      <td>Transient</td>\n",
       "      <td>75.0</td>\n",
       "      <td>0</td>\n",
       "      <td>0</td>\n",
       "      <td>2015-07-01</td>\n",
       "    </tr>\n",
       "    <tr>\n",
       "      <th>3</th>\n",
       "      <td>Resort Hotel</td>\n",
       "      <td>13</td>\n",
       "      <td>2015</td>\n",
       "      <td>07</td>\n",
       "      <td>27</td>\n",
       "      <td>1</td>\n",
       "      <td>0</td>\n",
       "      <td>1</td>\n",
       "      <td>1</td>\n",
       "      <td>0.0</td>\n",
       "      <td>...</td>\n",
       "      <td>0</td>\n",
       "      <td>No Deposit</td>\n",
       "      <td>304.0</td>\n",
       "      <td>NaN</td>\n",
       "      <td>0</td>\n",
       "      <td>Transient</td>\n",
       "      <td>75.0</td>\n",
       "      <td>0</td>\n",
       "      <td>0</td>\n",
       "      <td>2015-07-01</td>\n",
       "    </tr>\n",
       "    <tr>\n",
       "      <th>4</th>\n",
       "      <td>Resort Hotel</td>\n",
       "      <td>14</td>\n",
       "      <td>2015</td>\n",
       "      <td>07</td>\n",
       "      <td>27</td>\n",
       "      <td>1</td>\n",
       "      <td>0</td>\n",
       "      <td>2</td>\n",
       "      <td>2</td>\n",
       "      <td>0.0</td>\n",
       "      <td>...</td>\n",
       "      <td>0</td>\n",
       "      <td>No Deposit</td>\n",
       "      <td>240.0</td>\n",
       "      <td>NaN</td>\n",
       "      <td>0</td>\n",
       "      <td>Transient</td>\n",
       "      <td>98.0</td>\n",
       "      <td>0</td>\n",
       "      <td>1</td>\n",
       "      <td>2015-07-01</td>\n",
       "    </tr>\n",
       "    <tr>\n",
       "      <th>5</th>\n",
       "      <td>Resort Hotel</td>\n",
       "      <td>14</td>\n",
       "      <td>2015</td>\n",
       "      <td>07</td>\n",
       "      <td>27</td>\n",
       "      <td>1</td>\n",
       "      <td>0</td>\n",
       "      <td>2</td>\n",
       "      <td>2</td>\n",
       "      <td>0.0</td>\n",
       "      <td>...</td>\n",
       "      <td>0</td>\n",
       "      <td>No Deposit</td>\n",
       "      <td>240.0</td>\n",
       "      <td>NaN</td>\n",
       "      <td>0</td>\n",
       "      <td>Transient</td>\n",
       "      <td>98.0</td>\n",
       "      <td>0</td>\n",
       "      <td>1</td>\n",
       "      <td>2015-07-01</td>\n",
       "    </tr>\n",
       "  </tbody>\n",
       "</table>\n",
       "<p>5 rows × 30 columns</p>\n",
       "</div>"
      ],
      "text/plain": [
       "          hotel  lead_time  year month  arrival_date_week_number  day  \\\n",
       "0  Resort Hotel        342  2015    07                        27    1   \n",
       "2  Resort Hotel          7  2015    07                        27    1   \n",
       "3  Resort Hotel         13  2015    07                        27    1   \n",
       "4  Resort Hotel         14  2015    07                        27    1   \n",
       "5  Resort Hotel         14  2015    07                        27    1   \n",
       "\n",
       "   stays_in_weekend_nights  stays_in_week_nights  adults  children  ...  \\\n",
       "0                        0                     0       2       0.0  ...   \n",
       "2                        0                     1       1       0.0  ...   \n",
       "3                        0                     1       1       0.0  ...   \n",
       "4                        0                     2       2       0.0  ...   \n",
       "5                        0                     2       2       0.0  ...   \n",
       "\n",
       "   booking_changes deposit_type  agent company days_in_waiting_list  \\\n",
       "0                3   No Deposit    NaN     NaN                    0   \n",
       "2                0   No Deposit    NaN     NaN                    0   \n",
       "3                0   No Deposit  304.0     NaN                    0   \n",
       "4                0   No Deposit  240.0     NaN                    0   \n",
       "5                0   No Deposit  240.0     NaN                    0   \n",
       "\n",
       "   customer_type   adr  required_car_parking_spaces total_of_special_requests  \\\n",
       "0      Transient   0.0                            0                         0   \n",
       "2      Transient  75.0                            0                         0   \n",
       "3      Transient  75.0                            0                         0   \n",
       "4      Transient  98.0                            0                         1   \n",
       "5      Transient  98.0                            0                         1   \n",
       "\n",
       "        Date  \n",
       "0 2015-07-01  \n",
       "2 2015-07-01  \n",
       "3 2015-07-01  \n",
       "4 2015-07-01  \n",
       "5 2015-07-01  \n",
       "\n",
       "[5 rows x 30 columns]"
      ]
     },
     "execution_count": 10,
     "metadata": {},
     "output_type": "execute_result"
    }
   ],
   "source": [
    "X_train_original['Date'] = pd.to_datetime(X_train_original[['year','month','day']])\n",
    "X_train_original.head()"
   ]
  },
  {
   "cell_type": "code",
   "execution_count": 11,
   "metadata": {},
   "outputs": [],
   "source": [
    "# Create a full dataframe that contains the is_canceled category = y_train\n",
    "df = pd.merge(X_train_original, y_train, left_index = True, right_index = True)"
   ]
  },
  {
   "cell_type": "code",
   "execution_count": 12,
   "metadata": {},
   "outputs": [],
   "source": [
    "# Separate out only the data that is not canceled to look at trends\n",
    "df_not_canceled = df[df['is_canceled'] == 0]"
   ]
  },
  {
   "cell_type": "code",
   "execution_count": 13,
   "metadata": {},
   "outputs": [
    {
     "data": {
      "text/plain": [
       "<AxesSubplot:xlabel='year', ylabel='count'>"
      ]
     },
     "execution_count": 13,
     "metadata": {},
     "output_type": "execute_result"
    },
    {
     "data": {
      "image/png": "[encoded data removed]",
      "text/plain": [
       "<Figure size 504x360 with 1 Axes>"
      ]
     },
     "metadata": {
      "needs_background": "light"
     },
     "output_type": "display_data"
    }
   ],
   "source": [
    "import matplotlib.pyplot as plt\n",
    "import numpy as np\n",
    "from matplotlib import colors\n",
    "#from matplotlib.ticker import PercentFormatter\n",
    "import seaborn as sns\n",
    "#import pycountry as pc\n",
    "#import matplotlib.ticker as mtick\n",
    "\n",
    "# Look at bookings that were not canceled for the years included in the analysis by type of hotel \n",
    "plt.subplots(figsize=(7,5))\n",
    "sns.countplot(x='year', hue='hotel',  data=df_not_canceled)"
   ]
  },
  {
   "cell_type": "markdown",
   "metadata": {},
   "source": [
    "There seem to be relevant differences between both the years and the hotel types in how many nights were booked and actually stayed at the hotels. These variables should probably be in the models."
   ]
  },
  {
   "cell_type": "code",
   "execution_count": 14,
   "metadata": {},
   "outputs": [],
   "source": [
    "# Set up easy counting for the next steps\n",
    "def get_count(series, limit=None):\n",
    "   \n",
    "    if limit != None:\n",
    "        series = series.value_counts()[:limit]\n",
    "    else:\n",
    "        series = series.value_counts()\n",
    "    \n",
    "    x = series.index\n",
    "    y = series/series.sum()*100\n",
    "    \n",
    "    return x.values,y.values"
   ]
  },
  {
   "cell_type": "code",
   "execution_count": 15,
   "metadata": {},
   "outputs": [],
   "source": [
    "# Set up various plot options for plotting going forward\n",
    "def plot(x, y, x_label=None,y_label=None, title=None, figsize=(12,8), type='bar'):\n",
    "\n",
    "    sns.set_style('whitegrid')\n",
    "    \n",
    "    fig, ax = plt.subplots(figsize=figsize)\n",
    "    \n",
    "    #ax.yaxis.set_major_formatter(mtick.PercentFormatter())\n",
    "    \n",
    "    if x_label != None:\n",
    "        ax.set_xlabel(x_label, fontsize = 16)\n",
    "    \n",
    "    if y_label != None:\n",
    "        ax.set_ylabel(y_label, fontsize = 16)\n",
    "        \n",
    "    if title != None:\n",
    "        ax.set_title(title, fontsize=18, fontweight=\"bold\")\n",
    "    \n",
    "    if type == 'bar':\n",
    "        sns.barplot(x,y, ax = ax)\n",
    "    elif type == 'line':\n",
    "        sns.lineplot(x,y, ax = ax, sort=False)\n",
    "        \n",
    "    \n",
    "    plt.show()"
   ]
  },
  {
   "cell_type": "code",
   "execution_count": 16,
   "metadata": {},
   "outputs": [
    {
     "data": {
      "image/png": "[encoded data removed]",
      "text/plain": [
       "<Figure size 864x576 with 1 Axes>"
      ]
     },
     "metadata": {},
     "output_type": "display_data"
    }
   ],
   "source": [
    "# Look at distribution of non-canceled stays between weeknights and weekend nights\n",
    "total_nights = df_not_canceled['stays_in_weekend_nights']+ df_not_canceled['stays_in_week_nights']\n",
    "x,y = get_count(total_nights, limit=15)\n",
    "\n",
    "plot(x,y, x_label='Number of Nights', y_label='Bookings Percentage (%)', title='Most Common Length of Stay (Top 15)', figsize=(12,8))"
   ]
  },
  {
   "cell_type": "markdown",
   "metadata": {},
   "source": [
    "There seem to be substantial differences in stays between weekend nights and weeknights, and longer stays seem to generally be less frequent, so this also seems like a good variable to keep for the models."
   ]
  },
  {
   "cell_type": "code",
   "execution_count": 17,
   "metadata": {},
   "outputs": [
    {
     "data": {
      "image/png": "[encoded data removed]",
      "text/plain": [
       "<Figure size 864x432 with 1 Axes>"
      ]
     },
     "metadata": {},
     "output_type": "display_data"
    }
   ],
   "source": [
    "# Look at length of stay based on hotel type\n",
    "df_not_canceled.loc[:,'total_nights'] = df_not_canceled['stays_in_weekend_nights']+ df_not_canceled['stays_in_week_nights']\n",
    "\n",
    "fig, ax = plt.subplots(figsize=(12,6))\n",
    "ax.set_xlabel('Number of Nights')\n",
    "ax.set_ylabel('Number of Nights')\n",
    "ax.set_title('Length of Stay by Hotel (Top 10)')\n",
    "sns.countplot(x='total_nights', hue='hotel', data=df_not_canceled,\n",
    "              order = df_not_canceled.total_nights.value_counts().iloc[:10].index, ax=ax);"
   ]
  },
  {
   "cell_type": "markdown",
   "metadata": {},
   "source": [
    "The length of stay varies between hotel types, with resort hotels mostly booked for weeklong stays and longer, whereas city hotels are booked for shorter stays on average."
   ]
  },
  {
   "cell_type": "code",
   "execution_count": 18,
   "metadata": {},
   "outputs": [
    {
     "data": {
      "image/png": "[encoded data removed]",
      "text/plain": [
       "<Figure size 1296x432 with 1 Axes>"
      ]
     },
     "metadata": {},
     "output_type": "display_data"
    }
   ],
   "source": [
    "# Look at booking (not canceled) by month\n",
    "# Look at booking trends separately for \n",
    "\n",
    "# Sort months from January to December in ascending order\n",
    "month_sort = ['01', '02', '03', '04', '05', '06', '07', '08', '09',\n",
    "             '10', '11', '12']\n",
    "\n",
    "sorted_months = df_not_canceled['month'].value_counts().reindex(month_sort)\n",
    "\n",
    "x = sorted_months.index\n",
    "y = sorted_months/sorted_months.sum()*100\n",
    "\n",
    "# Select only City Hotel\n",
    "sorted_months = df_not_canceled.loc[df.hotel=='City Hotel', 'month'].value_counts().reindex(month_sort)\n",
    "\n",
    "x1 = sorted_months.index\n",
    "y1 = sorted_months/sorted_months.sum()*100\n",
    "\n",
    "# Select only Resort Hotel\n",
    "sorted_months = df_not_canceled.loc[df.hotel=='Resort Hotel', 'month'].value_counts().reindex(month_sort)\n",
    "\n",
    "x2 = sorted_months.index\n",
    "y2 = sorted_months/sorted_months.sum()*100\n",
    "\n",
    "# Draw the line plot\n",
    "fig, ax = plt.subplots(figsize=(18,6))\n",
    "\n",
    "ax.set_xlabel('Months of year', fontsize = 16)\n",
    "ax.set_ylabel('Bookings (%)', fontsize = 16)\n",
    "ax.set_title('Monthly Bookings', fontsize=18, fontweight=\"bold\")\n",
    "\n",
    "sns.lineplot(x1, y1.values, label='City Hotel', sort=False)\n",
    "sns.lineplot(x1, y2.values, label='Resort Hotel', sort=False)\n",
    "\n",
    "plt.show()"
   ]
  },
  {
   "cell_type": "markdown",
   "metadata": {},
   "source": [
    "There is clearly variation in the not-canceled bookings over the months and per hotel type. In addition, there seems to be a lot of variation in the weekend and weeknight stays over time, so it seems reasonable to include these as a variables for our models."
   ]
  },
  {
   "cell_type": "code",
   "execution_count": 19,
   "metadata": {},
   "outputs": [
    {
     "data": {
      "image/png": "[encoded data removed]",
      "text/plain": [
       "<Figure size 864x576 with 1 Axes>"
      ]
     },
     "metadata": {},
     "output_type": "display_data"
    }
   ],
   "source": [
    "# Look at distribution by country from which bookings came\n",
    "import pycountry as pc\n",
    "\n",
    "x,y = get_count(df_not_canceled['country'], limit=10)\n",
    "\n",
    "## For each country code select the country name \n",
    "country_name = [pc.countries.get(alpha_3=name).name for name in x]\n",
    "\n",
    "plot(country_name,y, x_label='Country', y_label='Total Bookings (%)', title='Bookings by Country', figsize=(12,8))\n"
   ]
  },
  {
   "cell_type": "markdown",
   "metadata": {},
   "source": [
    "Since these are Portugese hotels, it makes sense that the largest percentage of bookings comes from there. There do seem to be substantial differences between the bookings from other countries, so this variable should also be considered for the models."
   ]
  },
  {
   "cell_type": "code",
   "execution_count": 20,
   "metadata": {},
   "outputs": [
    {
     "data": {
      "image/png": "[encoded data removed]",
      "text/plain": [
       "<Figure size 864x576 with 1 Axes>"
      ]
     },
     "metadata": {},
     "output_type": "display_data"
    }
   ],
   "source": [
    "# Look at distribution of non-canceled bookings based on number of adults and children\n",
    "\n",
    "# Select single, couple, multiple adults and family\n",
    "single   = df_not_canceled[(df_not_canceled.adults==1) & (df_not_canceled.children==0) & (df_not_canceled.babies==0)]\n",
    "couple   = df_not_canceled[(df_not_canceled.adults==2) & (df_not_canceled.children==0) & (df_not_canceled.babies==0)]\n",
    "family   = df_not_canceled[df_not_canceled.adults + df_not_canceled.children + df_not_canceled.babies > 2]\n",
    "\n",
    "\n",
    "# Make the list of Category names, and their total percentage\n",
    "names = ['Single', 'Couple (No Children)', 'Family / Friends']\n",
    "count = [single.shape[0],couple.shape[0], family.shape[0]]\n",
    "count_percent = [x/df_not_canceled.shape[0]*100 for x in count]\n",
    "\n",
    "\n",
    "# Plot\n",
    "plot(names,count_percent,  y_label='Booking (%)', title='Accommodation Type', figsize=(12,8))"
   ]
  },
  {
   "cell_type": "markdown",
   "metadata": {},
   "source": [
    "There are stark differences between the bookings made based on the number of adults and children, these are definitely categories that should be included in the models."
   ]
  },
  {
   "cell_type": "code",
   "execution_count": 21,
   "metadata": {},
   "outputs": [
    {
     "data": {
      "text/plain": [
       "<AxesSubplot:xlabel='is_canceled', ylabel='babies'>"
      ]
     },
     "execution_count": 21,
     "metadata": {},
     "output_type": "execute_result"
    },
    {
     "data": {
      "image/png": "[encoded data removed]",
      "text/plain": [
       "<Figure size 1332x756 with 6 Axes>"
      ]
     },
     "metadata": {},
     "output_type": "display_data"
    }
   ],
   "source": [
    "# Look at differences between canceled and non-canceled for continous variables\n",
    "f, axes = plt.subplots(2, 3)\n",
    "f.set_size_inches(18.5, 10.5)\n",
    "sns.boxplot(x = y_train, y = X_train_original['lead_time'], orient='v' , ax=axes[0, 0])\n",
    "sns.boxplot(x = y_train, y = X_train_original['company'], orient='v' , ax=axes[0, 1])\n",
    "sns.boxplot(x = y_train, y = X_train_original['agent'], orient='v' , ax=axes[0, 2])\n",
    "sns.boxplot(x = y_train, y = X_train_original['adults'], orient='v' , ax=axes[1, 0])\n",
    "sns.boxplot(x = y_train, y = X_train_original['children'], orient='v' , ax=axes[1, 1])\n",
    "sns.boxplot(x = y_train, y = X_train_original['babies'], orient='v' , ax=axes[1, 2])"
   ]
  },
  {
   "cell_type": "markdown",
   "metadata": {},
   "source": [
    "There seem to be substantial differences between mean and confidence intervals for lead time but not for the company or the agent that made the booking."
   ]
  },
  {
   "cell_type": "code",
   "execution_count": 22,
   "metadata": {},
   "outputs": [
    {
     "data": {
      "text/plain": [
       "hotel                             0.000000\n",
       "lead_time                         0.000000\n",
       "year                              0.000000\n",
       "month                             0.000000\n",
       "arrival_date_week_number          0.000000\n",
       "day                               0.000000\n",
       "stays_in_weekend_nights           0.000000\n",
       "stays_in_week_nights              0.000000\n",
       "adults                            0.000000\n",
       "children                          0.000021\n",
       "babies                            0.000000\n",
       "meal                              0.000000\n",
       "country                           0.004136\n",
       "market_segment                    0.000000\n",
       "distribution_channel              0.000000\n",
       "is_repeated_guest                 0.000000\n",
       "previous_cancellations            0.000000\n",
       "previous_bookings_not_canceled    0.000000\n",
       "reserved_room_type                0.000000\n",
       "assigned_room_type                0.000000\n",
       "booking_changes                   0.000000\n",
       "deposit_type                      0.000000\n",
       "agent                             0.136957\n",
       "company                           0.942908\n",
       "days_in_waiting_list              0.000000\n",
       "customer_type                     0.000000\n",
       "adr                               0.000000\n",
       "required_car_parking_spaces       0.000000\n",
       "total_of_special_requests         0.000000\n",
       "Date                              0.000000\n",
       "dtype: float64"
      ]
     },
     "execution_count": 22,
     "metadata": {},
     "output_type": "execute_result"
    }
   ],
   "source": [
    "## Find the missing value, show the total null values for each column and sort it in descending order\n",
    "#X_train_original.isnull().sum().sort_values(ascending=False)[:10]\n",
    "X_train_original.isnull().sum()/X_train_original.shape[0]"
   ]
  },
  {
   "cell_type": "markdown",
   "metadata": {},
   "source": [
    "The variables \"agent\" and \"company\" do not seem to show clear differences in the number of bookings canceled and also have the highest number of missing values, so they will be dropped from the analysis."
   ]
  },
  {
   "cell_type": "code",
   "execution_count": 23,
   "metadata": {},
   "outputs": [
    {
     "name": "stdout",
     "output_type": "stream",
     "text": [
      "  market_segment  is_canceled\n",
      "0       Aviation     0.202186\n",
      "1  Complementary     0.128978\n",
      "2      Corporate     0.187984\n",
      "3         Direct     0.151967\n",
      "4         Groups     0.610775\n",
      "5  Offline TA/TO     0.342808\n",
      "6      Online TA     0.367868\n",
      "7      Undefined     1.000000\n"
     ]
    }
   ],
   "source": [
    "# Look at percentage of canceled stays for categorical values\n",
    "market_segment = pd.merge(X_train_original, y_train, left_index = True, right_index = True).groupby('market_segment')['is_canceled'].mean().reset_index()\n",
    "print(market_segment)"
   ]
  },
  {
   "cell_type": "code",
   "execution_count": 24,
   "metadata": {},
   "outputs": [],
   "source": [
    "new_df = pd.merge(X_train_original, y_train, left_index = True, right_index = True)"
   ]
  },
  {
   "cell_type": "code",
   "execution_count": 25,
   "metadata": {},
   "outputs": [
    {
     "name": "stdout",
     "output_type": "stream",
     "text": [
      "  market_segment  is_canceled\n",
      "0       Aviation     0.202186\n",
      "1  Complementary     0.128978\n",
      "2      Corporate     0.187984\n",
      "3         Direct     0.151967\n",
      "4         Groups     0.610775\n",
      "5  Offline TA/TO     0.342808\n",
      "6      Online TA     0.367868\n",
      "7      Undefined     1.000000\n"
     ]
    }
   ],
   "source": [
    "market_segment = new_df.groupby('market_segment')['is_canceled'].mean().reset_index()\n",
    "print(market_segment)"
   ]
  },
  {
   "cell_type": "markdown",
   "metadata": {},
   "source": [
    "The market segments seem to vary strongly in their cancellation rates (e.g. groups with 61% and direct bookings with only 15%), so this should be included in the models."
   ]
  },
  {
   "cell_type": "code",
   "execution_count": 26,
   "metadata": {},
   "outputs": [
    {
     "data": {
      "text/html": [
       "<div>\n",
       "<style scoped>\n",
       "    .dataframe tbody tr th:only-of-type {\n",
       "        vertical-align: middle;\n",
       "    }\n",
       "\n",
       "    .dataframe tbody tr th {\n",
       "        vertical-align: top;\n",
       "    }\n",
       "\n",
       "    .dataframe thead th {\n",
       "        text-align: right;\n",
       "    }\n",
       "</style>\n",
       "<table border=\"1\" class=\"dataframe\">\n",
       "  <thead>\n",
       "    <tr style=\"text-align: right;\">\n",
       "      <th></th>\n",
       "      <th>distribution_channel</th>\n",
       "      <th>is_canceled</th>\n",
       "    </tr>\n",
       "  </thead>\n",
       "  <tbody>\n",
       "    <tr>\n",
       "      <th>0</th>\n",
       "      <td>Corporate</td>\n",
       "      <td>0.218585</td>\n",
       "    </tr>\n",
       "    <tr>\n",
       "      <th>1</th>\n",
       "      <td>Direct</td>\n",
       "      <td>0.173026</td>\n",
       "    </tr>\n",
       "    <tr>\n",
       "      <th>2</th>\n",
       "      <td>GDS</td>\n",
       "      <td>0.180124</td>\n",
       "    </tr>\n",
       "    <tr>\n",
       "      <th>3</th>\n",
       "      <td>TA/TO</td>\n",
       "      <td>0.410754</td>\n",
       "    </tr>\n",
       "    <tr>\n",
       "      <th>4</th>\n",
       "      <td>Undefined</td>\n",
       "      <td>0.666667</td>\n",
       "    </tr>\n",
       "  </tbody>\n",
       "</table>\n",
       "</div>"
      ],
      "text/plain": [
       "  distribution_channel  is_canceled\n",
       "0            Corporate     0.218585\n",
       "1               Direct     0.173026\n",
       "2                  GDS     0.180124\n",
       "3                TA/TO     0.410754\n",
       "4            Undefined     0.666667"
      ]
     },
     "execution_count": 26,
     "metadata": {},
     "output_type": "execute_result"
    }
   ],
   "source": [
    "distribution_channel = new_df.groupby('distribution_channel')['is_canceled'].mean().reset_index()\n",
    "distribution_channel"
   ]
  },
  {
   "cell_type": "markdown",
   "metadata": {},
   "source": [
    "There is some variation in cancellations between distribution channels, should be included."
   ]
  },
  {
   "cell_type": "code",
   "execution_count": 27,
   "metadata": {},
   "outputs": [
    {
     "data": {
      "text/html": [
       "<div>\n",
       "<style scoped>\n",
       "    .dataframe tbody tr th:only-of-type {\n",
       "        vertical-align: middle;\n",
       "    }\n",
       "\n",
       "    .dataframe tbody tr th {\n",
       "        vertical-align: top;\n",
       "    }\n",
       "\n",
       "    .dataframe thead th {\n",
       "        text-align: right;\n",
       "    }\n",
       "</style>\n",
       "<table border=\"1\" class=\"dataframe\">\n",
       "  <thead>\n",
       "    <tr style=\"text-align: right;\">\n",
       "      <th></th>\n",
       "      <th>is_repeated_guest</th>\n",
       "      <th>is_canceled</th>\n",
       "    </tr>\n",
       "  </thead>\n",
       "  <tbody>\n",
       "    <tr>\n",
       "      <th>0</th>\n",
       "      <td>0</td>\n",
       "      <td>0.377916</td>\n",
       "    </tr>\n",
       "    <tr>\n",
       "      <th>1</th>\n",
       "      <td>1</td>\n",
       "      <td>0.143804</td>\n",
       "    </tr>\n",
       "  </tbody>\n",
       "</table>\n",
       "</div>"
      ],
      "text/plain": [
       "   is_repeated_guest  is_canceled\n",
       "0                  0     0.377916\n",
       "1                  1     0.143804"
      ]
     },
     "execution_count": 27,
     "metadata": {},
     "output_type": "execute_result"
    }
   ],
   "source": [
    "is_repeated_guest = new_df.groupby('is_repeated_guest')['is_canceled'].mean().reset_index()\n",
    "is_repeated_guest"
   ]
  },
  {
   "cell_type": "markdown",
   "metadata": {},
   "source": [
    "Repeat guests have fewer cancellations than first guests, this category should be included in the analysis."
   ]
  },
  {
   "cell_type": "code",
   "execution_count": 28,
   "metadata": {},
   "outputs": [
    {
     "data": {
      "text/html": [
       "<div>\n",
       "<style scoped>\n",
       "    .dataframe tbody tr th:only-of-type {\n",
       "        vertical-align: middle;\n",
       "    }\n",
       "\n",
       "    .dataframe tbody tr th {\n",
       "        vertical-align: top;\n",
       "    }\n",
       "\n",
       "    .dataframe thead th {\n",
       "        text-align: right;\n",
       "    }\n",
       "</style>\n",
       "<table border=\"1\" class=\"dataframe\">\n",
       "  <thead>\n",
       "    <tr style=\"text-align: right;\">\n",
       "      <th></th>\n",
       "      <th>previous_cancellations</th>\n",
       "      <th>is_canceled</th>\n",
       "    </tr>\n",
       "  </thead>\n",
       "  <tbody>\n",
       "    <tr>\n",
       "      <th>0</th>\n",
       "      <td>0</td>\n",
       "      <td>0.339451</td>\n",
       "    </tr>\n",
       "    <tr>\n",
       "      <th>1</th>\n",
       "      <td>1</td>\n",
       "      <td>0.942958</td>\n",
       "    </tr>\n",
       "    <tr>\n",
       "      <th>2</th>\n",
       "      <td>2</td>\n",
       "      <td>0.333333</td>\n",
       "    </tr>\n",
       "    <tr>\n",
       "      <th>3</th>\n",
       "      <td>3</td>\n",
       "      <td>0.285714</td>\n",
       "    </tr>\n",
       "    <tr>\n",
       "      <th>4</th>\n",
       "      <td>4</td>\n",
       "      <td>0.222222</td>\n",
       "    </tr>\n",
       "    <tr>\n",
       "      <th>5</th>\n",
       "      <td>5</td>\n",
       "      <td>0.117647</td>\n",
       "    </tr>\n",
       "    <tr>\n",
       "      <th>6</th>\n",
       "      <td>6</td>\n",
       "      <td>0.187500</td>\n",
       "    </tr>\n",
       "    <tr>\n",
       "      <th>7</th>\n",
       "      <td>11</td>\n",
       "      <td>0.225806</td>\n",
       "    </tr>\n",
       "    <tr>\n",
       "      <th>8</th>\n",
       "      <td>13</td>\n",
       "      <td>0.875000</td>\n",
       "    </tr>\n",
       "    <tr>\n",
       "      <th>9</th>\n",
       "      <td>14</td>\n",
       "      <td>1.000000</td>\n",
       "    </tr>\n",
       "    <tr>\n",
       "      <th>10</th>\n",
       "      <td>19</td>\n",
       "      <td>1.000000</td>\n",
       "    </tr>\n",
       "    <tr>\n",
       "      <th>11</th>\n",
       "      <td>21</td>\n",
       "      <td>1.000000</td>\n",
       "    </tr>\n",
       "    <tr>\n",
       "      <th>12</th>\n",
       "      <td>24</td>\n",
       "      <td>1.000000</td>\n",
       "    </tr>\n",
       "    <tr>\n",
       "      <th>13</th>\n",
       "      <td>25</td>\n",
       "      <td>1.000000</td>\n",
       "    </tr>\n",
       "    <tr>\n",
       "      <th>14</th>\n",
       "      <td>26</td>\n",
       "      <td>1.000000</td>\n",
       "    </tr>\n",
       "  </tbody>\n",
       "</table>\n",
       "</div>"
      ],
      "text/plain": [
       "    previous_cancellations  is_canceled\n",
       "0                        0     0.339451\n",
       "1                        1     0.942958\n",
       "2                        2     0.333333\n",
       "3                        3     0.285714\n",
       "4                        4     0.222222\n",
       "5                        5     0.117647\n",
       "6                        6     0.187500\n",
       "7                       11     0.225806\n",
       "8                       13     0.875000\n",
       "9                       14     1.000000\n",
       "10                      19     1.000000\n",
       "11                      21     1.000000\n",
       "12                      24     1.000000\n",
       "13                      25     1.000000\n",
       "14                      26     1.000000"
      ]
     },
     "execution_count": 28,
     "metadata": {},
     "output_type": "execute_result"
    }
   ],
   "source": [
    "previous_cancellations = new_df.groupby('previous_cancellations')['is_canceled'].mean().reset_index()\n",
    "previous_cancellations"
   ]
  },
  {
   "cell_type": "markdown",
   "metadata": {},
   "source": [
    "Previous cancellations vary strongly and seem to be a strong indicator for future cancellations, so this will be included in the model."
   ]
  },
  {
   "cell_type": "code",
   "execution_count": 29,
   "metadata": {},
   "outputs": [
    {
     "data": {
      "text/html": [
       "<div>\n",
       "<style scoped>\n",
       "    .dataframe tbody tr th:only-of-type {\n",
       "        vertical-align: middle;\n",
       "    }\n",
       "\n",
       "    .dataframe tbody tr th {\n",
       "        vertical-align: top;\n",
       "    }\n",
       "\n",
       "    .dataframe thead th {\n",
       "        text-align: right;\n",
       "    }\n",
       "</style>\n",
       "<table border=\"1\" class=\"dataframe\">\n",
       "  <thead>\n",
       "    <tr style=\"text-align: right;\">\n",
       "      <th></th>\n",
       "      <th>previous_bookings_not_canceled</th>\n",
       "      <th>is_canceled</th>\n",
       "    </tr>\n",
       "  </thead>\n",
       "  <tbody>\n",
       "    <tr>\n",
       "      <th>0</th>\n",
       "      <td>0</td>\n",
       "      <td>0.380301</td>\n",
       "    </tr>\n",
       "    <tr>\n",
       "      <th>1</th>\n",
       "      <td>1</td>\n",
       "      <td>0.053235</td>\n",
       "    </tr>\n",
       "    <tr>\n",
       "      <th>2</th>\n",
       "      <td>2</td>\n",
       "      <td>0.056769</td>\n",
       "    </tr>\n",
       "    <tr>\n",
       "      <th>3</th>\n",
       "      <td>3</td>\n",
       "      <td>0.057471</td>\n",
       "    </tr>\n",
       "    <tr>\n",
       "      <th>4</th>\n",
       "      <td>4</td>\n",
       "      <td>0.054348</td>\n",
       "    </tr>\n",
       "    <tr>\n",
       "      <th>...</th>\n",
       "      <td>...</td>\n",
       "      <td>...</td>\n",
       "    </tr>\n",
       "    <tr>\n",
       "      <th>63</th>\n",
       "      <td>68</td>\n",
       "      <td>0.000000</td>\n",
       "    </tr>\n",
       "    <tr>\n",
       "      <th>64</th>\n",
       "      <td>69</td>\n",
       "      <td>0.000000</td>\n",
       "    </tr>\n",
       "    <tr>\n",
       "      <th>65</th>\n",
       "      <td>70</td>\n",
       "      <td>0.000000</td>\n",
       "    </tr>\n",
       "    <tr>\n",
       "      <th>66</th>\n",
       "      <td>71</td>\n",
       "      <td>0.000000</td>\n",
       "    </tr>\n",
       "    <tr>\n",
       "      <th>67</th>\n",
       "      <td>72</td>\n",
       "      <td>0.000000</td>\n",
       "    </tr>\n",
       "  </tbody>\n",
       "</table>\n",
       "<p>68 rows × 2 columns</p>\n",
       "</div>"
      ],
      "text/plain": [
       "    previous_bookings_not_canceled  is_canceled\n",
       "0                                0     0.380301\n",
       "1                                1     0.053235\n",
       "2                                2     0.056769\n",
       "3                                3     0.057471\n",
       "4                                4     0.054348\n",
       "..                             ...          ...\n",
       "63                              68     0.000000\n",
       "64                              69     0.000000\n",
       "65                              70     0.000000\n",
       "66                              71     0.000000\n",
       "67                              72     0.000000\n",
       "\n",
       "[68 rows x 2 columns]"
      ]
     },
     "execution_count": 29,
     "metadata": {},
     "output_type": "execute_result"
    }
   ],
   "source": [
    "previous_bookings_not_canceled = new_df.groupby('previous_bookings_not_canceled')['is_canceled'].mean().reset_index()\n",
    "previous_bookings_not_canceled"
   ]
  },
  {
   "cell_type": "markdown",
   "metadata": {},
   "source": [
    "This seems to be a weaker predictor than previous cancellations but might still be valuable for the models based on the variance seen here."
   ]
  },
  {
   "cell_type": "code",
   "execution_count": 30,
   "metadata": {},
   "outputs": [
    {
     "data": {
      "text/html": [
       "<div>\n",
       "<style scoped>\n",
       "    .dataframe tbody tr th:only-of-type {\n",
       "        vertical-align: middle;\n",
       "    }\n",
       "\n",
       "    .dataframe tbody tr th {\n",
       "        vertical-align: top;\n",
       "    }\n",
       "\n",
       "    .dataframe thead th {\n",
       "        text-align: right;\n",
       "    }\n",
       "</style>\n",
       "<table border=\"1\" class=\"dataframe\">\n",
       "  <thead>\n",
       "    <tr style=\"text-align: right;\">\n",
       "      <th></th>\n",
       "      <th>reserved_room_type</th>\n",
       "      <th>is_canceled</th>\n",
       "    </tr>\n",
       "  </thead>\n",
       "  <tbody>\n",
       "    <tr>\n",
       "      <th>0</th>\n",
       "      <td>A</td>\n",
       "      <td>0.390524</td>\n",
       "    </tr>\n",
       "    <tr>\n",
       "      <th>1</th>\n",
       "      <td>B</td>\n",
       "      <td>0.329268</td>\n",
       "    </tr>\n",
       "    <tr>\n",
       "      <th>2</th>\n",
       "      <td>C</td>\n",
       "      <td>0.324900</td>\n",
       "    </tr>\n",
       "    <tr>\n",
       "      <th>3</th>\n",
       "      <td>D</td>\n",
       "      <td>0.320302</td>\n",
       "    </tr>\n",
       "    <tr>\n",
       "      <th>4</th>\n",
       "      <td>E</td>\n",
       "      <td>0.292299</td>\n",
       "    </tr>\n",
       "    <tr>\n",
       "      <th>5</th>\n",
       "      <td>F</td>\n",
       "      <td>0.299430</td>\n",
       "    </tr>\n",
       "    <tr>\n",
       "      <th>6</th>\n",
       "      <td>G</td>\n",
       "      <td>0.369423</td>\n",
       "    </tr>\n",
       "    <tr>\n",
       "      <th>7</th>\n",
       "      <td>H</td>\n",
       "      <td>0.433610</td>\n",
       "    </tr>\n",
       "    <tr>\n",
       "      <th>8</th>\n",
       "      <td>L</td>\n",
       "      <td>0.400000</td>\n",
       "    </tr>\n",
       "    <tr>\n",
       "      <th>9</th>\n",
       "      <td>P</td>\n",
       "      <td>1.000000</td>\n",
       "    </tr>\n",
       "  </tbody>\n",
       "</table>\n",
       "</div>"
      ],
      "text/plain": [
       "  reserved_room_type  is_canceled\n",
       "0                  A     0.390524\n",
       "1                  B     0.329268\n",
       "2                  C     0.324900\n",
       "3                  D     0.320302\n",
       "4                  E     0.292299\n",
       "5                  F     0.299430\n",
       "6                  G     0.369423\n",
       "7                  H     0.433610\n",
       "8                  L     0.400000\n",
       "9                  P     1.000000"
      ]
     },
     "execution_count": 30,
     "metadata": {},
     "output_type": "execute_result"
    }
   ],
   "source": [
    "reserved_room_type = new_df.groupby('reserved_room_type')['is_canceled'].mean().reset_index()\n",
    "reserved_room_type"
   ]
  },
  {
   "cell_type": "code",
   "execution_count": 31,
   "metadata": {},
   "outputs": [
    {
     "data": {
      "text/html": [
       "<div>\n",
       "<style scoped>\n",
       "    .dataframe tbody tr th:only-of-type {\n",
       "        vertical-align: middle;\n",
       "    }\n",
       "\n",
       "    .dataframe tbody tr th {\n",
       "        vertical-align: top;\n",
       "    }\n",
       "\n",
       "    .dataframe thead th {\n",
       "        text-align: right;\n",
       "    }\n",
       "</style>\n",
       "<table border=\"1\" class=\"dataframe\">\n",
       "  <thead>\n",
       "    <tr style=\"text-align: right;\">\n",
       "      <th></th>\n",
       "      <th>assigned_room_type</th>\n",
       "      <th>is_canceled</th>\n",
       "    </tr>\n",
       "  </thead>\n",
       "  <tbody>\n",
       "    <tr>\n",
       "      <th>0</th>\n",
       "      <td>A</td>\n",
       "      <td>0.443539</td>\n",
       "    </tr>\n",
       "    <tr>\n",
       "      <th>1</th>\n",
       "      <td>B</td>\n",
       "      <td>0.238506</td>\n",
       "    </tr>\n",
       "    <tr>\n",
       "      <th>2</th>\n",
       "      <td>C</td>\n",
       "      <td>0.183438</td>\n",
       "    </tr>\n",
       "    <tr>\n",
       "      <th>3</th>\n",
       "      <td>D</td>\n",
       "      <td>0.254098</td>\n",
       "    </tr>\n",
       "    <tr>\n",
       "      <th>4</th>\n",
       "      <td>E</td>\n",
       "      <td>0.253059</td>\n",
       "    </tr>\n",
       "    <tr>\n",
       "      <th>5</th>\n",
       "      <td>F</td>\n",
       "      <td>0.243463</td>\n",
       "    </tr>\n",
       "    <tr>\n",
       "      <th>6</th>\n",
       "      <td>G</td>\n",
       "      <td>0.310429</td>\n",
       "    </tr>\n",
       "    <tr>\n",
       "      <th>7</th>\n",
       "      <td>H</td>\n",
       "      <td>0.368696</td>\n",
       "    </tr>\n",
       "    <tr>\n",
       "      <th>8</th>\n",
       "      <td>I</td>\n",
       "      <td>0.006944</td>\n",
       "    </tr>\n",
       "    <tr>\n",
       "      <th>9</th>\n",
       "      <td>K</td>\n",
       "      <td>0.049774</td>\n",
       "    </tr>\n",
       "    <tr>\n",
       "      <th>10</th>\n",
       "      <td>L</td>\n",
       "      <td>1.000000</td>\n",
       "    </tr>\n",
       "    <tr>\n",
       "      <th>11</th>\n",
       "      <td>P</td>\n",
       "      <td>1.000000</td>\n",
       "    </tr>\n",
       "  </tbody>\n",
       "</table>\n",
       "</div>"
      ],
      "text/plain": [
       "   assigned_room_type  is_canceled\n",
       "0                   A     0.443539\n",
       "1                   B     0.238506\n",
       "2                   C     0.183438\n",
       "3                   D     0.254098\n",
       "4                   E     0.253059\n",
       "5                   F     0.243463\n",
       "6                   G     0.310429\n",
       "7                   H     0.368696\n",
       "8                   I     0.006944\n",
       "9                   K     0.049774\n",
       "10                  L     1.000000\n",
       "11                  P     1.000000"
      ]
     },
     "execution_count": 31,
     "metadata": {},
     "output_type": "execute_result"
    }
   ],
   "source": [
    "assigned_room_type = new_df.groupby('assigned_room_type')['is_canceled'].mean().reset_index()\n",
    "assigned_room_type"
   ]
  },
  {
   "cell_type": "markdown",
   "metadata": {},
   "source": [
    "Cancellations by booked room type do not seem to vary very strongly but they do vary substantially by assigned room type, so this might still be a valuable variable."
   ]
  },
  {
   "cell_type": "code",
   "execution_count": 32,
   "metadata": {},
   "outputs": [
    {
     "data": {
      "text/html": [
       "<div>\n",
       "<style scoped>\n",
       "    .dataframe tbody tr th:only-of-type {\n",
       "        vertical-align: middle;\n",
       "    }\n",
       "\n",
       "    .dataframe tbody tr th {\n",
       "        vertical-align: top;\n",
       "    }\n",
       "\n",
       "    .dataframe thead th {\n",
       "        text-align: right;\n",
       "    }\n",
       "</style>\n",
       "<table border=\"1\" class=\"dataframe\">\n",
       "  <thead>\n",
       "    <tr style=\"text-align: right;\">\n",
       "      <th></th>\n",
       "      <th>booking_changes</th>\n",
       "      <th>is_canceled</th>\n",
       "    </tr>\n",
       "  </thead>\n",
       "  <tbody>\n",
       "    <tr>\n",
       "      <th>0</th>\n",
       "      <td>0</td>\n",
       "      <td>0.408474</td>\n",
       "    </tr>\n",
       "    <tr>\n",
       "      <th>1</th>\n",
       "      <td>1</td>\n",
       "      <td>0.143967</td>\n",
       "    </tr>\n",
       "    <tr>\n",
       "      <th>2</th>\n",
       "      <td>2</td>\n",
       "      <td>0.201125</td>\n",
       "    </tr>\n",
       "    <tr>\n",
       "      <th>3</th>\n",
       "      <td>3</td>\n",
       "      <td>0.155102</td>\n",
       "    </tr>\n",
       "    <tr>\n",
       "      <th>4</th>\n",
       "      <td>4</td>\n",
       "      <td>0.160772</td>\n",
       "    </tr>\n",
       "    <tr>\n",
       "      <th>5</th>\n",
       "      <td>5</td>\n",
       "      <td>0.170455</td>\n",
       "    </tr>\n",
       "    <tr>\n",
       "      <th>6</th>\n",
       "      <td>6</td>\n",
       "      <td>0.270833</td>\n",
       "    </tr>\n",
       "    <tr>\n",
       "      <th>7</th>\n",
       "      <td>7</td>\n",
       "      <td>0.125000</td>\n",
       "    </tr>\n",
       "    <tr>\n",
       "      <th>8</th>\n",
       "      <td>8</td>\n",
       "      <td>0.230769</td>\n",
       "    </tr>\n",
       "    <tr>\n",
       "      <th>9</th>\n",
       "      <td>9</td>\n",
       "      <td>0.250000</td>\n",
       "    </tr>\n",
       "    <tr>\n",
       "      <th>10</th>\n",
       "      <td>10</td>\n",
       "      <td>0.166667</td>\n",
       "    </tr>\n",
       "    <tr>\n",
       "      <th>11</th>\n",
       "      <td>11</td>\n",
       "      <td>0.000000</td>\n",
       "    </tr>\n",
       "    <tr>\n",
       "      <th>12</th>\n",
       "      <td>12</td>\n",
       "      <td>0.000000</td>\n",
       "    </tr>\n",
       "    <tr>\n",
       "      <th>13</th>\n",
       "      <td>13</td>\n",
       "      <td>0.000000</td>\n",
       "    </tr>\n",
       "    <tr>\n",
       "      <th>14</th>\n",
       "      <td>14</td>\n",
       "      <td>0.250000</td>\n",
       "    </tr>\n",
       "    <tr>\n",
       "      <th>15</th>\n",
       "      <td>15</td>\n",
       "      <td>0.000000</td>\n",
       "    </tr>\n",
       "    <tr>\n",
       "      <th>16</th>\n",
       "      <td>16</td>\n",
       "      <td>0.500000</td>\n",
       "    </tr>\n",
       "    <tr>\n",
       "      <th>17</th>\n",
       "      <td>17</td>\n",
       "      <td>0.000000</td>\n",
       "    </tr>\n",
       "    <tr>\n",
       "      <th>18</th>\n",
       "      <td>18</td>\n",
       "      <td>0.000000</td>\n",
       "    </tr>\n",
       "    <tr>\n",
       "      <th>19</th>\n",
       "      <td>20</td>\n",
       "      <td>0.000000</td>\n",
       "    </tr>\n",
       "    <tr>\n",
       "      <th>20</th>\n",
       "      <td>21</td>\n",
       "      <td>0.000000</td>\n",
       "    </tr>\n",
       "  </tbody>\n",
       "</table>\n",
       "</div>"
      ],
      "text/plain": [
       "    booking_changes  is_canceled\n",
       "0                 0     0.408474\n",
       "1                 1     0.143967\n",
       "2                 2     0.201125\n",
       "3                 3     0.155102\n",
       "4                 4     0.160772\n",
       "5                 5     0.170455\n",
       "6                 6     0.270833\n",
       "7                 7     0.125000\n",
       "8                 8     0.230769\n",
       "9                 9     0.250000\n",
       "10               10     0.166667\n",
       "11               11     0.000000\n",
       "12               12     0.000000\n",
       "13               13     0.000000\n",
       "14               14     0.250000\n",
       "15               15     0.000000\n",
       "16               16     0.500000\n",
       "17               17     0.000000\n",
       "18               18     0.000000\n",
       "19               20     0.000000\n",
       "20               21     0.000000"
      ]
     },
     "execution_count": 32,
     "metadata": {},
     "output_type": "execute_result"
    }
   ],
   "source": [
    "booking_changes = new_df.groupby('booking_changes')['is_canceled'].mean().reset_index()\n",
    "booking_changes"
   ]
  },
  {
   "cell_type": "markdown",
   "metadata": {},
   "source": [
    "Changes made to the booking seem to be a strong indicator for cancellations and should be included in the models."
   ]
  },
  {
   "cell_type": "code",
   "execution_count": 33,
   "metadata": {},
   "outputs": [
    {
     "data": {
      "text/html": [
       "<div>\n",
       "<style scoped>\n",
       "    .dataframe tbody tr th:only-of-type {\n",
       "        vertical-align: middle;\n",
       "    }\n",
       "\n",
       "    .dataframe tbody tr th {\n",
       "        vertical-align: top;\n",
       "    }\n",
       "\n",
       "    .dataframe thead th {\n",
       "        text-align: right;\n",
       "    }\n",
       "</style>\n",
       "<table border=\"1\" class=\"dataframe\">\n",
       "  <thead>\n",
       "    <tr style=\"text-align: right;\">\n",
       "      <th></th>\n",
       "      <th>deposit_type</th>\n",
       "      <th>is_canceled</th>\n",
       "    </tr>\n",
       "  </thead>\n",
       "  <tbody>\n",
       "    <tr>\n",
       "      <th>0</th>\n",
       "      <td>No Deposit</td>\n",
       "      <td>0.284135</td>\n",
       "    </tr>\n",
       "    <tr>\n",
       "      <th>1</th>\n",
       "      <td>Non Refund</td>\n",
       "      <td>0.993900</td>\n",
       "    </tr>\n",
       "    <tr>\n",
       "      <th>2</th>\n",
       "      <td>Refundable</td>\n",
       "      <td>0.200000</td>\n",
       "    </tr>\n",
       "  </tbody>\n",
       "</table>\n",
       "</div>"
      ],
      "text/plain": [
       "  deposit_type  is_canceled\n",
       "0   No Deposit     0.284135\n",
       "1   Non Refund     0.993900\n",
       "2   Refundable     0.200000"
      ]
     },
     "execution_count": 33,
     "metadata": {},
     "output_type": "execute_result"
    }
   ],
   "source": [
    "deposit_type = new_df.groupby('deposit_type')['is_canceled'].mean().reset_index()\n",
    "deposit_type"
   ]
  },
  {
   "cell_type": "markdown",
   "metadata": {},
   "source": [
    "There are marked differences between deposit type and percentage of cancellation, so this is definitely important for the models."
   ]
  },
  {
   "cell_type": "code",
   "execution_count": 34,
   "metadata": {},
   "outputs": [
    {
     "data": {
      "text/html": [
       "<div>\n",
       "<style scoped>\n",
       "    .dataframe tbody tr th:only-of-type {\n",
       "        vertical-align: middle;\n",
       "    }\n",
       "\n",
       "    .dataframe tbody tr th {\n",
       "        vertical-align: top;\n",
       "    }\n",
       "\n",
       "    .dataframe thead th {\n",
       "        text-align: right;\n",
       "    }\n",
       "</style>\n",
       "<table border=\"1\" class=\"dataframe\">\n",
       "  <thead>\n",
       "    <tr style=\"text-align: right;\">\n",
       "      <th></th>\n",
       "      <th>days_in_waiting_list</th>\n",
       "      <th>is_canceled</th>\n",
       "    </tr>\n",
       "  </thead>\n",
       "  <tbody>\n",
       "    <tr>\n",
       "      <th>0</th>\n",
       "      <td>0</td>\n",
       "      <td>0.362102</td>\n",
       "    </tr>\n",
       "    <tr>\n",
       "      <th>1</th>\n",
       "      <td>1</td>\n",
       "      <td>0.181818</td>\n",
       "    </tr>\n",
       "    <tr>\n",
       "      <th>2</th>\n",
       "      <td>2</td>\n",
       "      <td>0.200000</td>\n",
       "    </tr>\n",
       "    <tr>\n",
       "      <th>3</th>\n",
       "      <td>3</td>\n",
       "      <td>1.000000</td>\n",
       "    </tr>\n",
       "    <tr>\n",
       "      <th>4</th>\n",
       "      <td>4</td>\n",
       "      <td>0.210526</td>\n",
       "    </tr>\n",
       "    <tr>\n",
       "      <th>...</th>\n",
       "      <td>...</td>\n",
       "      <td>...</td>\n",
       "    </tr>\n",
       "    <tr>\n",
       "      <th>121</th>\n",
       "      <td>236</td>\n",
       "      <td>0.181818</td>\n",
       "    </tr>\n",
       "    <tr>\n",
       "      <th>122</th>\n",
       "      <td>259</td>\n",
       "      <td>0.000000</td>\n",
       "    </tr>\n",
       "    <tr>\n",
       "      <th>123</th>\n",
       "      <td>330</td>\n",
       "      <td>0.083333</td>\n",
       "    </tr>\n",
       "    <tr>\n",
       "      <th>124</th>\n",
       "      <td>379</td>\n",
       "      <td>0.642857</td>\n",
       "    </tr>\n",
       "    <tr>\n",
       "      <th>125</th>\n",
       "      <td>391</td>\n",
       "      <td>1.000000</td>\n",
       "    </tr>\n",
       "  </tbody>\n",
       "</table>\n",
       "<p>126 rows × 2 columns</p>\n",
       "</div>"
      ],
      "text/plain": [
       "     days_in_waiting_list  is_canceled\n",
       "0                       0     0.362102\n",
       "1                       1     0.181818\n",
       "2                       2     0.200000\n",
       "3                       3     1.000000\n",
       "4                       4     0.210526\n",
       "..                    ...          ...\n",
       "121                   236     0.181818\n",
       "122                   259     0.000000\n",
       "123                   330     0.083333\n",
       "124                   379     0.642857\n",
       "125                   391     1.000000\n",
       "\n",
       "[126 rows x 2 columns]"
      ]
     },
     "execution_count": 34,
     "metadata": {},
     "output_type": "execute_result"
    }
   ],
   "source": [
    "days_in_waiting_list  = new_df.groupby('days_in_waiting_list')['is_canceled'].mean().reset_index()\n",
    "days_in_waiting_list "
   ]
  },
  {
   "cell_type": "markdown",
   "metadata": {},
   "source": [
    "The length of time it takes for confirmation of a booking does seem to influence cancellations and should be kept for the models."
   ]
  },
  {
   "cell_type": "code",
   "execution_count": 35,
   "metadata": {},
   "outputs": [
    {
     "data": {
      "text/html": [
       "<div>\n",
       "<style scoped>\n",
       "    .dataframe tbody tr th:only-of-type {\n",
       "        vertical-align: middle;\n",
       "    }\n",
       "\n",
       "    .dataframe tbody tr th {\n",
       "        vertical-align: top;\n",
       "    }\n",
       "\n",
       "    .dataframe thead th {\n",
       "        text-align: right;\n",
       "    }\n",
       "</style>\n",
       "<table border=\"1\" class=\"dataframe\">\n",
       "  <thead>\n",
       "    <tr style=\"text-align: right;\">\n",
       "      <th></th>\n",
       "      <th>customer_type</th>\n",
       "      <th>is_canceled</th>\n",
       "    </tr>\n",
       "  </thead>\n",
       "  <tbody>\n",
       "    <tr>\n",
       "      <th>0</th>\n",
       "      <td>Contract</td>\n",
       "      <td>0.310557</td>\n",
       "    </tr>\n",
       "    <tr>\n",
       "      <th>1</th>\n",
       "      <td>Group</td>\n",
       "      <td>0.100218</td>\n",
       "    </tr>\n",
       "    <tr>\n",
       "      <th>2</th>\n",
       "      <td>Transient</td>\n",
       "      <td>0.407526</td>\n",
       "    </tr>\n",
       "    <tr>\n",
       "      <th>3</th>\n",
       "      <td>Transient-Party</td>\n",
       "      <td>0.254595</td>\n",
       "    </tr>\n",
       "  </tbody>\n",
       "</table>\n",
       "</div>"
      ],
      "text/plain": [
       "     customer_type  is_canceled\n",
       "0         Contract     0.310557\n",
       "1            Group     0.100218\n",
       "2        Transient     0.407526\n",
       "3  Transient-Party     0.254595"
      ]
     },
     "execution_count": 35,
     "metadata": {},
     "output_type": "execute_result"
    }
   ],
   "source": [
    "customer_type  = new_df.groupby('customer_type')['is_canceled'].mean().reset_index()\n",
    "customer_type "
   ]
  },
  {
   "cell_type": "markdown",
   "metadata": {},
   "source": [
    "Cancellations vary strongly by customer type and should be kept for the models."
   ]
  },
  {
   "cell_type": "code",
   "execution_count": 36,
   "metadata": {},
   "outputs": [
    {
     "data": {
      "text/html": [
       "<div>\n",
       "<style scoped>\n",
       "    .dataframe tbody tr th:only-of-type {\n",
       "        vertical-align: middle;\n",
       "    }\n",
       "\n",
       "    .dataframe tbody tr th {\n",
       "        vertical-align: top;\n",
       "    }\n",
       "\n",
       "    .dataframe thead th {\n",
       "        text-align: right;\n",
       "    }\n",
       "</style>\n",
       "<table border=\"1\" class=\"dataframe\">\n",
       "  <thead>\n",
       "    <tr style=\"text-align: right;\">\n",
       "      <th></th>\n",
       "      <th>adr</th>\n",
       "      <th>is_canceled</th>\n",
       "    </tr>\n",
       "  </thead>\n",
       "  <tbody>\n",
       "    <tr>\n",
       "      <th>0</th>\n",
       "      <td>-6.38</td>\n",
       "      <td>0.000000</td>\n",
       "    </tr>\n",
       "    <tr>\n",
       "      <th>1</th>\n",
       "      <td>0.00</td>\n",
       "      <td>0.104220</td>\n",
       "    </tr>\n",
       "    <tr>\n",
       "      <th>2</th>\n",
       "      <td>0.26</td>\n",
       "      <td>0.000000</td>\n",
       "    </tr>\n",
       "    <tr>\n",
       "      <th>3</th>\n",
       "      <td>0.50</td>\n",
       "      <td>1.000000</td>\n",
       "    </tr>\n",
       "    <tr>\n",
       "      <th>4</th>\n",
       "      <td>1.00</td>\n",
       "      <td>0.166667</td>\n",
       "    </tr>\n",
       "    <tr>\n",
       "      <th>...</th>\n",
       "      <td>...</td>\n",
       "      <td>...</td>\n",
       "    </tr>\n",
       "    <tr>\n",
       "      <th>7953</th>\n",
       "      <td>426.25</td>\n",
       "      <td>0.000000</td>\n",
       "    </tr>\n",
       "    <tr>\n",
       "      <th>7954</th>\n",
       "      <td>450.00</td>\n",
       "      <td>1.000000</td>\n",
       "    </tr>\n",
       "    <tr>\n",
       "      <th>7955</th>\n",
       "      <td>451.50</td>\n",
       "      <td>0.000000</td>\n",
       "    </tr>\n",
       "    <tr>\n",
       "      <th>7956</th>\n",
       "      <td>510.00</td>\n",
       "      <td>0.000000</td>\n",
       "    </tr>\n",
       "    <tr>\n",
       "      <th>7957</th>\n",
       "      <td>5400.00</td>\n",
       "      <td>1.000000</td>\n",
       "    </tr>\n",
       "  </tbody>\n",
       "</table>\n",
       "<p>7958 rows × 2 columns</p>\n",
       "</div>"
      ],
      "text/plain": [
       "          adr  is_canceled\n",
       "0       -6.38     0.000000\n",
       "1        0.00     0.104220\n",
       "2        0.26     0.000000\n",
       "3        0.50     1.000000\n",
       "4        1.00     0.166667\n",
       "...       ...          ...\n",
       "7953   426.25     0.000000\n",
       "7954   450.00     1.000000\n",
       "7955   451.50     0.000000\n",
       "7956   510.00     0.000000\n",
       "7957  5400.00     1.000000\n",
       "\n",
       "[7958 rows x 2 columns]"
      ]
     },
     "execution_count": 36,
     "metadata": {},
     "output_type": "execute_result"
    }
   ],
   "source": [
    "adr = new_df.groupby('adr')['is_canceled'].mean().reset_index()\n",
    "adr"
   ]
  },
  {
   "cell_type": "code",
   "execution_count": 37,
   "metadata": {},
   "outputs": [
    {
     "data": {
      "text/html": [
       "<div>\n",
       "<style scoped>\n",
       "    .dataframe tbody tr th:only-of-type {\n",
       "        vertical-align: middle;\n",
       "    }\n",
       "\n",
       "    .dataframe tbody tr th {\n",
       "        vertical-align: top;\n",
       "    }\n",
       "\n",
       "    .dataframe thead th {\n",
       "        text-align: right;\n",
       "    }\n",
       "</style>\n",
       "<table border=\"1\" class=\"dataframe\">\n",
       "  <thead>\n",
       "    <tr style=\"text-align: right;\">\n",
       "      <th></th>\n",
       "      <th>required_car_parking_spaces</th>\n",
       "      <th>is_canceled</th>\n",
       "    </tr>\n",
       "  </thead>\n",
       "  <tbody>\n",
       "    <tr>\n",
       "      <th>0</th>\n",
       "      <td>0</td>\n",
       "      <td>0.39509</td>\n",
       "    </tr>\n",
       "    <tr>\n",
       "      <th>1</th>\n",
       "      <td>1</td>\n",
       "      <td>0.00000</td>\n",
       "    </tr>\n",
       "    <tr>\n",
       "      <th>2</th>\n",
       "      <td>2</td>\n",
       "      <td>0.00000</td>\n",
       "    </tr>\n",
       "    <tr>\n",
       "      <th>3</th>\n",
       "      <td>3</td>\n",
       "      <td>0.00000</td>\n",
       "    </tr>\n",
       "    <tr>\n",
       "      <th>4</th>\n",
       "      <td>8</td>\n",
       "      <td>0.00000</td>\n",
       "    </tr>\n",
       "  </tbody>\n",
       "</table>\n",
       "</div>"
      ],
      "text/plain": [
       "   required_car_parking_spaces  is_canceled\n",
       "0                            0      0.39509\n",
       "1                            1      0.00000\n",
       "2                            2      0.00000\n",
       "3                            3      0.00000\n",
       "4                            8      0.00000"
      ]
     },
     "execution_count": 37,
     "metadata": {},
     "output_type": "execute_result"
    }
   ],
   "source": [
    "required_car_parking_spaces = new_df.groupby('required_car_parking_spaces')['is_canceled'].mean().reset_index()\n",
    "required_car_parking_spaces"
   ]
  },
  {
   "cell_type": "markdown",
   "metadata": {},
   "source": [
    "Required parking spaces do not seem to be a major driver of differences between bookings, so might be dropped."
   ]
  },
  {
   "cell_type": "code",
   "execution_count": 38,
   "metadata": {},
   "outputs": [
    {
     "data": {
      "text/html": [
       "<div>\n",
       "<style scoped>\n",
       "    .dataframe tbody tr th:only-of-type {\n",
       "        vertical-align: middle;\n",
       "    }\n",
       "\n",
       "    .dataframe tbody tr th {\n",
       "        vertical-align: top;\n",
       "    }\n",
       "\n",
       "    .dataframe thead th {\n",
       "        text-align: right;\n",
       "    }\n",
       "</style>\n",
       "<table border=\"1\" class=\"dataframe\">\n",
       "  <thead>\n",
       "    <tr style=\"text-align: right;\">\n",
       "      <th></th>\n",
       "      <th>total_of_special_requests</th>\n",
       "      <th>is_canceled</th>\n",
       "    </tr>\n",
       "  </thead>\n",
       "  <tbody>\n",
       "    <tr>\n",
       "      <th>0</th>\n",
       "      <td>0</td>\n",
       "      <td>0.476766</td>\n",
       "    </tr>\n",
       "    <tr>\n",
       "      <th>1</th>\n",
       "      <td>1</td>\n",
       "      <td>0.220388</td>\n",
       "    </tr>\n",
       "    <tr>\n",
       "      <th>2</th>\n",
       "      <td>2</td>\n",
       "      <td>0.223002</td>\n",
       "    </tr>\n",
       "    <tr>\n",
       "      <th>3</th>\n",
       "      <td>3</td>\n",
       "      <td>0.181773</td>\n",
       "    </tr>\n",
       "    <tr>\n",
       "      <th>4</th>\n",
       "      <td>4</td>\n",
       "      <td>0.098113</td>\n",
       "    </tr>\n",
       "    <tr>\n",
       "      <th>5</th>\n",
       "      <td>5</td>\n",
       "      <td>0.033333</td>\n",
       "    </tr>\n",
       "  </tbody>\n",
       "</table>\n",
       "</div>"
      ],
      "text/plain": [
       "   total_of_special_requests  is_canceled\n",
       "0                          0     0.476766\n",
       "1                          1     0.220388\n",
       "2                          2     0.223002\n",
       "3                          3     0.181773\n",
       "4                          4     0.098113\n",
       "5                          5     0.033333"
      ]
     },
     "execution_count": 38,
     "metadata": {},
     "output_type": "execute_result"
    }
   ],
   "source": [
    "total_of_special_requests = new_df.groupby('total_of_special_requests')['is_canceled'].mean().reset_index()\n",
    "total_of_special_requests"
   ]
  },
  {
   "cell_type": "markdown",
   "metadata": {},
   "source": [
    "The number of special requests seem to influence differences between cancellation rates and should be kept for the models."
   ]
  },
  {
   "cell_type": "markdown",
   "metadata": {},
   "source": [
    "**ANSWER (a)**\n",
    "After reviewing the data, I believe that most factors in our original dataset are important to predict cancellations in Portugese hotels (Algarve vs Lisbon) but a few may be dropped to avoid over-fitting:\n",
    "1. Agent\n",
    "2. Company\n",
    "3. Required car parking spaces (assuming that the more parking spaces requested, the less likely to cancel)\n"
   ]
  },
  {
   "cell_type": "markdown",
   "metadata": {},
   "source": [
    "**(b) Preprocess your data.** Preprocess your data so it's ready for use for classification and describe what you did and why you did it. Preprocessing may include: normalizing data, handling missing or erroneous values, separating out a validation dataset, preparing categorical variables through one-hot-encoding, etc. To make one step in this process easier, you're provided with a one-hot-encoded version of the data already. \n",
    "- Comment on each type of preprocessing that you apply and both how and why you apply it."
   ]
  },
  {
   "cell_type": "code",
   "execution_count": 39,
   "metadata": {},
   "outputs": [
    {
     "name": "stdout",
     "output_type": "stream",
     "text": [
      "Int64Index([  2224,   2409,   3181,   3684,   3708,   9376,  31765,  32029,\n",
      "             32827,  34849,\n",
      "            ...\n",
      "            111710, 112471, 112558, 113188, 114583, 114908, 114911, 115029,\n",
      "            115091, 117087],\n",
      "           dtype='int64', length=136)\n"
     ]
    }
   ],
   "source": [
    "print(X_train_original[(X_train_original.adults+X_train_original.babies+X_train_original.children)==0].index)"
   ]
  },
  {
   "cell_type": "code",
   "execution_count": 40,
   "metadata": {},
   "outputs": [
    {
     "name": "stdout",
     "output_type": "stream",
     "text": [
      "0         0\n",
      "2         0\n",
      "3         0\n",
      "4         0\n",
      "5         0\n",
      "         ..\n",
      "119383    0\n",
      "119384    0\n",
      "119387    0\n",
      "119388    0\n",
      "119389    0\n",
      "Name: is_canceled, Length: 95512, dtype: int64\n"
     ]
    }
   ],
   "source": [
    "print(y_train)"
   ]
  },
  {
   "cell_type": "code",
   "execution_count": 41,
   "metadata": {},
   "outputs": [
    {
     "name": "stdout",
     "output_type": "stream",
     "text": [
      "Int64Index([  2224,   2409,   3181,   3684,   3708,   9376,  31765,  32029,\n",
      "             32827,  34849,\n",
      "            ...\n",
      "            111710, 112471, 112558, 113188, 114583, 114908, 114911, 115029,\n",
      "            115091, 117087],\n",
      "           dtype='int64', length=136)\n"
     ]
    }
   ],
   "source": [
    "print(y_train[(X_train_original.adults+X_train_original.babies+X_train_original.children)==0].index)"
   ]
  },
  {
   "cell_type": "code",
   "execution_count": 42,
   "metadata": {},
   "outputs": [
    {
     "name": "stdout",
     "output_type": "stream",
     "text": [
      "               hotel  lead_time  year month  arrival_date_week_number  day  \\\n",
      "0       Resort Hotel        342  2015    07                        27    1   \n",
      "2       Resort Hotel          7  2015    07                        27    1   \n",
      "3       Resort Hotel         13  2015    07                        27    1   \n",
      "4       Resort Hotel         14  2015    07                        27    1   \n",
      "5       Resort Hotel         14  2015    07                        27    1   \n",
      "...              ...        ...   ...   ...                       ...  ...   \n",
      "119383    City Hotel        164  2017    08                        35   31   \n",
      "119384    City Hotel         21  2017    08                        35   30   \n",
      "119387    City Hotel         34  2017    08                        35   31   \n",
      "119388    City Hotel        109  2017    08                        35   31   \n",
      "119389    City Hotel        205  2017    08                        35   29   \n",
      "\n",
      "        stays_in_weekend_nights  stays_in_week_nights  adults  children  ...  \\\n",
      "0                             0                     0       2       0.0  ...   \n",
      "2                             0                     1       1       0.0  ...   \n",
      "3                             0                     1       1       0.0  ...   \n",
      "4                             0                     2       2       0.0  ...   \n",
      "5                             0                     2       2       0.0  ...   \n",
      "...                         ...                   ...     ...       ...  ...   \n",
      "119383                        2                     4       2       0.0  ...   \n",
      "119384                        2                     5       2       0.0  ...   \n",
      "119387                        2                     5       2       0.0  ...   \n",
      "119388                        2                     5       2       0.0  ...   \n",
      "119389                        2                     7       2       0.0  ...   \n",
      "\n",
      "        booking_changes deposit_type  agent company days_in_waiting_list  \\\n",
      "0                     3   No Deposit    NaN     NaN                    0   \n",
      "2                     0   No Deposit    NaN     NaN                    0   \n",
      "3                     0   No Deposit  304.0     NaN                    0   \n",
      "4                     0   No Deposit  240.0     NaN                    0   \n",
      "5                     0   No Deposit  240.0     NaN                    0   \n",
      "...                 ...          ...    ...     ...                  ...   \n",
      "119383                0   No Deposit   42.0     NaN                    0   \n",
      "119384                0   No Deposit  394.0     NaN                    0   \n",
      "119387                0   No Deposit    9.0     NaN                    0   \n",
      "119388                0   No Deposit   89.0     NaN                    0   \n",
      "119389                0   No Deposit    9.0     NaN                    0   \n",
      "\n",
      "        customer_type     adr  required_car_parking_spaces  \\\n",
      "0           Transient    0.00                            0   \n",
      "2           Transient   75.00                            0   \n",
      "3           Transient   75.00                            0   \n",
      "4           Transient   98.00                            0   \n",
      "5           Transient   98.00                            0   \n",
      "...               ...     ...                          ...   \n",
      "119383      Transient   87.60                            0   \n",
      "119384      Transient   96.14                            0   \n",
      "119387      Transient  157.71                            0   \n",
      "119388      Transient  104.40                            0   \n",
      "119389      Transient  151.20                            0   \n",
      "\n",
      "       total_of_special_requests       Date  \n",
      "0                              0 2015-07-01  \n",
      "2                              0 2015-07-01  \n",
      "3                              0 2015-07-01  \n",
      "4                              1 2015-07-01  \n",
      "5                              1 2015-07-01  \n",
      "...                          ...        ...  \n",
      "119383                         0 2017-08-31  \n",
      "119384                         2 2017-08-30  \n",
      "119387                         4 2017-08-31  \n",
      "119388                         0 2017-08-31  \n",
      "119389                         2 2017-08-29  \n",
      "\n",
      "[95512 rows x 30 columns]\n"
     ]
    }
   ],
   "source": [
    "print(X_train_original)"
   ]
  },
  {
   "cell_type": "code",
   "execution_count": 43,
   "metadata": {},
   "outputs": [],
   "source": [
    "# Drop Rows where there is no adult, baby and child\n",
    "#X_train_original = X_train_original.drop(X_train_original[(X_train_original.adults+X_train_original.babies+X_train_original.children)==0].index)\n",
    "#y_train = y_train.drop(y_train[(X_train_original.adults+X_train_original.babies+X_train_original.children)==0].index)"
   ]
  },
  {
   "cell_type": "code",
   "execution_count": 44,
   "metadata": {},
   "outputs": [],
   "source": [
    "# Copy the dataframe for safekeeping\n",
    "X_train_original_subset = X_train_original.copy()"
   ]
  },
  {
   "cell_type": "code",
   "execution_count": 45,
   "metadata": {},
   "outputs": [],
   "source": [
    "X_train_original_subset['children'].fillna(round(X_train_original.children.mean()), inplace=True)"
   ]
  },
  {
   "cell_type": "markdown",
   "metadata": {},
   "source": [
    "There are two NA values in the dataset in the column \"children\". I replace these with the mean of all the other rows."
   ]
  },
  {
   "cell_type": "code",
   "execution_count": 46,
   "metadata": {},
   "outputs": [],
   "source": [
    "# convert datatype of float columns from float to integer\n",
    "X_train_original_subset[['children']] = X_train_original_subset[['children']].astype('int64')"
   ]
  },
  {
   "cell_type": "code",
   "execution_count": 47,
   "metadata": {},
   "outputs": [],
   "source": [
    "# Remove the less important features from training set\n",
    "X_train_original_subset = X_train_original_subset.drop(['agent','arrival_date_week_number',\n",
    "                            'company','assigned_room_type','reserved_room_type',\n",
    "                            'previous_bookings_not_canceled'], axis=1)"
   ]
  },
  {
   "cell_type": "code",
   "execution_count": 48,
   "metadata": {},
   "outputs": [],
   "source": [
    "# Remove the less important features from test set\n",
    "X_test_original = X_test_original.drop(['agent','arrival_date_week_number',\n",
    "                            'company','assigned_room_type','reserved_room_type',\n",
    "                            'previous_bookings_not_canceled'], axis=1)"
   ]
  },
  {
   "cell_type": "code",
   "execution_count": 49,
   "metadata": {},
   "outputs": [
    {
     "data": {
      "text/plain": [
       "<AxesSubplot:>"
      ]
     },
     "execution_count": 49,
     "metadata": {},
     "output_type": "execute_result"
    },
    {
     "data": {
      "image/png": "[encoded data removed]",
      "text/plain": [
       "<Figure size 1584x1080 with 2 Axes>"
      ]
     },
     "metadata": {},
     "output_type": "display_data"
    }
   ],
   "source": [
    "# Plot a heatmap to see correlation with columns (imitating the r-code from the paper)\n",
    "fig, ax = plt.subplots(figsize=(22,15))\n",
    "sns.heatmap(X_train_original_subset.corr(), annot=True, ax=ax)"
   ]
  },
  {
   "cell_type": "code",
   "execution_count": 50,
   "metadata": {},
   "outputs": [],
   "source": [
    "# turn all categorical values into one hot encoded values\n",
    "\n",
    "def transform(dataframe):\n",
    "    \n",
    "    \n",
    "    ## Import LabelEncoder from sklearn\n",
    "    from sklearn.preprocessing import OneHotEncoder\n",
    "    \n",
    "    ohe = OneHotEncoder()\n",
    "    \n",
    "    \n",
    "    ## Select all categorcial features\n",
    "    categorical_features = list(dataframe.columns[dataframe.dtypes == object])\n",
    "    \n",
    "    \n",
    "    ## Apply one hot Encoding on all categorical features\n",
    "    return dataframe[categorical_features].apply(lambda x: ohe.fit_transform(x))\n",
    "\n",
    "X_train_original_subset = transform(X_train_original_subset)"
   ]
  },
  {
   "cell_type": "code",
   "execution_count": 51,
   "metadata": {},
   "outputs": [],
   "source": [
    "# turn all categorical values into one hot encoded values\n",
    "\n",
    "def transform(dataframe):\n",
    "    \n",
    "    \n",
    "    ## Import LabelEncoder from sklearn\n",
    "    from sklearn.preprocessing import OneHotEncoder\n",
    "    \n",
    "    ohe = OneHotEncoder()\n",
    "    \n",
    "    \n",
    "    ## Select all categorcial features\n",
    "    categorical_features = list(dataframe.columns[dataframe.dtypes == object])\n",
    "    \n",
    "    \n",
    "    ## Apply one hot Encoding on all categorical features\n",
    "    return dataframe[categorical_features].apply(lambda x: ohe.fit_transform(x))\n",
    "\n",
    "X_test_original = transform(X_test_original)"
   ]
  },
  {
   "cell_type": "code",
   "execution_count": 52,
   "metadata": {},
   "outputs": [],
   "source": [
    "# Split training dataset into training and validation dataset\n",
    "from sklearn.model_selection import train_test_split\n",
    "\n",
    "X_train, X_val, y_train2, y_val = train_test_split(\n",
    "    X_train_original_subset, y_train, test_size = 0.2, random_state=2018\n",
    ") # split with an 80/20 ratio"
   ]
  },
  {
   "cell_type": "code",
   "execution_count": 53,
   "metadata": {},
   "outputs": [
    {
     "data": {
      "text/plain": [
       "(95512, 8)"
      ]
     },
     "execution_count": 53,
     "metadata": {},
     "output_type": "execute_result"
    }
   ],
   "source": [
    "X_train_original_subset.shape"
   ]
  },
  {
   "cell_type": "markdown",
   "metadata": {},
   "source": [
    "**ANSWER (b)**\n",
    "\n",
    "I did several iterations of preprocessing.\n",
    "\n",
    "1. Normalizing the data:\n",
    "\n",
    "    i) scaling\n",
    "\n",
    "    ii) reducing dimensionality\n",
    "\n",
    "2. Drop missing and erroneous values\n",
    "    i) since there was no missing data, based on the database this data was pulled from, none could be dropped directly. Entries that were presented as NULL were considered as not applicable and dropped, though.\n",
    "\n",
    "3. Prepare categorical variables\n",
    "\n",
    "4. Split training data into training and validation data using an 80/20 split. This is to evaluate performance of my models based on a held-out dataset before it gets applied to the true test data."
   ]
  },
  {
   "cell_type": "markdown",
   "metadata": {},
   "source": [
    "**(c) Select, train, and compare models.** Fit at least 5 models to the data. Some of these can be experiments with different hyperparameter-tuned versions of the same model, although all 5 should not be the same type of model."
   ]
  },
  {
   "cell_type": "code",
   "execution_count": 56,
   "metadata": {},
   "outputs": [],
   "source": [
    "# Import all the important modules\n",
    "from pandas import read_csv # For dataframes\n",
    "from pandas import DataFrame # For dataframes\n",
    "from numpy import ravel # For matrices\n",
    "import matplotlib.pyplot as plt # For plotting data\n",
    "import seaborn as sns # For plotting data\n",
    "from sklearn.model_selection import train_test_split # For train/test splits\n",
    "from sklearn.linear_model import LogisticRegression # The logistic regression classifier\n",
    "from sklearn.neighbors import KNeighborsClassifier # The k-nearest neighbor classifier\n",
    "\n",
    "from sklearn.feature_selection import VarianceThreshold # Feature selector\n",
    "from sklearn.pipeline import Pipeline # For setting up pipeline\n",
    "# Various pre-processing steps\n",
    "from sklearn.preprocessing import Normalizer, StandardScaler, MinMaxScaler, PowerTransformer, MaxAbsScaler, LabelEncoder\n",
    "from sklearn.model_selection import GridSearchCV # For optimization\n",
    "from sklearn.preprocessing import StandardScaler, RobustScaler, QuantileTransformer\n",
    "from sklearn.feature_selection import SelectKBest, f_regression\n",
    "from sklearn.decomposition import PCA\n",
    "from sklearn.linear_model import Ridge"
   ]
  },
  {
   "cell_type": "markdown",
   "metadata": {},
   "source": [
    "1. Logistic regression"
   ]
  },
  {
   "cell_type": "code",
   "execution_count": 103,
   "metadata": {},
   "outputs": [
    {
     "name": "stdout",
     "output_type": "stream",
     "text": [
      "Training set score: 0.7427789920035598\n",
      "Validation set score: 0.7468983929225776\n",
      "Training set score: 0.740187674226858\n",
      "Validation set score: 0.7427105690205726\n",
      "Training set score: 0.7434464526430132\n",
      "Validation set score: 0.747264827514003\n",
      "{'classifier__penalty': 'none', 'classifier__tol': 0.0001, 'scaler': Normalizer()}\n",
      "Pipeline(steps=[('scaler', Normalizer()),\n",
      "                ('classifier', LogisticRegression(penalty='none'))])\n",
      "Index(['mean_fit_time', 'std_fit_time', 'mean_score_time', 'std_score_time',\n",
      "       'param_classifier__penalty', 'param_classifier__tol', 'param_scaler',\n",
      "       'params', 'split0_test_score', 'split1_test_score', 'mean_test_score',\n",
      "       'std_test_score', 'rank_test_score'],\n",
      "      dtype='object')\n"
     ]
    }
   ],
   "source": [
    "# set up tuning pipeline for logistic regression\n",
    "# set up tuning pipleine for KNN\n",
    "logreg = LogisticRegression().fit(X_train, y_train2)\n",
    "print('Training set score: ' + str(logreg.score(X_train,y_train2)))\n",
    "print('Validation set score: ' + str(logreg.score(X_val,y_val)))\n",
    " \n",
    "pipe = Pipeline([('scaler', StandardScaler()),\n",
    "('classifier', LogisticRegression()),\n",
    "])\n",
    " \n",
    "pipe.fit(X_train, y_train2)\n",
    " \n",
    "print('Training set score: ' + str(pipe.score(X_train,y_train2)))\n",
    "print('Validation set score: ' + str(pipe.score(X_val,y_val)))\n",
    " \n",
    "parameters = {'scaler': [StandardScaler(), MinMaxScaler(),\n",
    "\tNormalizer(), MaxAbsScaler()],\n",
    "\t'classifier__penalty': ['elasticnet', 'none'],\n",
    "\t'classifier__tol': [1e-4, 1e-3, 1e-2]\n",
    "}\n",
    " \n",
    "grid = GridSearchCV(pipe, parameters, cv=2).fit(X_train, y_train2)\n",
    " \n",
    "print('Training set score: ' + str(grid.score(X_train, y_train2)))\n",
    "print('Validation set score: ' + str(grid.score(X_val, y_val)))\n",
    " \n",
    "# Access the best set of parameters\n",
    "best_params = grid.best_params_\n",
    "print(best_params)\n",
    "# Stores the optimum model in best_pipe\n",
    "best_pipe_logreg = grid.best_estimator_\n",
    "print(best_pipe_logreg)\n",
    " \n",
    "result_df = DataFrame.from_dict(grid.cv_results_, orient='columns')\n",
    "print(result_df.columns)"
   ]
  },
  {
   "cell_type": "code",
   "execution_count": 86,
   "metadata": {},
   "outputs": [],
   "source": [
    "import time\n",
    "\n",
    "# Time the model training\n",
    "start_time=time.time()\n",
    "best_pipe_logreg.fit(X_train, y_train2)\n",
    "end_time=time.time()\n",
    "time_taken_logreg = end_time-start_time\n",
    "\n",
    "# Time model validation\n",
    "start_time=time.time()\n",
    "best_pipe_logreg.predict(X_val)\n",
    "end_time=time.time()\n",
    "time_taken_logreg2 = end_time-start_time"
   ]
  },
  {
   "cell_type": "code",
   "execution_count": 88,
   "metadata": {},
   "outputs": [
    {
     "name": "stdout",
     "output_type": "stream",
     "text": [
      "The logistic regression model takes 0.5455076694488525 to train and 0.0019965171813964844 to validate with these parameters: Pipeline(steps=[('scaler', Normalizer()),\n",
      "                ('classifier', LogisticRegression(penalty='none'))]).\n"
     ]
    }
   ],
   "source": [
    "print(f\"The logistic regression model takes {time_taken_logreg} to train and {time_taken_logreg2} to validate with these parameters: {best_pipe_logreg}.\")"
   ]
  },
  {
   "cell_type": "code",
   "execution_count": 89,
   "metadata": {},
   "outputs": [],
   "source": [
    "final_logreg = best_pipe_logreg.fit(X_train_original_subset, y_train)"
   ]
  },
  {
   "cell_type": "code",
   "execution_count": 90,
   "metadata": {},
   "outputs": [
    {
     "name": "stdout",
     "output_type": "stream",
     "text": [
      "Pipeline(steps=[('scaler', Normalizer()),\n",
      "                ('classifier', LogisticRegression(penalty='none'))])\n"
     ]
    }
   ],
   "source": [
    "print(final_logreg)"
   ]
  },
  {
   "cell_type": "code",
   "execution_count": 91,
   "metadata": {},
   "outputs": [
    {
     "data": {
      "text/plain": [
       "array([0.97076472, 0.24445629, 0.31753734, ..., 0.34512487, 0.26207812,\n",
       "       0.29508237])"
      ]
     },
     "execution_count": 91,
     "metadata": {},
     "output_type": "execute_result"
    }
   ],
   "source": [
    "final_logreg.predict_proba(X_test_original)[:, 1]"
   ]
  },
  {
   "cell_type": "code",
   "execution_count": 92,
   "metadata": {},
   "outputs": [],
   "source": [
    "create_submission(final_logreg.predict_proba(X_test_original)[:, 1], \"logreg.csv\")"
   ]
  },
  {
   "cell_type": "markdown",
   "metadata": {},
   "source": [
    "2. K-nearest neighbors"
   ]
  },
  {
   "cell_type": "code",
   "execution_count": 62,
   "metadata": {},
   "outputs": [
    {
     "name": "stdout",
     "output_type": "stream",
     "text": [
      "Training set score: 0.7701187032941146\n",
      "Validation set score: 0.7567397790922892\n",
      "Training set score: 0.7678807470324176\n",
      "Validation set score: 0.7546458671412867\n",
      "Training set score: 0.7808111609888887\n",
      "Validation set score: 0.7698790765848296\n",
      "{'classifier__leaf_size': 10, 'classifier__n_neighbors': 10, 'classifier__p': 1, 'scaler': StandardScaler(), 'selector__threshold': 0}\n",
      "Pipeline(steps=[('scaler', StandardScaler()),\n",
      "                ('selector', VarianceThreshold(threshold=0)),\n",
      "                ('classifier',\n",
      "                 KNeighborsClassifier(leaf_size=10, n_neighbors=10, p=1))])\n",
      "Index(['mean_fit_time', 'std_fit_time', 'mean_score_time', 'std_score_time',\n",
      "       'param_classifier__leaf_size', 'param_classifier__n_neighbors',\n",
      "       'param_classifier__p', 'param_scaler', 'param_selector__threshold',\n",
      "       'params', 'split0_test_score', 'split1_test_score', 'mean_test_score',\n",
      "       'std_test_score', 'rank_test_score'],\n",
      "      dtype='object')\n"
     ]
    },
    {
     "data": {
      "image/png": "[encoded data removed]",
      "text/plain": [
       "<Figure size 832.125x360 with 2 Axes>"
      ]
     },
     "metadata": {},
     "output_type": "display_data"
    },
    {
     "data": {
      "image/png": "[encoded data removed]",
      "text/plain": [
       "<Figure size 1552.12x360 with 4 Axes>"
      ]
     },
     "metadata": {},
     "output_type": "display_data"
    }
   ],
   "source": [
    "# set up tuning pipleine for KNN\n",
    "knn = KNeighborsClassifier().fit(X_train, y_train2)\n",
    "print('Training set score: ' + str(knn.score(X_train,y_train2)))\n",
    "print('Validation set score: ' + str(knn.score(X_val,y_val)))\n",
    " \n",
    "pipe = Pipeline([\n",
    "('scaler', StandardScaler()),\n",
    "('selector', VarianceThreshold()),\n",
    "('classifier', KNeighborsClassifier())\n",
    "])\n",
    " \n",
    "pipe.fit(X_train, y_train2)\n",
    " \n",
    "print('Training set score: ' + str(pipe.score(X_train,y_train2)))\n",
    "print('Validation set score: ' + str(pipe.score(X_val,y_val)))\n",
    " \n",
    "parameters = {'scaler': [StandardScaler(), MinMaxScaler(),\n",
    "\tNormalizer(), MaxAbsScaler()],\n",
    "\t'selector__threshold': [0, 0.001, 0.01],\n",
    "\t'classifier__n_neighbors': [1, 3, 5, 7, 10],\n",
    "\t'classifier__p': [1, 2],\n",
    "\t'classifier__leaf_size': [1, 5, 10, 15]\n",
    "}\n",
    " \n",
    "grid = GridSearchCV(pipe, parameters, cv=2).fit(X_train, y_train2)\n",
    " \n",
    "print('Training set score: ' + str(grid.score(X_train, y_train2)))\n",
    "print('Validation set score: ' + str(grid.score(X_val, y_val)))\n",
    " \n",
    "# Access the best set of parameters\n",
    "best_params = grid.best_params_\n",
    "print(best_params)\n",
    "# Stores the optimum model in best_pipe\n",
    "best_pipe_knn = grid.best_estimator_\n",
    "print(best_pipe)\n",
    " \n",
    "result_df = DataFrame.from_dict(grid.cv_results_, orient='columns')\n",
    "print(result_df.columns)\n",
    " \n",
    "sns.relplot(data=result_df,\n",
    "\tkind='line',\n",
    "\tx='param_classifier__n_neighbors',\n",
    "\ty='mean_test_score',\n",
    "\thue='param_scaler',\n",
    "\tcol='param_classifier__p')\n",
    "plt.show()\n",
    " \n",
    "sns.relplot(data=result_df,\n",
    "            kind='line',\n",
    "            x='param_classifier__n_neighbors',\n",
    "            y='mean_test_score',\n",
    "            hue='param_scaler',\n",
    "            col='param_classifier__leaf_size')\n",
    "plt.show()"
   ]
  },
  {
   "cell_type": "code",
   "execution_count": 65,
   "metadata": {},
   "outputs": [
    {
     "name": "stdout",
     "output_type": "stream",
     "text": [
      "0.48969101905822754\n"
     ]
    }
   ],
   "source": [
    "import time\n",
    "\n",
    "# Time the model training\n",
    "start_time=time.time()\n",
    "best_pipe.fit(X_train, y_train2)\n",
    "end_time=time.time()\n",
    "time_taken = end_time-start_time\n",
    "\n",
    "# Time model validation\n",
    "start_time=time.time()\n",
    "best_pipe.predict(X_val)\n",
    "end_time=time.time()\n",
    "time_taken2 = end_time-start_time\n"
   ]
  },
  {
   "cell_type": "code",
   "execution_count": null,
   "metadata": {},
   "outputs": [],
   "source": [
    "print(f\"The KNN model takes {time_taken} to train and {time_taken2} to validate with these parameters {best_pipe}.\")"
   ]
  },
  {
   "cell_type": "code",
   "execution_count": 74,
   "metadata": {},
   "outputs": [],
   "source": [
    "final_knn = best_pipe.fit(X_train_original_subset, y_train)"
   ]
  },
  {
   "cell_type": "code",
   "execution_count": 75,
   "metadata": {},
   "outputs": [
    {
     "name": "stdout",
     "output_type": "stream",
     "text": [
      "Pipeline(steps=[('scaler', StandardScaler()),\n",
      "                ('selector', VarianceThreshold(threshold=0)),\n",
      "                ('classifier',\n",
      "                 KNeighborsClassifier(leaf_size=10, n_neighbors=10, p=1))])\n"
     ]
    }
   ],
   "source": [
    "print(final_knn)"
   ]
  },
  {
   "cell_type": "code",
   "execution_count": 77,
   "metadata": {},
   "outputs": [
    {
     "data": {
      "text/plain": [
       "array([1. , 0.7, 0.3, ..., 0.5, 0.2, 0.6])"
      ]
     },
     "execution_count": 77,
     "metadata": {},
     "output_type": "execute_result"
    }
   ],
   "source": [
    "final_knn.predict_proba(X_test_original)[:, 1]"
   ]
  },
  {
   "cell_type": "code",
   "execution_count": 79,
   "metadata": {},
   "outputs": [],
   "source": [
    "################################\n",
    "# Produce submission\n",
    "################################\n",
    "\n",
    "def create_submission(confidence_scores, save_path):\n",
    "    '''Creates an output file of submissions for Kaggle\n",
    "    \n",
    "    Parameters\n",
    "    ----------\n",
    "    confidence_scores : list or numpy array\n",
    "        Confidence scores (from predict_proba methods from classifiers) or\n",
    "        binary predictions (only recommended in cases when predict_proba is \n",
    "        not available)\n",
    "    save_path : string\n",
    "        File path for where to save the submission file.\n",
    "    \n",
    "    Example:\n",
    "    create_submission(my_confidence_scores, './data/submission.csv')\n",
    "\n",
    "    '''\n",
    "    import pandas as pd\n",
    "\n",
    "    submission = pd.DataFrame({\"score\":confidence_scores})\n",
    "    submission.to_csv(save_path, index_label=\"id\")"
   ]
  },
  {
   "cell_type": "code",
   "execution_count": 82,
   "metadata": {},
   "outputs": [],
   "source": [
    "# create submission KNN\n",
    "create_submission(final_knn.predict_proba(X_test_original)[:, 1], \"knn.csv\")"
   ]
  },
  {
   "cell_type": "markdown",
   "metadata": {},
   "source": [
    "3. Random Forests"
   ]
  },
  {
   "cell_type": "code",
   "execution_count": 116,
   "metadata": {},
   "outputs": [
    {
     "name": "stdout",
     "output_type": "stream",
     "text": [
      "Training set score: 0.8030860238977083\n",
      "Validation set score: 0.7843270690467465\n",
      "Training set score: 0.8030729364341896\n",
      "Validation set score: 0.7845888080406219\n",
      "Training set score: 0.7941734612414768\n",
      "Validation set score: 0.7840653300528713\n",
      "{'classifier__min_samples_leaf': 4, 'classifier__n_estimators': 200}\n",
      "Pipeline(steps=[('classifier',\n",
      "                 RandomForestClassifier(min_samples_leaf=4, n_estimators=200))])\n",
      "Index(['mean_fit_time', 'std_fit_time', 'mean_score_time', 'std_score_time',\n",
      "       'param_classifier__min_samples_leaf', 'param_classifier__n_estimators',\n",
      "       'params', 'split0_test_score', 'split1_test_score', 'mean_test_score',\n",
      "       'std_test_score', 'rank_test_score'],\n",
      "      dtype='object')\n"
     ]
    }
   ],
   "source": [
    "from sklearn.ensemble import RandomForestClassifier\n",
    "from sklearn.feature_selection import SelectKBest\n",
    "from sklearn.feature_selection import chi2\n",
    "\n",
    "# set up tuning pipleine for Random Forest\n",
    "rf = RandomForestClassifier().fit(X_train, y_train2)\n",
    "print('Training set score: ' + str(rf.score(X_train,y_train2)))\n",
    "print('Validation set score: ' + str(rf.score(X_val,y_val)))\n",
    " \n",
    "pipe = Pipeline([\n",
    "('classifier', RandomForestClassifier()),\n",
    "])\n",
    " \n",
    "pipe.fit(X_train, y_train2)\n",
    " \n",
    "print('Training set score: ' + str(pipe.score(X_train,y_train2)))\n",
    "print('Validation set score: ' + str(pipe.score(X_val,y_val)))\n",
    " \n",
    "parameters = {\n",
    "\t'classifier__n_estimators': [50, 100, 500, None],\n",
    "\t#'classifier__bootstrap': [True, False],\n",
    "\t#'classifier__max_features': ['auto', 'sqrt'],\n",
    "\t'classifier__min_samples_leaf': [1, 2, 4],\n",
    "\t#'classifier__min_samples_split': [2, 5, 10],\n",
    "\t'classifier__n_estimators': [200, 500, 1000]\n",
    "}\n",
    " \n",
    "grid = GridSearchCV(pipe, parameters, cv=2).fit(X_train, y_train2)\n",
    " \n",
    "print('Training set score: ' + str(grid.score(X_train, y_train2)))\n",
    "print('Validation set score: ' + str(grid.score(X_val, y_val)))\n",
    " \n",
    "# Access the best set of parameters\n",
    "best_params = grid.best_params_\n",
    "print(best_params)\n",
    "# Stores the optimum model in best_pipe\n",
    "best_pipe_rf = grid.best_estimator_\n",
    "print(best_pipe_rf)\n",
    " \n",
    "result_df = DataFrame.from_dict(grid.cv_results_, orient='columns')\n",
    "print(result_df.columns)\n"
   ]
  },
  {
   "cell_type": "code",
   "execution_count": 117,
   "metadata": {},
   "outputs": [
    {
     "name": "stdout",
     "output_type": "stream",
     "text": [
      "The random forest model takes 5.524221420288086 to train and 0.5246322154998779 to validate with these parameters Pipeline(steps=[('classifier',\n",
      "                 RandomForestClassifier(min_samples_leaf=4, n_estimators=200))]).\n"
     ]
    }
   ],
   "source": [
    "# Time the model training\n",
    "start_time=time.time()\n",
    "best_pipe_rf.fit(X_train, y_train2)\n",
    "end_time=time.time()\n",
    "time_taken_rf = end_time-start_time\n",
    "\n",
    "# Time model validation\n",
    "start_time=time.time()\n",
    "best_pipe_rf.predict(X_val)\n",
    "end_time=time.time()\n",
    "time_taken_rf2 = end_time-start_time\n",
    "\n",
    "print(f\"The random forest model takes {time_taken_rf} to train and {time_taken_rf2} to validate with these parameters {best_pipe_rf}.\")"
   ]
  },
  {
   "cell_type": "code",
   "execution_count": 118,
   "metadata": {},
   "outputs": [
    {
     "data": {
      "text/plain": [
       "array([0.84694712, 0.44060116, 0.05109488, ..., 0.32336308, 0.04514153,\n",
       "       0.33992993])"
      ]
     },
     "execution_count": 118,
     "metadata": {},
     "output_type": "execute_result"
    }
   ],
   "source": [
    "# retrain on full dataset\n",
    "final_rf = best_pipe_rf.fit(X_train_original_subset, y_train)\n",
    "final_rf.predict_proba(X_test_original)[:, 1]"
   ]
  },
  {
   "cell_type": "code",
   "execution_count": 119,
   "metadata": {},
   "outputs": [],
   "source": [
    "# Create sumbission random forest\n",
    "create_submission(final_rf.predict_proba(X_test_original)[:, 1], \"rf.csv\")"
   ]
  },
  {
   "cell_type": "markdown",
   "metadata": {},
   "source": [
    "4. Neural networks"
   ]
  },
  {
   "cell_type": "code",
   "execution_count": 120,
   "metadata": {},
   "outputs": [
    {
     "name": "stdout",
     "output_type": "stream",
     "text": [
      "Training set score: 0.755447656689657\n",
      "Validation set score: 0.7555357797204627\n",
      "Training set score: 0.7531311756468478\n",
      "Validation set score: 0.7512956080196828\n",
      "Training set score: 0.7511287937284875\n",
      "Validation set score: 0.7525519551902843\n",
      "{'classifier__hidden_layer_sizes': 100, 'classifier__learning_rate_init': 0.001, 'classifier__max_iter': 200, 'classifier__tol': 0.0001}\n",
      "Pipeline(steps=[('classifier', MLPClassifier(hidden_layer_sizes=100))])\n",
      "Index(['mean_fit_time', 'std_fit_time', 'mean_score_time', 'std_score_time',\n",
      "       'param_classifier__hidden_layer_sizes',\n",
      "       'param_classifier__learning_rate_init', 'param_classifier__max_iter',\n",
      "       'param_classifier__tol', 'params', 'split0_test_score',\n",
      "       'split1_test_score', 'mean_test_score', 'std_test_score',\n",
      "       'rank_test_score'],\n",
      "      dtype='object')\n"
     ]
    },
    {
     "ename": "ValueError",
     "evalue": "Could not interpret value `param_classifier__n_neighbors` for parameter `x`",
     "output_type": "error",
     "traceback": [
      "\u001b[1;31m---------------------------------------------------------------------------\u001b[0m",
      "\u001b[1;31mValueError\u001b[0m                                Traceback (most recent call last)",
      "\u001b[1;32m~\\AppData\\Local\\Temp/ipykernel_20368/4272783229.py\u001b[0m in \u001b[0;36m<module>\u001b[1;34m\u001b[0m\n\u001b[0;32m     35\u001b[0m \u001b[0mprint\u001b[0m\u001b[1;33m(\u001b[0m\u001b[0mresult_df\u001b[0m\u001b[1;33m.\u001b[0m\u001b[0mcolumns\u001b[0m\u001b[1;33m)\u001b[0m\u001b[1;33m\u001b[0m\u001b[1;33m\u001b[0m\u001b[0m\n\u001b[0;32m     36\u001b[0m \u001b[1;33m\u001b[0m\u001b[0m\n\u001b[1;32m---> 37\u001b[1;33m sns.relplot(data=result_df,\n\u001b[0m\u001b[0;32m     38\u001b[0m         \u001b[0mkind\u001b[0m\u001b[1;33m=\u001b[0m\u001b[1;34m'line'\u001b[0m\u001b[1;33m,\u001b[0m\u001b[1;33m\u001b[0m\u001b[1;33m\u001b[0m\u001b[0m\n\u001b[0;32m     39\u001b[0m         \u001b[0mx\u001b[0m\u001b[1;33m=\u001b[0m\u001b[1;34m'param_classifier__n_neighbors'\u001b[0m\u001b[1;33m,\u001b[0m\u001b[1;33m\u001b[0m\u001b[1;33m\u001b[0m\u001b[0m\n",
      "\u001b[1;32m~\\miniconda3\\lib\\site-packages\\seaborn\\_decorators.py\u001b[0m in \u001b[0;36minner_f\u001b[1;34m(*args, **kwargs)\u001b[0m\n\u001b[0;32m     44\u001b[0m             )\n\u001b[0;32m     45\u001b[0m         \u001b[0mkwargs\u001b[0m\u001b[1;33m.\u001b[0m\u001b[0mupdate\u001b[0m\u001b[1;33m(\u001b[0m\u001b[1;33m{\u001b[0m\u001b[0mk\u001b[0m\u001b[1;33m:\u001b[0m \u001b[0marg\u001b[0m \u001b[1;32mfor\u001b[0m \u001b[0mk\u001b[0m\u001b[1;33m,\u001b[0m \u001b[0marg\u001b[0m \u001b[1;32min\u001b[0m \u001b[0mzip\u001b[0m\u001b[1;33m(\u001b[0m\u001b[0msig\u001b[0m\u001b[1;33m.\u001b[0m\u001b[0mparameters\u001b[0m\u001b[1;33m,\u001b[0m \u001b[0margs\u001b[0m\u001b[1;33m)\u001b[0m\u001b[1;33m}\u001b[0m\u001b[1;33m)\u001b[0m\u001b[1;33m\u001b[0m\u001b[1;33m\u001b[0m\u001b[0m\n\u001b[1;32m---> 46\u001b[1;33m         \u001b[1;32mreturn\u001b[0m \u001b[0mf\u001b[0m\u001b[1;33m(\u001b[0m\u001b[1;33m**\u001b[0m\u001b[0mkwargs\u001b[0m\u001b[1;33m)\u001b[0m\u001b[1;33m\u001b[0m\u001b[1;33m\u001b[0m\u001b[0m\n\u001b[0m\u001b[0;32m     47\u001b[0m     \u001b[1;32mreturn\u001b[0m \u001b[0minner_f\u001b[0m\u001b[1;33m\u001b[0m\u001b[1;33m\u001b[0m\u001b[0m\n\u001b[0;32m     48\u001b[0m \u001b[1;33m\u001b[0m\u001b[0m\n",
      "\u001b[1;32m~\\miniconda3\\lib\\site-packages\\seaborn\\relational.py\u001b[0m in \u001b[0;36mrelplot\u001b[1;34m(x, y, hue, size, style, data, row, col, col_wrap, row_order, col_order, palette, hue_order, hue_norm, sizes, size_order, size_norm, markers, dashes, style_order, legend, kind, height, aspect, facet_kws, units, **kwargs)\u001b[0m\n\u001b[0;32m    945\u001b[0m \u001b[1;33m\u001b[0m\u001b[0m\n\u001b[0;32m    946\u001b[0m     \u001b[1;31m# Use the full dataset to map the semantics\u001b[0m\u001b[1;33m\u001b[0m\u001b[1;33m\u001b[0m\u001b[0m\n\u001b[1;32m--> 947\u001b[1;33m     p = plotter(\n\u001b[0m\u001b[0;32m    948\u001b[0m         \u001b[0mdata\u001b[0m\u001b[1;33m=\u001b[0m\u001b[0mdata\u001b[0m\u001b[1;33m,\u001b[0m\u001b[1;33m\u001b[0m\u001b[1;33m\u001b[0m\u001b[0m\n\u001b[0;32m    949\u001b[0m         \u001b[0mvariables\u001b[0m\u001b[1;33m=\u001b[0m\u001b[0mplotter\u001b[0m\u001b[1;33m.\u001b[0m\u001b[0mget_semantics\u001b[0m\u001b[1;33m(\u001b[0m\u001b[0mlocals\u001b[0m\u001b[1;33m(\u001b[0m\u001b[1;33m)\u001b[0m\u001b[1;33m)\u001b[0m\u001b[1;33m,\u001b[0m\u001b[1;33m\u001b[0m\u001b[1;33m\u001b[0m\u001b[0m\n",
      "\u001b[1;32m~\\miniconda3\\lib\\site-packages\\seaborn\\relational.py\u001b[0m in \u001b[0;36m__init__\u001b[1;34m(self, data, variables, estimator, ci, n_boot, seed, sort, err_style, err_kws, legend)\u001b[0m\n\u001b[0;32m    365\u001b[0m         )\n\u001b[0;32m    366\u001b[0m \u001b[1;33m\u001b[0m\u001b[0m\n\u001b[1;32m--> 367\u001b[1;33m         \u001b[0msuper\u001b[0m\u001b[1;33m(\u001b[0m\u001b[1;33m)\u001b[0m\u001b[1;33m.\u001b[0m\u001b[0m__init__\u001b[0m\u001b[1;33m(\u001b[0m\u001b[0mdata\u001b[0m\u001b[1;33m=\u001b[0m\u001b[0mdata\u001b[0m\u001b[1;33m,\u001b[0m \u001b[0mvariables\u001b[0m\u001b[1;33m=\u001b[0m\u001b[0mvariables\u001b[0m\u001b[1;33m)\u001b[0m\u001b[1;33m\u001b[0m\u001b[1;33m\u001b[0m\u001b[0m\n\u001b[0m\u001b[0;32m    368\u001b[0m \u001b[1;33m\u001b[0m\u001b[0m\n\u001b[0;32m    369\u001b[0m         \u001b[0mself\u001b[0m\u001b[1;33m.\u001b[0m\u001b[0mestimator\u001b[0m \u001b[1;33m=\u001b[0m \u001b[0mestimator\u001b[0m\u001b[1;33m\u001b[0m\u001b[1;33m\u001b[0m\u001b[0m\n",
      "\u001b[1;32m~\\miniconda3\\lib\\site-packages\\seaborn\\_core.py\u001b[0m in \u001b[0;36m__init__\u001b[1;34m(self, data, variables)\u001b[0m\n\u001b[0;32m    603\u001b[0m     \u001b[1;32mdef\u001b[0m \u001b[0m__init__\u001b[0m\u001b[1;33m(\u001b[0m\u001b[0mself\u001b[0m\u001b[1;33m,\u001b[0m \u001b[0mdata\u001b[0m\u001b[1;33m=\u001b[0m\u001b[1;32mNone\u001b[0m\u001b[1;33m,\u001b[0m \u001b[0mvariables\u001b[0m\u001b[1;33m=\u001b[0m\u001b[1;33m{\u001b[0m\u001b[1;33m}\u001b[0m\u001b[1;33m)\u001b[0m\u001b[1;33m:\u001b[0m\u001b[1;33m\u001b[0m\u001b[1;33m\u001b[0m\u001b[0m\n\u001b[0;32m    604\u001b[0m \u001b[1;33m\u001b[0m\u001b[0m\n\u001b[1;32m--> 605\u001b[1;33m         \u001b[0mself\u001b[0m\u001b[1;33m.\u001b[0m\u001b[0massign_variables\u001b[0m\u001b[1;33m(\u001b[0m\u001b[0mdata\u001b[0m\u001b[1;33m,\u001b[0m \u001b[0mvariables\u001b[0m\u001b[1;33m)\u001b[0m\u001b[1;33m\u001b[0m\u001b[1;33m\u001b[0m\u001b[0m\n\u001b[0m\u001b[0;32m    606\u001b[0m \u001b[1;33m\u001b[0m\u001b[0m\n\u001b[0;32m    607\u001b[0m         \u001b[1;32mfor\u001b[0m \u001b[0mvar\u001b[0m\u001b[1;33m,\u001b[0m \u001b[0mcls\u001b[0m \u001b[1;32min\u001b[0m \u001b[0mself\u001b[0m\u001b[1;33m.\u001b[0m\u001b[0m_semantic_mappings\u001b[0m\u001b[1;33m.\u001b[0m\u001b[0mitems\u001b[0m\u001b[1;33m(\u001b[0m\u001b[1;33m)\u001b[0m\u001b[1;33m:\u001b[0m\u001b[1;33m\u001b[0m\u001b[1;33m\u001b[0m\u001b[0m\n",
      "\u001b[1;32m~\\miniconda3\\lib\\site-packages\\seaborn\\_core.py\u001b[0m in \u001b[0;36massign_variables\u001b[1;34m(self, data, variables)\u001b[0m\n\u001b[0;32m    666\u001b[0m         \u001b[1;32melse\u001b[0m\u001b[1;33m:\u001b[0m\u001b[1;33m\u001b[0m\u001b[1;33m\u001b[0m\u001b[0m\n\u001b[0;32m    667\u001b[0m             \u001b[0mself\u001b[0m\u001b[1;33m.\u001b[0m\u001b[0minput_format\u001b[0m \u001b[1;33m=\u001b[0m \u001b[1;34m\"long\"\u001b[0m\u001b[1;33m\u001b[0m\u001b[1;33m\u001b[0m\u001b[0m\n\u001b[1;32m--> 668\u001b[1;33m             plot_data, variables = self._assign_variables_longform(\n\u001b[0m\u001b[0;32m    669\u001b[0m                 \u001b[0mdata\u001b[0m\u001b[1;33m,\u001b[0m \u001b[1;33m**\u001b[0m\u001b[0mvariables\u001b[0m\u001b[1;33m,\u001b[0m\u001b[1;33m\u001b[0m\u001b[1;33m\u001b[0m\u001b[0m\n\u001b[0;32m    670\u001b[0m             )\n",
      "\u001b[1;32m~\\miniconda3\\lib\\site-packages\\seaborn\\_core.py\u001b[0m in \u001b[0;36m_assign_variables_longform\u001b[1;34m(self, data, **kwargs)\u001b[0m\n\u001b[0;32m    901\u001b[0m \u001b[1;33m\u001b[0m\u001b[0m\n\u001b[0;32m    902\u001b[0m                 \u001b[0merr\u001b[0m \u001b[1;33m=\u001b[0m \u001b[1;34mf\"Could not interpret value `{val}` for parameter `{key}`\"\u001b[0m\u001b[1;33m\u001b[0m\u001b[1;33m\u001b[0m\u001b[0m\n\u001b[1;32m--> 903\u001b[1;33m                 \u001b[1;32mraise\u001b[0m \u001b[0mValueError\u001b[0m\u001b[1;33m(\u001b[0m\u001b[0merr\u001b[0m\u001b[1;33m)\u001b[0m\u001b[1;33m\u001b[0m\u001b[1;33m\u001b[0m\u001b[0m\n\u001b[0m\u001b[0;32m    904\u001b[0m \u001b[1;33m\u001b[0m\u001b[0m\n\u001b[0;32m    905\u001b[0m             \u001b[1;32melse\u001b[0m\u001b[1;33m:\u001b[0m\u001b[1;33m\u001b[0m\u001b[1;33m\u001b[0m\u001b[0m\n",
      "\u001b[1;31mValueError\u001b[0m: Could not interpret value `param_classifier__n_neighbors` for parameter `x`"
     ]
    }
   ],
   "source": [
    "from sklearn.neural_network import MLPClassifier\n",
    "# set up tuning pipleine for neural network\n",
    "nn = MLPClassifier().fit(X_train, y_train2)\n",
    "print('Training set score: ' + str(nn.score(X_train,y_train2)))\n",
    "print('Validation set score: ' + str(nn.score(X_val,y_val)))\n",
    " \n",
    "pipe = Pipeline(steps=[\n",
    "    ('classifier', MLPClassifier())])\n",
    " \n",
    "pipe.fit(X_train, y_train2)\n",
    " \n",
    "print('Training set score: ' + str(pipe.score(X_train,y_train2)))\n",
    "print('Validation set score: ' + str(pipe.score(X_val,y_val)))\n",
    " \n",
    "parameters = {\n",
    "\t'classifier__hidden_layer_sizes' : [1, 50, 100],\n",
    "\t'classifier__learning_rate_init': [0.001, 0.01, 0.1],\n",
    "\t'classifier__max_iter': [100, 200],\n",
    "\t'classifier__tol': [1e-4, 1e-3, 1e-2]\n",
    "}\n",
    " \n",
    "grid = GridSearchCV(pipe, parameters, cv=2).fit(X_train, y_train2)\n",
    " \n",
    "print('Training set score: ' + str(grid.score(X_train, y_train2)))\n",
    "print('Validation set score: ' + str(grid.score(X_val, y_val)))\n",
    " \n",
    "# Access the best set of parameters\n",
    "best_params = grid.best_params_\n",
    "print(best_params)\n",
    "# Stores the optimum model in best_pipe\n",
    "best_pipe_nn = grid.best_estimator_\n",
    "print(best_pipe_nn)\n",
    " \n",
    "result_df = DataFrame.from_dict(grid.cv_results_, orient='columns')\n",
    "print(result_df.columns)\n"
   ]
  },
  {
   "cell_type": "code",
   "execution_count": 121,
   "metadata": {},
   "outputs": [
    {
     "name": "stdout",
     "output_type": "stream",
     "text": [
      "The neural network takes 54.46628785133362 to train and 0.027926921844482422 to validate with these parameters Pipeline(steps=[('classifier', MLPClassifier(hidden_layer_sizes=100))]).\n"
     ]
    }
   ],
   "source": [
    "# Time the model training\n",
    "start_time=time.time()\n",
    "best_pipe_nn.fit(X_train, y_train2)\n",
    "end_time=time.time()\n",
    "time_taken_nn = end_time-start_time\n",
    "\n",
    "# Time model validation\n",
    "start_time=time.time()\n",
    "best_pipe_nn.predict(X_val)\n",
    "end_time=time.time()\n",
    "time_taken_nn2 = end_time-start_time\n",
    "\n",
    "print(f\"The neural network takes {time_taken_nn} to train and {time_taken_nn2} to validate with these parameters {best_pipe_nn}.\")"
   ]
  },
  {
   "cell_type": "code",
   "execution_count": 122,
   "metadata": {},
   "outputs": [
    {
     "data": {
      "text/plain": [
       "array([0.99637743, 0.25000901, 0.1999333 , ..., 0.2702155 , 0.12957874,\n",
       "       0.23017665])"
      ]
     },
     "execution_count": 122,
     "metadata": {},
     "output_type": "execute_result"
    }
   ],
   "source": [
    "# retrain on full dataset\n",
    "final_nn = best_pipe_nn.fit(X_train_original_subset, y_train)\n",
    "final_nn.predict_proba(X_test_original)[:, 1]"
   ]
  },
  {
   "cell_type": "code",
   "execution_count": 123,
   "metadata": {},
   "outputs": [],
   "source": [
    "# create submission neural network\n",
    "create_submission(final_nn.predict_proba(X_test_original)[:, 1], \"nn.csv\")"
   ]
  },
  {
   "cell_type": "markdown",
   "metadata": {},
   "source": [
    "5. Support Vector Machines"
   ]
  },
  {
   "cell_type": "code",
   "execution_count": 124,
   "metadata": {},
   "outputs": [
    {
     "name": "stdout",
     "output_type": "stream",
     "text": [
      "Training set score: 0.7448991610935884\n",
      "Validation set score: 0.7482594356907292\n",
      "Training set score: 0.7616118520069626\n",
      "Validation set score: 0.7615557765795948\n"
     ]
    },
    {
     "ename": "KeyboardInterrupt",
     "evalue": "",
     "output_type": "error",
     "traceback": [
      "\u001b[1;31m---------------------------------------------------------------------------\u001b[0m",
      "\u001b[1;31mKeyboardInterrupt\u001b[0m                         Traceback (most recent call last)",
      "\u001b[1;32m~\\AppData\\Local\\Temp/ipykernel_20368/893999551.py\u001b[0m in \u001b[0;36m<module>\u001b[1;34m\u001b[0m\n\u001b[0;32m     20\u001b[0m }\n\u001b[0;32m     21\u001b[0m \u001b[1;33m\u001b[0m\u001b[0m\n\u001b[1;32m---> 22\u001b[1;33m \u001b[0mgrid\u001b[0m \u001b[1;33m=\u001b[0m \u001b[0mGridSearchCV\u001b[0m\u001b[1;33m(\u001b[0m\u001b[0mpipe\u001b[0m\u001b[1;33m,\u001b[0m \u001b[0mparameters\u001b[0m\u001b[1;33m,\u001b[0m \u001b[0mcv\u001b[0m\u001b[1;33m=\u001b[0m\u001b[1;36m2\u001b[0m\u001b[1;33m)\u001b[0m\u001b[1;33m.\u001b[0m\u001b[0mfit\u001b[0m\u001b[1;33m(\u001b[0m\u001b[0mX_train\u001b[0m\u001b[1;33m,\u001b[0m \u001b[0my_train2\u001b[0m\u001b[1;33m)\u001b[0m\u001b[1;33m\u001b[0m\u001b[1;33m\u001b[0m\u001b[0m\n\u001b[0m\u001b[0;32m     23\u001b[0m \u001b[1;33m\u001b[0m\u001b[0m\n\u001b[0;32m     24\u001b[0m \u001b[0mprint\u001b[0m\u001b[1;33m(\u001b[0m\u001b[1;34m\"Training set score: \"\u001b[0m \u001b[1;33m+\u001b[0m \u001b[0mstr\u001b[0m\u001b[1;33m(\u001b[0m\u001b[0mgrid\u001b[0m\u001b[1;33m.\u001b[0m\u001b[0mscore\u001b[0m\u001b[1;33m(\u001b[0m\u001b[0mX_train\u001b[0m\u001b[1;33m,\u001b[0m \u001b[0my_train2\u001b[0m\u001b[1;33m)\u001b[0m\u001b[1;33m)\u001b[0m\u001b[1;33m)\u001b[0m\u001b[1;33m\u001b[0m\u001b[1;33m\u001b[0m\u001b[0m\n",
      "\u001b[1;32m~\\miniconda3\\lib\\site-packages\\sklearn\\model_selection\\_search.py\u001b[0m in \u001b[0;36mfit\u001b[1;34m(self, X, y, groups, **fit_params)\u001b[0m\n\u001b[0;32m    889\u001b[0m                 \u001b[1;32mreturn\u001b[0m \u001b[0mresults\u001b[0m\u001b[1;33m\u001b[0m\u001b[1;33m\u001b[0m\u001b[0m\n\u001b[0;32m    890\u001b[0m \u001b[1;33m\u001b[0m\u001b[0m\n\u001b[1;32m--> 891\u001b[1;33m             \u001b[0mself\u001b[0m\u001b[1;33m.\u001b[0m\u001b[0m_run_search\u001b[0m\u001b[1;33m(\u001b[0m\u001b[0mevaluate_candidates\u001b[0m\u001b[1;33m)\u001b[0m\u001b[1;33m\u001b[0m\u001b[1;33m\u001b[0m\u001b[0m\n\u001b[0m\u001b[0;32m    892\u001b[0m \u001b[1;33m\u001b[0m\u001b[0m\n\u001b[0;32m    893\u001b[0m             \u001b[1;31m# multimetric is determined here because in the case of a callable\u001b[0m\u001b[1;33m\u001b[0m\u001b[1;33m\u001b[0m\u001b[0m\n",
      "\u001b[1;32m~\\miniconda3\\lib\\site-packages\\sklearn\\model_selection\\_search.py\u001b[0m in \u001b[0;36m_run_search\u001b[1;34m(self, evaluate_candidates)\u001b[0m\n\u001b[0;32m   1390\u001b[0m     \u001b[1;32mdef\u001b[0m \u001b[0m_run_search\u001b[0m\u001b[1;33m(\u001b[0m\u001b[0mself\u001b[0m\u001b[1;33m,\u001b[0m \u001b[0mevaluate_candidates\u001b[0m\u001b[1;33m)\u001b[0m\u001b[1;33m:\u001b[0m\u001b[1;33m\u001b[0m\u001b[1;33m\u001b[0m\u001b[0m\n\u001b[0;32m   1391\u001b[0m         \u001b[1;34m\"\"\"Search all candidates in param_grid\"\"\"\u001b[0m\u001b[1;33m\u001b[0m\u001b[1;33m\u001b[0m\u001b[0m\n\u001b[1;32m-> 1392\u001b[1;33m         \u001b[0mevaluate_candidates\u001b[0m\u001b[1;33m(\u001b[0m\u001b[0mParameterGrid\u001b[0m\u001b[1;33m(\u001b[0m\u001b[0mself\u001b[0m\u001b[1;33m.\u001b[0m\u001b[0mparam_grid\u001b[0m\u001b[1;33m)\u001b[0m\u001b[1;33m)\u001b[0m\u001b[1;33m\u001b[0m\u001b[1;33m\u001b[0m\u001b[0m\n\u001b[0m\u001b[0;32m   1393\u001b[0m \u001b[1;33m\u001b[0m\u001b[0m\n\u001b[0;32m   1394\u001b[0m \u001b[1;33m\u001b[0m\u001b[0m\n",
      "\u001b[1;32m~\\miniconda3\\lib\\site-packages\\sklearn\\model_selection\\_search.py\u001b[0m in \u001b[0;36mevaluate_candidates\u001b[1;34m(candidate_params, cv, more_results)\u001b[0m\n\u001b[0;32m    836\u001b[0m                     )\n\u001b[0;32m    837\u001b[0m \u001b[1;33m\u001b[0m\u001b[0m\n\u001b[1;32m--> 838\u001b[1;33m                 out = parallel(\n\u001b[0m\u001b[0;32m    839\u001b[0m                     delayed(_fit_and_score)(\n\u001b[0;32m    840\u001b[0m                         \u001b[0mclone\u001b[0m\u001b[1;33m(\u001b[0m\u001b[0mbase_estimator\u001b[0m\u001b[1;33m)\u001b[0m\u001b[1;33m,\u001b[0m\u001b[1;33m\u001b[0m\u001b[1;33m\u001b[0m\u001b[0m\n",
      "\u001b[1;32m~\\miniconda3\\lib\\site-packages\\joblib\\parallel.py\u001b[0m in \u001b[0;36m__call__\u001b[1;34m(self, iterable)\u001b[0m\n\u001b[0;32m   1044\u001b[0m                 \u001b[0mself\u001b[0m\u001b[1;33m.\u001b[0m\u001b[0m_iterating\u001b[0m \u001b[1;33m=\u001b[0m \u001b[0mself\u001b[0m\u001b[1;33m.\u001b[0m\u001b[0m_original_iterator\u001b[0m \u001b[1;32mis\u001b[0m \u001b[1;32mnot\u001b[0m \u001b[1;32mNone\u001b[0m\u001b[1;33m\u001b[0m\u001b[1;33m\u001b[0m\u001b[0m\n\u001b[0;32m   1045\u001b[0m \u001b[1;33m\u001b[0m\u001b[0m\n\u001b[1;32m-> 1046\u001b[1;33m             \u001b[1;32mwhile\u001b[0m \u001b[0mself\u001b[0m\u001b[1;33m.\u001b[0m\u001b[0mdispatch_one_batch\u001b[0m\u001b[1;33m(\u001b[0m\u001b[0miterator\u001b[0m\u001b[1;33m)\u001b[0m\u001b[1;33m:\u001b[0m\u001b[1;33m\u001b[0m\u001b[1;33m\u001b[0m\u001b[0m\n\u001b[0m\u001b[0;32m   1047\u001b[0m                 \u001b[1;32mpass\u001b[0m\u001b[1;33m\u001b[0m\u001b[1;33m\u001b[0m\u001b[0m\n\u001b[0;32m   1048\u001b[0m \u001b[1;33m\u001b[0m\u001b[0m\n",
      "\u001b[1;32m~\\miniconda3\\lib\\site-packages\\joblib\\parallel.py\u001b[0m in \u001b[0;36mdispatch_one_batch\u001b[1;34m(self, iterator)\u001b[0m\n\u001b[0;32m    859\u001b[0m                 \u001b[1;32mreturn\u001b[0m \u001b[1;32mFalse\u001b[0m\u001b[1;33m\u001b[0m\u001b[1;33m\u001b[0m\u001b[0m\n\u001b[0;32m    860\u001b[0m             \u001b[1;32melse\u001b[0m\u001b[1;33m:\u001b[0m\u001b[1;33m\u001b[0m\u001b[1;33m\u001b[0m\u001b[0m\n\u001b[1;32m--> 861\u001b[1;33m                 \u001b[0mself\u001b[0m\u001b[1;33m.\u001b[0m\u001b[0m_dispatch\u001b[0m\u001b[1;33m(\u001b[0m\u001b[0mtasks\u001b[0m\u001b[1;33m)\u001b[0m\u001b[1;33m\u001b[0m\u001b[1;33m\u001b[0m\u001b[0m\n\u001b[0m\u001b[0;32m    862\u001b[0m                 \u001b[1;32mreturn\u001b[0m \u001b[1;32mTrue\u001b[0m\u001b[1;33m\u001b[0m\u001b[1;33m\u001b[0m\u001b[0m\n\u001b[0;32m    863\u001b[0m \u001b[1;33m\u001b[0m\u001b[0m\n",
      "\u001b[1;32m~\\miniconda3\\lib\\site-packages\\joblib\\parallel.py\u001b[0m in \u001b[0;36m_dispatch\u001b[1;34m(self, batch)\u001b[0m\n\u001b[0;32m    777\u001b[0m         \u001b[1;32mwith\u001b[0m \u001b[0mself\u001b[0m\u001b[1;33m.\u001b[0m\u001b[0m_lock\u001b[0m\u001b[1;33m:\u001b[0m\u001b[1;33m\u001b[0m\u001b[1;33m\u001b[0m\u001b[0m\n\u001b[0;32m    778\u001b[0m             \u001b[0mjob_idx\u001b[0m \u001b[1;33m=\u001b[0m \u001b[0mlen\u001b[0m\u001b[1;33m(\u001b[0m\u001b[0mself\u001b[0m\u001b[1;33m.\u001b[0m\u001b[0m_jobs\u001b[0m\u001b[1;33m)\u001b[0m\u001b[1;33m\u001b[0m\u001b[1;33m\u001b[0m\u001b[0m\n\u001b[1;32m--> 779\u001b[1;33m             \u001b[0mjob\u001b[0m \u001b[1;33m=\u001b[0m \u001b[0mself\u001b[0m\u001b[1;33m.\u001b[0m\u001b[0m_backend\u001b[0m\u001b[1;33m.\u001b[0m\u001b[0mapply_async\u001b[0m\u001b[1;33m(\u001b[0m\u001b[0mbatch\u001b[0m\u001b[1;33m,\u001b[0m \u001b[0mcallback\u001b[0m\u001b[1;33m=\u001b[0m\u001b[0mcb\u001b[0m\u001b[1;33m)\u001b[0m\u001b[1;33m\u001b[0m\u001b[1;33m\u001b[0m\u001b[0m\n\u001b[0m\u001b[0;32m    780\u001b[0m             \u001b[1;31m# A job can complete so quickly than its callback is\u001b[0m\u001b[1;33m\u001b[0m\u001b[1;33m\u001b[0m\u001b[0m\n\u001b[0;32m    781\u001b[0m             \u001b[1;31m# called before we get here, causing self._jobs to\u001b[0m\u001b[1;33m\u001b[0m\u001b[1;33m\u001b[0m\u001b[0m\n",
      "\u001b[1;32m~\\miniconda3\\lib\\site-packages\\joblib\\_parallel_backends.py\u001b[0m in \u001b[0;36mapply_async\u001b[1;34m(self, func, callback)\u001b[0m\n\u001b[0;32m    206\u001b[0m     \u001b[1;32mdef\u001b[0m \u001b[0mapply_async\u001b[0m\u001b[1;33m(\u001b[0m\u001b[0mself\u001b[0m\u001b[1;33m,\u001b[0m \u001b[0mfunc\u001b[0m\u001b[1;33m,\u001b[0m \u001b[0mcallback\u001b[0m\u001b[1;33m=\u001b[0m\u001b[1;32mNone\u001b[0m\u001b[1;33m)\u001b[0m\u001b[1;33m:\u001b[0m\u001b[1;33m\u001b[0m\u001b[1;33m\u001b[0m\u001b[0m\n\u001b[0;32m    207\u001b[0m         \u001b[1;34m\"\"\"Schedule a func to be run\"\"\"\u001b[0m\u001b[1;33m\u001b[0m\u001b[1;33m\u001b[0m\u001b[0m\n\u001b[1;32m--> 208\u001b[1;33m         \u001b[0mresult\u001b[0m \u001b[1;33m=\u001b[0m \u001b[0mImmediateResult\u001b[0m\u001b[1;33m(\u001b[0m\u001b[0mfunc\u001b[0m\u001b[1;33m)\u001b[0m\u001b[1;33m\u001b[0m\u001b[1;33m\u001b[0m\u001b[0m\n\u001b[0m\u001b[0;32m    209\u001b[0m         \u001b[1;32mif\u001b[0m \u001b[0mcallback\u001b[0m\u001b[1;33m:\u001b[0m\u001b[1;33m\u001b[0m\u001b[1;33m\u001b[0m\u001b[0m\n\u001b[0;32m    210\u001b[0m             \u001b[0mcallback\u001b[0m\u001b[1;33m(\u001b[0m\u001b[0mresult\u001b[0m\u001b[1;33m)\u001b[0m\u001b[1;33m\u001b[0m\u001b[1;33m\u001b[0m\u001b[0m\n",
      "\u001b[1;32m~\\miniconda3\\lib\\site-packages\\joblib\\_parallel_backends.py\u001b[0m in \u001b[0;36m__init__\u001b[1;34m(self, batch)\u001b[0m\n\u001b[0;32m    570\u001b[0m         \u001b[1;31m# Don't delay the application, to avoid keeping the input\u001b[0m\u001b[1;33m\u001b[0m\u001b[1;33m\u001b[0m\u001b[0m\n\u001b[0;32m    571\u001b[0m         \u001b[1;31m# arguments in memory\u001b[0m\u001b[1;33m\u001b[0m\u001b[1;33m\u001b[0m\u001b[0m\n\u001b[1;32m--> 572\u001b[1;33m         \u001b[0mself\u001b[0m\u001b[1;33m.\u001b[0m\u001b[0mresults\u001b[0m \u001b[1;33m=\u001b[0m \u001b[0mbatch\u001b[0m\u001b[1;33m(\u001b[0m\u001b[1;33m)\u001b[0m\u001b[1;33m\u001b[0m\u001b[1;33m\u001b[0m\u001b[0m\n\u001b[0m\u001b[0;32m    573\u001b[0m \u001b[1;33m\u001b[0m\u001b[0m\n\u001b[0;32m    574\u001b[0m     \u001b[1;32mdef\u001b[0m \u001b[0mget\u001b[0m\u001b[1;33m(\u001b[0m\u001b[0mself\u001b[0m\u001b[1;33m)\u001b[0m\u001b[1;33m:\u001b[0m\u001b[1;33m\u001b[0m\u001b[1;33m\u001b[0m\u001b[0m\n",
      "\u001b[1;32m~\\miniconda3\\lib\\site-packages\\joblib\\parallel.py\u001b[0m in \u001b[0;36m__call__\u001b[1;34m(self)\u001b[0m\n\u001b[0;32m    260\u001b[0m         \u001b[1;31m# change the default number of processes to -1\u001b[0m\u001b[1;33m\u001b[0m\u001b[1;33m\u001b[0m\u001b[0m\n\u001b[0;32m    261\u001b[0m         \u001b[1;32mwith\u001b[0m \u001b[0mparallel_backend\u001b[0m\u001b[1;33m(\u001b[0m\u001b[0mself\u001b[0m\u001b[1;33m.\u001b[0m\u001b[0m_backend\u001b[0m\u001b[1;33m,\u001b[0m \u001b[0mn_jobs\u001b[0m\u001b[1;33m=\u001b[0m\u001b[0mself\u001b[0m\u001b[1;33m.\u001b[0m\u001b[0m_n_jobs\u001b[0m\u001b[1;33m)\u001b[0m\u001b[1;33m:\u001b[0m\u001b[1;33m\u001b[0m\u001b[1;33m\u001b[0m\u001b[0m\n\u001b[1;32m--> 262\u001b[1;33m             return [func(*args, **kwargs)\n\u001b[0m\u001b[0;32m    263\u001b[0m                     for func, args, kwargs in self.items]\n\u001b[0;32m    264\u001b[0m \u001b[1;33m\u001b[0m\u001b[0m\n",
      "\u001b[1;32m~\\miniconda3\\lib\\site-packages\\joblib\\parallel.py\u001b[0m in \u001b[0;36m<listcomp>\u001b[1;34m(.0)\u001b[0m\n\u001b[0;32m    260\u001b[0m         \u001b[1;31m# change the default number of processes to -1\u001b[0m\u001b[1;33m\u001b[0m\u001b[1;33m\u001b[0m\u001b[0m\n\u001b[0;32m    261\u001b[0m         \u001b[1;32mwith\u001b[0m \u001b[0mparallel_backend\u001b[0m\u001b[1;33m(\u001b[0m\u001b[0mself\u001b[0m\u001b[1;33m.\u001b[0m\u001b[0m_backend\u001b[0m\u001b[1;33m,\u001b[0m \u001b[0mn_jobs\u001b[0m\u001b[1;33m=\u001b[0m\u001b[0mself\u001b[0m\u001b[1;33m.\u001b[0m\u001b[0m_n_jobs\u001b[0m\u001b[1;33m)\u001b[0m\u001b[1;33m:\u001b[0m\u001b[1;33m\u001b[0m\u001b[1;33m\u001b[0m\u001b[0m\n\u001b[1;32m--> 262\u001b[1;33m             return [func(*args, **kwargs)\n\u001b[0m\u001b[0;32m    263\u001b[0m                     for func, args, kwargs in self.items]\n\u001b[0;32m    264\u001b[0m \u001b[1;33m\u001b[0m\u001b[0m\n",
      "\u001b[1;32m~\\miniconda3\\lib\\site-packages\\sklearn\\utils\\fixes.py\u001b[0m in \u001b[0;36m__call__\u001b[1;34m(self, *args, **kwargs)\u001b[0m\n\u001b[0;32m    209\u001b[0m     \u001b[1;32mdef\u001b[0m \u001b[0m__call__\u001b[0m\u001b[1;33m(\u001b[0m\u001b[0mself\u001b[0m\u001b[1;33m,\u001b[0m \u001b[1;33m*\u001b[0m\u001b[0margs\u001b[0m\u001b[1;33m,\u001b[0m \u001b[1;33m**\u001b[0m\u001b[0mkwargs\u001b[0m\u001b[1;33m)\u001b[0m\u001b[1;33m:\u001b[0m\u001b[1;33m\u001b[0m\u001b[1;33m\u001b[0m\u001b[0m\n\u001b[0;32m    210\u001b[0m         \u001b[1;32mwith\u001b[0m \u001b[0mconfig_context\u001b[0m\u001b[1;33m(\u001b[0m\u001b[1;33m**\u001b[0m\u001b[0mself\u001b[0m\u001b[1;33m.\u001b[0m\u001b[0mconfig\u001b[0m\u001b[1;33m)\u001b[0m\u001b[1;33m:\u001b[0m\u001b[1;33m\u001b[0m\u001b[1;33m\u001b[0m\u001b[0m\n\u001b[1;32m--> 211\u001b[1;33m             \u001b[1;32mreturn\u001b[0m \u001b[0mself\u001b[0m\u001b[1;33m.\u001b[0m\u001b[0mfunction\u001b[0m\u001b[1;33m(\u001b[0m\u001b[1;33m*\u001b[0m\u001b[0margs\u001b[0m\u001b[1;33m,\u001b[0m \u001b[1;33m**\u001b[0m\u001b[0mkwargs\u001b[0m\u001b[1;33m)\u001b[0m\u001b[1;33m\u001b[0m\u001b[1;33m\u001b[0m\u001b[0m\n\u001b[0m\u001b[0;32m    212\u001b[0m \u001b[1;33m\u001b[0m\u001b[0m\n\u001b[0;32m    213\u001b[0m \u001b[1;33m\u001b[0m\u001b[0m\n",
      "\u001b[1;32m~\\miniconda3\\lib\\site-packages\\sklearn\\model_selection\\_validation.py\u001b[0m in \u001b[0;36m_fit_and_score\u001b[1;34m(estimator, X, y, scorer, train, test, verbose, parameters, fit_params, return_train_score, return_parameters, return_n_test_samples, return_times, return_estimator, split_progress, candidate_progress, error_score)\u001b[0m\n\u001b[0;32m    679\u001b[0m             \u001b[0mestimator\u001b[0m\u001b[1;33m.\u001b[0m\u001b[0mfit\u001b[0m\u001b[1;33m(\u001b[0m\u001b[0mX_train\u001b[0m\u001b[1;33m,\u001b[0m \u001b[1;33m**\u001b[0m\u001b[0mfit_params\u001b[0m\u001b[1;33m)\u001b[0m\u001b[1;33m\u001b[0m\u001b[1;33m\u001b[0m\u001b[0m\n\u001b[0;32m    680\u001b[0m         \u001b[1;32melse\u001b[0m\u001b[1;33m:\u001b[0m\u001b[1;33m\u001b[0m\u001b[1;33m\u001b[0m\u001b[0m\n\u001b[1;32m--> 681\u001b[1;33m             \u001b[0mestimator\u001b[0m\u001b[1;33m.\u001b[0m\u001b[0mfit\u001b[0m\u001b[1;33m(\u001b[0m\u001b[0mX_train\u001b[0m\u001b[1;33m,\u001b[0m \u001b[0my_train\u001b[0m\u001b[1;33m,\u001b[0m \u001b[1;33m**\u001b[0m\u001b[0mfit_params\u001b[0m\u001b[1;33m)\u001b[0m\u001b[1;33m\u001b[0m\u001b[1;33m\u001b[0m\u001b[0m\n\u001b[0m\u001b[0;32m    682\u001b[0m \u001b[1;33m\u001b[0m\u001b[0m\n\u001b[0;32m    683\u001b[0m     \u001b[1;32mexcept\u001b[0m \u001b[0mException\u001b[0m\u001b[1;33m:\u001b[0m\u001b[1;33m\u001b[0m\u001b[1;33m\u001b[0m\u001b[0m\n",
      "\u001b[1;32m~\\miniconda3\\lib\\site-packages\\sklearn\\pipeline.py\u001b[0m in \u001b[0;36mfit\u001b[1;34m(self, X, y, **fit_params)\u001b[0m\n\u001b[0;32m    392\u001b[0m             \u001b[1;32mif\u001b[0m \u001b[0mself\u001b[0m\u001b[1;33m.\u001b[0m\u001b[0m_final_estimator\u001b[0m \u001b[1;33m!=\u001b[0m \u001b[1;34m\"passthrough\"\u001b[0m\u001b[1;33m:\u001b[0m\u001b[1;33m\u001b[0m\u001b[1;33m\u001b[0m\u001b[0m\n\u001b[0;32m    393\u001b[0m                 \u001b[0mfit_params_last_step\u001b[0m \u001b[1;33m=\u001b[0m \u001b[0mfit_params_steps\u001b[0m\u001b[1;33m[\u001b[0m\u001b[0mself\u001b[0m\u001b[1;33m.\u001b[0m\u001b[0msteps\u001b[0m\u001b[1;33m[\u001b[0m\u001b[1;33m-\u001b[0m\u001b[1;36m1\u001b[0m\u001b[1;33m]\u001b[0m\u001b[1;33m[\u001b[0m\u001b[1;36m0\u001b[0m\u001b[1;33m]\u001b[0m\u001b[1;33m]\u001b[0m\u001b[1;33m\u001b[0m\u001b[1;33m\u001b[0m\u001b[0m\n\u001b[1;32m--> 394\u001b[1;33m                 \u001b[0mself\u001b[0m\u001b[1;33m.\u001b[0m\u001b[0m_final_estimator\u001b[0m\u001b[1;33m.\u001b[0m\u001b[0mfit\u001b[0m\u001b[1;33m(\u001b[0m\u001b[0mXt\u001b[0m\u001b[1;33m,\u001b[0m \u001b[0my\u001b[0m\u001b[1;33m,\u001b[0m \u001b[1;33m**\u001b[0m\u001b[0mfit_params_last_step\u001b[0m\u001b[1;33m)\u001b[0m\u001b[1;33m\u001b[0m\u001b[1;33m\u001b[0m\u001b[0m\n\u001b[0m\u001b[0;32m    395\u001b[0m \u001b[1;33m\u001b[0m\u001b[0m\n\u001b[0;32m    396\u001b[0m         \u001b[1;32mreturn\u001b[0m \u001b[0mself\u001b[0m\u001b[1;33m\u001b[0m\u001b[1;33m\u001b[0m\u001b[0m\n",
      "\u001b[1;32m~\\miniconda3\\lib\\site-packages\\sklearn\\svm\\_base.py\u001b[0m in \u001b[0;36mfit\u001b[1;34m(self, X, y, sample_weight)\u001b[0m\n\u001b[0;32m    253\u001b[0m \u001b[1;33m\u001b[0m\u001b[0m\n\u001b[0;32m    254\u001b[0m         \u001b[0mseed\u001b[0m \u001b[1;33m=\u001b[0m \u001b[0mrnd\u001b[0m\u001b[1;33m.\u001b[0m\u001b[0mrandint\u001b[0m\u001b[1;33m(\u001b[0m\u001b[0mnp\u001b[0m\u001b[1;33m.\u001b[0m\u001b[0miinfo\u001b[0m\u001b[1;33m(\u001b[0m\u001b[1;34m\"i\"\u001b[0m\u001b[1;33m)\u001b[0m\u001b[1;33m.\u001b[0m\u001b[0mmax\u001b[0m\u001b[1;33m)\u001b[0m\u001b[1;33m\u001b[0m\u001b[1;33m\u001b[0m\u001b[0m\n\u001b[1;32m--> 255\u001b[1;33m         \u001b[0mfit\u001b[0m\u001b[1;33m(\u001b[0m\u001b[0mX\u001b[0m\u001b[1;33m,\u001b[0m \u001b[0my\u001b[0m\u001b[1;33m,\u001b[0m \u001b[0msample_weight\u001b[0m\u001b[1;33m,\u001b[0m \u001b[0msolver_type\u001b[0m\u001b[1;33m,\u001b[0m \u001b[0mkernel\u001b[0m\u001b[1;33m,\u001b[0m \u001b[0mrandom_seed\u001b[0m\u001b[1;33m=\u001b[0m\u001b[0mseed\u001b[0m\u001b[1;33m)\u001b[0m\u001b[1;33m\u001b[0m\u001b[1;33m\u001b[0m\u001b[0m\n\u001b[0m\u001b[0;32m    256\u001b[0m         \u001b[1;31m# see comment on the other call to np.iinfo in this file\u001b[0m\u001b[1;33m\u001b[0m\u001b[1;33m\u001b[0m\u001b[0m\n\u001b[0;32m    257\u001b[0m \u001b[1;33m\u001b[0m\u001b[0m\n",
      "\u001b[1;32m~\\miniconda3\\lib\\site-packages\\sklearn\\svm\\_base.py\u001b[0m in \u001b[0;36m_dense_fit\u001b[1;34m(self, X, y, sample_weight, solver_type, kernel, random_seed)\u001b[0m\n\u001b[0;32m    313\u001b[0m             \u001b[0mself\u001b[0m\u001b[1;33m.\u001b[0m\u001b[0m_probB\u001b[0m\u001b[1;33m,\u001b[0m\u001b[1;33m\u001b[0m\u001b[1;33m\u001b[0m\u001b[0m\n\u001b[0;32m    314\u001b[0m             \u001b[0mself\u001b[0m\u001b[1;33m.\u001b[0m\u001b[0mfit_status_\u001b[0m\u001b[1;33m,\u001b[0m\u001b[1;33m\u001b[0m\u001b[1;33m\u001b[0m\u001b[0m\n\u001b[1;32m--> 315\u001b[1;33m         \u001b[1;33m)\u001b[0m \u001b[1;33m=\u001b[0m \u001b[0mlibsvm\u001b[0m\u001b[1;33m.\u001b[0m\u001b[0mfit\u001b[0m\u001b[1;33m(\u001b[0m\u001b[1;33m\u001b[0m\u001b[1;33m\u001b[0m\u001b[0m\n\u001b[0m\u001b[0;32m    316\u001b[0m             \u001b[0mX\u001b[0m\u001b[1;33m,\u001b[0m\u001b[1;33m\u001b[0m\u001b[1;33m\u001b[0m\u001b[0m\n\u001b[0;32m    317\u001b[0m             \u001b[0my\u001b[0m\u001b[1;33m,\u001b[0m\u001b[1;33m\u001b[0m\u001b[1;33m\u001b[0m\u001b[0m\n",
      "\u001b[1;31mKeyboardInterrupt\u001b[0m: "
     ]
    }
   ],
   "source": [
    "from sklearn.svm import SVC\n",
    "\n",
    "# set up tuning pipleine for SVC\n",
    "SVM = SVC().fit(X_train, y_train2)\n",
    "print(\"Training set score: \" + str(SVM.score(X_train, y_train2)))\n",
    "print(\"Validation set score: \" + str(SVM.score(X_val, y_val)))\n",
    "\n",
    "pipe = Pipeline([(\"scaler\", StandardScaler()), (\"classifier\", SVC())])\n",
    "\n",
    "pipe.fit(X_train, y_train2)\n",
    "\n",
    "print(\"Training set score: \" + str(pipe.score(X_train, y_train2)))\n",
    "print(\"Validation set score: \" + str(pipe.score(X_val, y_val)))\n",
    "\n",
    "parameters = {\n",
    "    \"classifier__C\": [0.1, 1, 1000],\n",
    "    #\"classifier__kernel\": [\"rbf\", \"sigmoid\"],\n",
    "    #\"classifier__degree\": [1, 3, 6],\n",
    "    \"classifier__gamma\": [1, 0.01, 0.0001],\n",
    "}\n",
    "\n",
    "grid = GridSearchCV(pipe, parameters, cv=2).fit(X_train, y_train2)\n",
    "\n",
    "print(\"Training set score: \" + str(grid.score(X_train, y_train2)))\n",
    "print(\"Validation set score: \" + str(grid.score(X_val, y_val)))\n",
    "\n",
    "# Access the best set of parameters\n",
    "best_params = grid.best_params_\n",
    "print(best_params)\n",
    "\n",
    "# Stores the optimum model in best_pipe\n",
    "best_pipe_svm = grid.best_estimator_\n",
    "print(best_pipe_svm)\n",
    "\n",
    "result_df = DataFrame.from_dict(grid.cv_results_, orient=\"columns\")\n",
    "print(result_df.columns)\n"
   ]
  },
  {
   "cell_type": "code",
   "execution_count": null,
   "metadata": {},
   "outputs": [],
   "source": [
    "# Time the model training\n",
    "start_time=time.time()\n",
    "best_pipe_svm.fit(X_train, y_train2)\n",
    "end_time=time.time()\n",
    "time_taken_svm = end_time-start_time\n",
    "\n",
    "# Time model validation\n",
    "start_time=time.time()\n",
    "best_pipe_svm.predict(X_val)\n",
    "end_time=time.time()\n",
    "time_taken_svm2 = end_time-start_time\n",
    "\n",
    "print(f\"The SVM takes {time_taken_svm} to train and {time_taken_svm2} to validate with these parameters: {best_pipe_svm}.\")"
   ]
  },
  {
   "cell_type": "code",
   "execution_count": null,
   "metadata": {},
   "outputs": [],
   "source": [
    "# retrain on full dataset\n",
    "final_svm = best_pipe_nn.fit(X_train_original_subset, y_train)\n",
    "final_svm.predict_proba(X_test_original)[:, 1]"
   ]
  },
  {
   "cell_type": "code",
   "execution_count": null,
   "metadata": {},
   "outputs": [],
   "source": [
    "# create submission SVM\n",
    "create_submission(final_svm.predict_proba(X_test_original)[:, 1], \"svm.csv\")"
   ]
  },
  {
   "cell_type": "markdown",
   "metadata": {},
   "source": [
    "6. Ensembles of models (e.g. model bagging, boosting, or stacking)"
   ]
  },
  {
   "cell_type": "code",
   "execution_count": null,
   "metadata": {},
   "outputs": [],
   "source": [
    "from sklearn.ensemble import RandomForestClassifier\n",
    "from sklearn.svm import SVC\n",
    "from sklearn.linear_model import LogisticRegression\n",
    "from sklearn.preprocessing import StandardScaler\n",
    "from sklearn.ensemble import StackingClassifier\n",
    "\n",
    "estimators = [\n",
    "    ('rf', RandomForestClassifier(min_samples_leaf=4, n_estimators=200)),\n",
    "    'nn', MLPClassifier(hidden_layer_sizes=100),\n",
    "    ('svr', Pipeline(StandardScaler(),\n",
    "                          SVC(random_state=2018)))\n",
    "]\n",
    "clf = StackingClassifier(\n",
    "    estimators=estimators, final_estimator=LogisticRegression()\n",
    ")\n",
    "clf.fit(X_train, y_train2).score(X_val, y_val)"
   ]
  },
  {
   "cell_type": "code",
   "execution_count": null,
   "metadata": {},
   "outputs": [],
   "source": [
    "# Time the model training\n",
    "start_time=time.time()\n",
    "clf.fit(X_train, y_train2)\n",
    "end_time=time.time()\n",
    "time_taken_stack = end_time-start_time\n",
    "\n",
    "# Time model validation\n",
    "start_time=time.time()\n",
    "clf.predict(X_val)\n",
    "end_time=time.time()\n",
    "time_taken_stack2 = end_time-start_time\n",
    "\n",
    "print(f\"The stacked model takes {time_taken_stack} to train and {time_taken_stack2} to validate with these parameters: {clf}.\")"
   ]
  },
  {
   "cell_type": "code",
   "execution_count": null,
   "metadata": {},
   "outputs": [],
   "source": [
    "# retrain on full dataset\n",
    "final_stack = clf.fit(X_train_original_subset, y_train)\n",
    "final_stack.predict_proba(X_test_original)[:, 1]"
   ]
  },
  {
   "cell_type": "code",
   "execution_count": null,
   "metadata": {},
   "outputs": [],
   "source": [
    "# create submission stacked model\n",
    "create_submission(final_stack.predict_proba(X_test_original)[:, 1], \"stack.csv\")"
   ]
  },
  {
   "cell_type": "code",
   "execution_count": null,
   "metadata": {},
   "outputs": [],
   "source": [
    "from sklearn.ensemble import BaggingClassifier"
   ]
  },
  {
   "cell_type": "markdown",
   "metadata": {},
   "source": [
    "Plot ROC and PR curves for the three best models - Including: Random guessing, AUC and AP + training and prediction time for full training dataset (train + val)"
   ]
  },
  {
   "cell_type": "code",
   "execution_count": null,
   "metadata": {},
   "outputs": [],
   "source": [
    "from sklearn.metrics import precision_recall_curve, roc_curve, auc\n",
    "from sklearn.linear_model import LogisticRegression\n",
    "from sklearn.ensemble import RandomForestClassifier\n",
    "from sklearn.discriminant_analysis import LinearDiscriminantAnalysis\n",
    "\n",
    "model_lr = LogisticRegression(penalty='l1', C=1e100, solver=\"liblinear\")\n",
    "model_lr_lasso = LogisticRegression(penalty='l1', C=1e-2, solver=\"liblinear\")\n",
    "model_rf = RandomForestClassifier()\n",
    "model_lda = LinearDiscriminantAnalysis()\n",
    "\n",
    "models = [model_lr, model_lr_lasso, model_lda, model_rf]\n",
    "labels = ['Logistic Regression','Logistic Regression + LASSO', 'Linear Discriminant Analysis','Random Forest']\n",
    "\n",
    "# Initialize each plot\n",
    "fig, axs = plt.subplots(1,2,figsize=(12,6))\n",
    "\n",
    "# Plot the chance diagonal and PR random chance lines\n",
    "axs[0].plot((0,1),(0,1),color='lightgrey',linestyle='--', label='Chance')\n",
    "axs[1].plot((0,1),(fraction_positive_examples, fraction_positive_examples),color='lightgrey',linestyle='--', label='Chance')\n",
    "\n",
    "for i, model in enumerate(models):\n",
    "    print(f'Training model: {labels[i]}')\n",
    "    # Fit the model to the data\n",
    "    model.fit(X_train_ohe, y_train)\n",
    "    \n",
    "    # Produce confidence scores from the test data\n",
    "    scores = model.predict_proba(X_test)[:,1]\n",
    "    \n",
    "    # Compute the ROC and PR curve data\n",
    "    fpr, tpr, _ = roc_curve(y_test, scores)\n",
    "    precision, recall, _ = precision_recall_curve(y_test, scores)\n",
    "    roc_auc = auc(fpr,tpr)\n",
    "    \n",
    "    # Plot the ROC curve\n",
    "    axs[0].plot(fpr, tpr, label=labels[i] + ', AUC = {:.3f}'.format(roc_auc))\n",
    "    \n",
    "    # Plot the PR curve\n",
    "    axs[1].plot(recall, precision, label=labels[i])\n",
    "\n",
    "for ax in axs:\n",
    "    ax.axis('square')\n",
    "    ax.set(xlim=(0,1), ylim=(0,1))\n",
    "    ax.legend()\n",
    "axs[0].set(xlabel='False Positive Rate', ylabel='True Positive Rate', title='ROC Curve')\n",
    "axs[1].set(xlabel='Recall', ylabel='Precision', title='Precision Recall Curve')\n",
    "plt.tight_layout()\n",
    "plt.show()"
   ]
  },
  {
   "cell_type": "markdown",
   "metadata": {},
   "source": [
    "Assess the classification performance AND computational efficiency of the models you selected:\n",
    "- Plot the ROC curves and PR curves for your models in two plots: one of ROC curves and one of PR curves. For each of these two plots, compare the performance of the models you selected above and trained on the training data, evaluating them on the validation data. Be sure to plot the line representing random guessing on each plot. One of these models should also be your BEST performing submission on the Kaggle public leaderboard (see below). In the legends of each, include the area under the curve for each model (limit to 3 significant figures). For the ROC curve, this is the AUC; for the PR curve, this is the average precision (AP).\n",
    "- As you train and validate each model time how long it takes to train and validate in each case and create a plot that shows both the training and prediction time for each model included in the ROC and PR curves.\n",
    "- Describe: \n",
    "  - Your process of model selection and hyperparameter tuning\n",
    "  - Which model performed best and your process for identifying/selecting it"
   ]
  },
  {
   "cell_type": "markdown",
   "metadata": {},
   "source": [
    "**ANSWER (c)**\n",
    "*Model selection and hyperparameter tuning*\n",
    "I tested five different models ...\n",
    "*Which model performed best, how did I identify/select it*\n",
    "I evaluated each model's AUC and PR in addition to the time it took to train and validate its performance. I selected the model with the highest AUC and best PR, which was ... "
   ]
  },
  {
   "cell_type": "markdown",
   "metadata": {},
   "source": [
    "**(d) Apply your model \"in practice\".** Make *at least* 5 submissions of different model results to the competition (more submissions are encouraged and you can submit up to 10 per day!). These do not need to be the same that you report on above, but you should select your *most competitive* models.\n",
    "- Produce submissions by applying your model on the test data.\n",
    "- Be sure to RETRAIN YOUR MODEL ON ALL LABELED TRAINING AND VALIDATION DATA before making your predictions on the test data for submission. This will help to maximize your performance on the test data.\n",
    "- In order to get full credit on this problem you must achieve an AUC on the Kaggle public leaderboard above the \"Benchmark\" score (**0.94933**) on the public leaderboard."
   ]
  },
  {
   "cell_type": "code",
   "execution_count": null,
   "metadata": {},
   "outputs": [],
   "source": [
    "################################\n",
    "# Produce submission\n",
    "################################\n",
    "\n",
    "def create_submission(confidence_scores, save_path):\n",
    "    '''Creates an output file of submissions for Kaggle\n",
    "    \n",
    "    Parameters\n",
    "    ----------\n",
    "    confidence_scores : list or numpy array\n",
    "        Confidence scores (from predict_proba methods from classifiers) or\n",
    "        binary predictions (only recommended in cases when predict_proba is \n",
    "        not available)\n",
    "    save_path : string\n",
    "        File path for where to save the submission file.\n",
    "    \n",
    "    Example:\n",
    "    create_submission(my_confidence_scores, './data/submission.csv')\n",
    "\n",
    "    '''\n",
    "    import pandas as pd\n",
    "\n",
    "    submission = pd.DataFrame({\"score\":confidence_scores})\n",
    "    submission.to_csv(save_path, index_label=\"id\")"
   ]
  },
  {
   "cell_type": "markdown",
   "metadata": {},
   "source": [
    "**ANSWER (d)**\n",
    "\n",
    "My final submission was for a model with a score of: , which was the ... model."
   ]
  },
  {
   "cell_type": "markdown",
   "metadata": {},
   "source": [
    "# 2\n",
    "\n",
    "## [25 points] Clustering\n",
    "\n",
    "Clustering can be used to reveal structure between samples of data and assign group membership to similar groups of samples. This exercise will provide you with experience applying clustering algorithms and comparing these techniques on various datasets to experience the pros and cons of these approaches when the structure of the data being clustered varies. For this exercise, we'll explore clustering in two dimensions to make the results more tangible, but in practice these approaches can be applied to any number of dimensions."
   ]
  },
  {
   "cell_type": "markdown",
   "metadata": {},
   "source": [
    "**(a) Run K-means and choose the number of clusters**. Five datasets are provided for you below and the code to load them below. \n",
    "- Scatterplot each dataset\n",
    "- For each dataset run the k-means algorithm for values of $k$ ranging from 1 to 10 and for each plot the \"elbow curve\" where you plot dissimilarity in each case. Here, you can measure dissimilarity using the within-cluster sum-of-squares, which in sklean is know as \"inertia\" and can be accessed through the `inertia_` attribute of a fit KMeans class instance.\n",
    "- For each datasets, where is the elbow in the curve of within-cluster sum-of-squares and why? Is the elbow always clearly visible? When its not clear, you will have to use your judgement in terms of selecting a reasonable number of clusters for the data. *There are also other metrics you can use to explore to measure the quality of cluster fit (but do not have to for this assignment) including the silhouette score, the Calinski-Harabasz index, and the Davies-Bouldin, to name a few within sklearn alone. However, assessing quality of fit without \"preferred\" cluster assignments to compare against (that is, in a truly unsupervised manner) is challenging because measuring cluster fit quality is typically poorly-defined and doesn't generalize across all types of inter- and intra-cluster variation.*\n",
    "- Plot your clustered data (different color for each cluster assignment) for your best $k$-means fit determined from both the elbow curve and your judgement for each dataset and your inspection of the dataset.\n",
    "\n",
    "**(b) Apply DBSCAN**. Vary the `eps` and `min_samples` parameters to get as close as you can to having the same number of clusters as your choices with K-means. In this case, the black points are points that were not assigned to clusters.\n",
    "\n",
    "**(c) Apply Spectral Clustering**. Select the same number of clusters as selected by k-means.\n",
    "\n",
    "**(d) Comment on the strengths and weaknesses of each approach**. In particular, mention: \n",
    "- Which technique worked \"best\" and \"worst\" (as defined by matching how human intuition would cluster the data) on each dataset?\n",
    "- How much effort was required to get good clustering for each method (how much parameter tuning needed to be done)?"
   ]
  },
  {
   "cell_type": "markdown",
   "metadata": {},
   "source": [
    "*Note: for these clustering plots in this question, do NOT include legends indicating cluster assignment; instead just make sure the cluster assignments are clear from the plot (e.g. different colors for each cluster)*\n",
    "\n",
    "Code is provided below for loading the datasets and for making plots with the clusters as distinct colors"
   ]
  },
  {
   "cell_type": "code",
   "execution_count": 5,
   "metadata": {},
   "outputs": [],
   "source": [
    "################################\n",
    "# Load the data\n",
    "################################\n",
    "import os\n",
    "import numpy as np\n",
    "import matplotlib.pyplot as plt\n",
    "from sklearn.datasets import make_blobs, make_moons\n",
    "\n",
    "# Create / load the datasets:\n",
    "n_samples = 1500\n",
    "X0, _ = make_blobs(n_samples=n_samples, centers=2, n_features=2, random_state=0)\n",
    "X1, _ = make_blobs(n_samples=n_samples, centers=5, n_features=2, random_state=0)\n",
    "\n",
    "random_state = 170\n",
    "X, y = make_blobs(n_samples=n_samples, random_state=random_state, cluster_std=1.3)\n",
    "transformation = [[0.6, -0.6], [-0.2, 0.8]]\n",
    "X2 = np.dot(X, transformation)\n",
    "X3, _ = make_blobs(n_samples=n_samples, cluster_std=[1.0, 2.5, 0.5], random_state=random_state)\n",
    "X4, _ = make_moons(n_samples=n_samples, noise=.12)\n",
    "\n",
    "X = [X0, X1, X2, X3, X4]\n",
    "# The datasets are X[i], where i ranges from 0 to 4"
   ]
  },
  {
   "cell_type": "code",
   "execution_count": null,
   "metadata": {},
   "outputs": [],
   "source": [
    "################################\n",
    "# Code to plot clusters\n",
    "################################\n",
    "def plot_cluster(ax, data, cluster_assignments):\n",
    "    '''Plot two-dimensional data clusters\n",
    "    \n",
    "    Parameters\n",
    "    ----------\n",
    "    ax : matplotlib axis\n",
    "        Axis to plot on\n",
    "    data : list or numpy array of size [N x 2] \n",
    "        Clustered data\n",
    "    cluster_assignments : list or numpy array [N]\n",
    "        Cluster assignments for each point in data\n",
    "\n",
    "    '''\n",
    "    clusters = np.unique(cluster_assignments)\n",
    "    n_clusters = len(clusters)\n",
    "    for ca in clusters:\n",
    "        kwargs = {}\n",
    "        if ca == -1:\n",
    "            # if samples are not assigned to a cluster (have a cluster assignment of -1, color them gray)\n",
    "            kwargs = {'color':'gray'}\n",
    "            n_clusters = n_clusters - 1\n",
    "        ax.scatter(data[cluster_assignments==ca, 0], data[cluster_assignments==ca, 1],s=5,alpha=0.5, **kwargs)\n",
    "        ax.set_xlabel('feature 1')\n",
    "        ax.set_ylabel('feature 2')\n",
    "        ax.set_title(f'No. Clusters = {n_clusters}')\n",
    "        ax.axis('equal')"
   ]
  },
  {
   "cell_type": "markdown",
   "metadata": {},
   "source": [
    "**ANSWER Question 2**"
   ]
  },
  {
   "cell_type": "code",
   "execution_count": null,
   "metadata": {},
   "outputs": [],
   "source": [
    "# Plot\n",
    "K = [2, 3, 2, 3, 2]\n",
    "fig, axs = plot.subplots(1, 5, figsize=(12, 8))\n",
    "\n",
    "for i, a in enumerate(axs):\n",
    "    ca = KMeans(n_cluster=K[i]).fit(X[i]).labels_\n",
    "    plot_cluster(a, X[i], ca)"
   ]
  },
  {
   "cell_type": "markdown",
   "metadata": {},
   "source": [
    "# 3\n",
    "\n",
    "## [25 points] Dimensionality reduction and visualization of digits with PCA and t-SNE\n",
    "\n",
    "**(a)** Reduce the dimensionality of the data with PCA for data visualization. Load the `scikit-learn` digits dataset (code provided to do this below). Apply PCA and reduce the data (with the associated cluster labels 0-9) into a 2-dimensional space. Plot the data with labels in this two dimensional space (labels can be colors, shapes, or using the actual numbers to represent the data - definitely include a legend in your plot).\n",
    "\n",
    "**(b)** Create a plot showing the cumulative fraction of variance explained as you incorporate from $1$ through all $D$ principal components of the data (where $D$ is the dimensionality of the data). \n",
    "- What fraction of variance in the data is UNEXPLAINED by the first two principal components of the data? \n",
    "- Briefly comment on how this may impact how well-clustered the data are. \n",
    "*You can use the `explained_variance_` attribute of the PCA module in `scikit-learn` to assist with this question*\n",
    "\n",
    "**(c)** Reduce the dimensionality of the data with t-SNE for data visualization. T-distributed stochastic neighborhood embedding (t-SNE) is a nonlinear dimensionality reduction technique that is particularly adept at embedding the data into lower 2 or 3 dimensional spaces. Apply t-SNE using the `scikit-learn` implementation to the digits dataset and plot it in 2-dimensions (with associated cluster labels 0-9). You may need to adjust the parameters to get acceptable performance. You can read more about how to use t-SNE effectively [here](https://distill.pub/2016/misread-tsne/).\n",
    "\n",
    "**(d)** Briefy compare/contrast the performance of these two techniques. \n",
    "- Which seemed to cluster the data best and why?\n",
    "- Notice that t-SNE doesn't have a `fit` method, but only a `fit_transform` method. Why is this? What implications does this imply for using this method?\n",
    "*Note: Remember that you typically will not have labels available in most problems.*\n",
    "\n",
    "Code is provided for loading the data below."
   ]
  },
  {
   "cell_type": "code",
   "execution_count": null,
   "metadata": {},
   "outputs": [],
   "source": [
    "################################\n",
    "# Load the data\n",
    "################################\n",
    "from sklearn import datasets\n",
    "from sklearn.decomposition import PCA\n",
    "from sklearn.manifold import TSNE\n",
    "\n",
    "# load dataset\n",
    "digits = datasets.load_digits()\n",
    "n_sample = digits.target.shape[0]\n",
    "n_feature = digits.images.shape[1] * digits.images.shape[2]\n",
    "X_digits = np.zeros((n_sample, n_feature))\n",
    "for i in range(n_sample):\n",
    "    X_digits[i, :] = digits.images[i, :, :].flatten()\n",
    "y_digits = digits.target"
   ]
  },
  {
   "cell_type": "markdown",
   "metadata": {},
   "source": [
    "**ANSWER Question 3**"
   ]
  }
 ],
 "metadata": {
  "anaconda-cloud": {},
  "kernelspec": {
   "display_name": "Python 3",
   "language": "python",
   "name": "python3"
  },
  "language_info": {
   "codemirror_mode": {
    "name": "ipython",
    "version": 3
   },
   "file_extension": ".py",
   "mimetype": "text/x-python",
   "name": "python",
   "nbconvert_exporter": "python",
   "pygments_lexer": "ipython3",
   "version": "3.9.7"
  },
  "nteract": {
   "version": "0.22.0"
  },
  "varInspector": {
   "cols": {
    "lenName": 16,
    "lenType": 16,
    "lenVar": 40
   },
   "kernels_config": {
    "python": {
     "delete_cmd_postfix": "",
     "delete_cmd_prefix": "del ",
     "library": "var_list.py",
     "varRefreshCmd": "print(var_dic_list())"
    },
    "r": {
     "delete_cmd_postfix": ") ",
     "delete_cmd_prefix": "rm(",
     "library": "var_list.r",
     "varRefreshCmd": "cat(var_dic_list()) "
    }
   },
   "position": {
    "height": "644px",
    "left": "1473px",
    "right": "20px",
    "top": "122px",
    "width": "367px"
   },
   "types_to_exclude": [
    "module",
    "function",
    "builtin_function_or_method",
    "instance",
    "_Feature"
   ],
   "window_display": false
  }
 },
 "nbformat": 4,
 "nbformat_minor": 4
}
